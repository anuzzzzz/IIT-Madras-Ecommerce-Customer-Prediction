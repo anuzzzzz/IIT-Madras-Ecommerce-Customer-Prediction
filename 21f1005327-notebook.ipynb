{
 "cells": [
  {
   "cell_type": "code",
   "execution_count": 1,
   "id": "755f0c00",
   "metadata": {
    "_cell_guid": "b1076dfc-b9ad-4769-8c92-a6c4dae69d19",
    "_uuid": "8f2839f25d086af736a60e9eeb907d3b93b6e0e5",
    "execution": {
     "iopub.execute_input": "2023-04-27T04:48:22.683706Z",
     "iopub.status.busy": "2023-04-27T04:48:22.682671Z",
     "iopub.status.idle": "2023-04-27T04:48:22.699385Z",
     "shell.execute_reply": "2023-04-27T04:48:22.698123Z"
    },
    "papermill": {
     "duration": 0.068891,
     "end_time": "2023-04-27T04:48:22.702419",
     "exception": false,
     "start_time": "2023-04-27T04:48:22.633528",
     "status": "completed"
    },
    "tags": []
   },
   "outputs": [
    {
     "name": "stdout",
     "output_type": "stream",
     "text": [
      "/kaggle/input/e-commerce-shoppers-behaviour-understanding/test_data_v2.csv\n",
      "/kaggle/input/e-commerce-shoppers-behaviour-understanding/train_data_v2.csv\n",
      "/kaggle/input/e-commerce-shoppers-behaviour-understanding/sample.csv\n"
     ]
    }
   ],
   "source": [
    "# This Python 3 environment comes with many helpful analytics libraries installed\n",
    "# It is defined by the kaggle/python Docker image: https://github.com/kaggle/docker-python\n",
    "# For example, here's several helpful packages to load\n",
    "\n",
    "import numpy as np # linear algebra\n",
    "import pandas as pd # data processing, CSV file I/O (e.g. pd.read_csv)\n",
    "\n",
    "# Input data files are available in the read-only \"../input/\" directory\n",
    "# For example, running this (by clicking run or pressing Shift+Enter) will list all files under the input directory\n",
    "\n",
    "import os\n",
    "for dirname, _, filenames in os.walk('/kaggle/input'):\n",
    "    for filename in filenames:\n",
    "        print(os.path.join(dirname, filename))\n",
    "\n",
    "# You can write up to 20GB to the current directory (/kaggle/working/) that gets preserved as output when you create a version using \"Save & Run All\" \n",
    "# You can also write temporary files to /kaggle/temp/, but they won't be saved outside of the current session"
   ]
  },
  {
   "cell_type": "code",
   "execution_count": 2,
   "id": "6ce8e092",
   "metadata": {
    "execution": {
     "iopub.execute_input": "2023-04-27T04:48:22.795682Z",
     "iopub.status.busy": "2023-04-27T04:48:22.794471Z",
     "iopub.status.idle": "2023-04-27T04:48:24.574772Z",
     "shell.execute_reply": "2023-04-27T04:48:24.573579Z"
    },
    "papermill": {
     "duration": 1.829622,
     "end_time": "2023-04-27T04:48:24.578191",
     "exception": false,
     "start_time": "2023-04-27T04:48:22.748569",
     "status": "completed"
    },
    "tags": []
   },
   "outputs": [],
   "source": [
    "#Include all necessary Imports in this cell.\n",
    "\n",
    "import matplotlib.pyplot as plt\n",
    "import seaborn as sns\n",
    "from imblearn.over_sampling import SMOTENC\n",
    "from imblearn.under_sampling import RandomUnderSampler\n",
    "\n",
    "from sklearn.impute import SimpleImputer, KNNImputer\n",
    "from sklearn.preprocessing import StandardScaler, OneHotEncoder, OrdinalEncoder, MinMaxScaler\n",
    "from sklearn.pipeline import Pipeline, FeatureUnion\n",
    "from sklearn.compose import ColumnTransformer\n",
    "\n",
    "from sklearn.model_selection import GridSearchCV\n",
    "from sklearn.model_selection import StratifiedShuffleSplit,cross_val_score\n",
    "from sklearn.model_selection import train_test_split,KFold,StratifiedKFold\n",
    "\n",
    "from sklearn.decomposition import PCA\n",
    "from sklearn.feature_selection import SelectFromModel\n",
    "\n",
    "from sklearn.svm import SVC\n",
    "from sklearn.linear_model import Perceptron\n",
    "from sklearn.naive_bayes import GaussianNB\n",
    "from sklearn.neighbors import KNeighborsClassifier\n",
    "from sklearn.linear_model import LogisticRegression\n",
    "from sklearn.tree import DecisionTreeClassifier\n",
    "from sklearn.ensemble import VotingClassifier\n",
    "from sklearn.ensemble import AdaBoostClassifier\n",
    "from sklearn.ensemble import BaggingClassifier\n",
    "from sklearn.ensemble import RandomForestClassifier\n",
    "from sklearn.ensemble import GradientBoostingClassifier\n",
    "from sklearn.ensemble import StackingClassifier\n",
    "from sklearn.ensemble import ExtraTreesClassifier\n",
    "from sklearn.neural_network import MLPClassifier\n",
    "from xgboost import XGBClassifier\n",
    "\n",
    "\n",
    "from sklearn.metrics import ConfusionMatrixDisplay,accuracy_score,roc_curve,precision_recall_curve\n",
    "from sklearn.metrics import f1_score\n",
    "from sklearn.metrics import classification_report\n",
    "from sklearn.metrics import confusion_matrix"
   ]
  },
  {
   "cell_type": "code",
   "execution_count": 3,
   "id": "64117104",
   "metadata": {
    "execution": {
     "iopub.execute_input": "2023-04-27T04:48:24.675987Z",
     "iopub.status.busy": "2023-04-27T04:48:24.674829Z",
     "iopub.status.idle": "2023-04-27T04:48:24.828213Z",
     "shell.execute_reply": "2023-04-27T04:48:24.826877Z"
    },
    "papermill": {
     "duration": 0.202824,
     "end_time": "2023-04-27T04:48:24.831015",
     "exception": false,
     "start_time": "2023-04-27T04:48:24.628191",
     "status": "completed"
    },
    "tags": []
   },
   "outputs": [],
   "source": [
    "#Read data as pandas dataframe\n",
    "\n",
    "test_data = pd.read_csv(\"/kaggle/input/e-commerce-shoppers-behaviour-understanding/test_data_v2.csv\")\n",
    "train_data = pd.read_csv(\"/kaggle/input/e-commerce-shoppers-behaviour-understanding/train_data_v2.csv\")\n",
    "sample_data = pd.read_csv(\"/kaggle/input/e-commerce-shoppers-behaviour-understanding/sample.csv\")"
   ]
  },
  {
   "cell_type": "code",
   "execution_count": 4,
   "id": "f6ddc158",
   "metadata": {
    "execution": {
     "iopub.execute_input": "2023-04-27T04:48:24.921505Z",
     "iopub.status.busy": "2023-04-27T04:48:24.920803Z",
     "iopub.status.idle": "2023-04-27T04:48:24.940379Z",
     "shell.execute_reply": "2023-04-27T04:48:24.939477Z"
    },
    "papermill": {
     "duration": 0.067454,
     "end_time": "2023-04-27T04:48:24.942940",
     "exception": false,
     "start_time": "2023-04-27T04:48:24.875486",
     "status": "completed"
    },
    "tags": []
   },
   "outputs": [],
   "source": [
    "#Split the train_data to features and labels\n",
    "\n",
    "X = pd.DataFrame(train_data.drop(labels='Made_Purchase',axis=1),columns=train_data.columns[:-1])\n",
    "y = pd.DataFrame(train_data['Made_Purchase'],columns=['Made_Purchase'])"
   ]
  },
  {
   "cell_type": "markdown",
   "id": "ff926105",
   "metadata": {
    "papermill": {
     "duration": 0.043904,
     "end_time": "2023-04-27T04:48:25.031123",
     "exception": false,
     "start_time": "2023-04-27T04:48:24.987219",
     "status": "completed"
    },
    "tags": []
   },
   "source": [
    "<h2>Observe the data</h2>"
   ]
  },
  {
   "cell_type": "code",
   "execution_count": 5,
   "id": "504eeec8",
   "metadata": {
    "execution": {
     "iopub.execute_input": "2023-04-27T04:48:25.122568Z",
     "iopub.status.busy": "2023-04-27T04:48:25.121147Z",
     "iopub.status.idle": "2023-04-27T04:48:25.129138Z",
     "shell.execute_reply": "2023-04-27T04:48:25.127566Z"
    },
    "papermill": {
     "duration": 0.056347,
     "end_time": "2023-04-27T04:48:25.131710",
     "exception": false,
     "start_time": "2023-04-27T04:48:25.075363",
     "status": "completed"
    },
    "tags": []
   },
   "outputs": [
    {
     "name": "stdout",
     "output_type": "stream",
     "text": [
      "Training data shape: (14731, 21)\n",
      "Training labels shape: (14731, 1)\n",
      "Test data shape: (6599, 21)\n"
     ]
    }
   ],
   "source": [
    "print(\"Training data shape: \" + str(X.shape))\n",
    "print(\"Training labels shape: \" + str(y.shape))\n",
    "print(\"Test data shape: \" + str(test_data.shape))"
   ]
  },
  {
   "cell_type": "code",
   "execution_count": 6,
   "id": "c590f3fa",
   "metadata": {
    "execution": {
     "iopub.execute_input": "2023-04-27T04:48:25.222958Z",
     "iopub.status.busy": "2023-04-27T04:48:25.222539Z",
     "iopub.status.idle": "2023-04-27T04:48:25.279684Z",
     "shell.execute_reply": "2023-04-27T04:48:25.278480Z"
    },
    "papermill": {
     "duration": 0.105673,
     "end_time": "2023-04-27T04:48:25.282427",
     "exception": false,
     "start_time": "2023-04-27T04:48:25.176754",
     "status": "completed"
    },
    "tags": []
   },
   "outputs": [
    {
     "data": {
      "text/html": [
       "<div>\n",
       "<style scoped>\n",
       "    .dataframe tbody tr th:only-of-type {\n",
       "        vertical-align: middle;\n",
       "    }\n",
       "\n",
       "    .dataframe tbody tr th {\n",
       "        vertical-align: top;\n",
       "    }\n",
       "\n",
       "    .dataframe thead th {\n",
       "        text-align: right;\n",
       "    }\n",
       "</style>\n",
       "<table border=\"1\" class=\"dataframe\">\n",
       "  <thead>\n",
       "    <tr style=\"text-align: right;\">\n",
       "      <th></th>\n",
       "      <th>HomePage</th>\n",
       "      <th>HomePage_Duration</th>\n",
       "      <th>LandingPage</th>\n",
       "      <th>LandingPage_Duration</th>\n",
       "      <th>ProductDescriptionPage</th>\n",
       "      <th>ProductDescriptionPage_Duration</th>\n",
       "      <th>GoogleMetric:Bounce Rates</th>\n",
       "      <th>GoogleMetric:Exit Rates</th>\n",
       "      <th>GoogleMetric:Page Values</th>\n",
       "      <th>SeasonalPurchase</th>\n",
       "      <th>...</th>\n",
       "      <th>OS</th>\n",
       "      <th>SearchEngine</th>\n",
       "      <th>Zone</th>\n",
       "      <th>Type of Traffic</th>\n",
       "      <th>CustomerType</th>\n",
       "      <th>Gender</th>\n",
       "      <th>Cookies Setting</th>\n",
       "      <th>Education</th>\n",
       "      <th>Marital Status</th>\n",
       "      <th>WeekendPurchase</th>\n",
       "    </tr>\n",
       "  </thead>\n",
       "  <tbody>\n",
       "    <tr>\n",
       "      <th>0</th>\n",
       "      <td>0.0</td>\n",
       "      <td>0.0</td>\n",
       "      <td>0.0</td>\n",
       "      <td>0.0</td>\n",
       "      <td>1.0</td>\n",
       "      <td>0.000000</td>\n",
       "      <td>0.200000</td>\n",
       "      <td>0.200000</td>\n",
       "      <td>0.0</td>\n",
       "      <td>0.0</td>\n",
       "      <td>...</td>\n",
       "      <td>4.0</td>\n",
       "      <td>1.0</td>\n",
       "      <td>9.0</td>\n",
       "      <td>3.0</td>\n",
       "      <td>Returning_Visitor</td>\n",
       "      <td>Not Specified</td>\n",
       "      <td>Deny</td>\n",
       "      <td>Not Specified</td>\n",
       "      <td>Other</td>\n",
       "      <td>0.0</td>\n",
       "    </tr>\n",
       "    <tr>\n",
       "      <th>1</th>\n",
       "      <td>0.0</td>\n",
       "      <td>0.0</td>\n",
       "      <td>0.0</td>\n",
       "      <td>0.0</td>\n",
       "      <td>2.0</td>\n",
       "      <td>2.666667</td>\n",
       "      <td>0.050000</td>\n",
       "      <td>0.140000</td>\n",
       "      <td>0.0</td>\n",
       "      <td>0.0</td>\n",
       "      <td>...</td>\n",
       "      <td>3.0</td>\n",
       "      <td>2.0</td>\n",
       "      <td>2.0</td>\n",
       "      <td>4.0</td>\n",
       "      <td>Returning_Visitor</td>\n",
       "      <td>Female</td>\n",
       "      <td>Deny</td>\n",
       "      <td>Others</td>\n",
       "      <td>Married</td>\n",
       "      <td>0.0</td>\n",
       "    </tr>\n",
       "    <tr>\n",
       "      <th>2</th>\n",
       "      <td>0.0</td>\n",
       "      <td>0.0</td>\n",
       "      <td>0.0</td>\n",
       "      <td>0.0</td>\n",
       "      <td>10.0</td>\n",
       "      <td>627.500000</td>\n",
       "      <td>0.020000</td>\n",
       "      <td>0.050000</td>\n",
       "      <td>0.0</td>\n",
       "      <td>0.0</td>\n",
       "      <td>...</td>\n",
       "      <td>3.0</td>\n",
       "      <td>3.0</td>\n",
       "      <td>1.0</td>\n",
       "      <td>4.0</td>\n",
       "      <td>Returning_Visitor</td>\n",
       "      <td>Female</td>\n",
       "      <td>ALL</td>\n",
       "      <td>Others</td>\n",
       "      <td>Married</td>\n",
       "      <td>1.0</td>\n",
       "    </tr>\n",
       "    <tr>\n",
       "      <th>3</th>\n",
       "      <td>0.0</td>\n",
       "      <td>0.0</td>\n",
       "      <td>0.0</td>\n",
       "      <td>0.0</td>\n",
       "      <td>1.0</td>\n",
       "      <td>0.000000</td>\n",
       "      <td>0.200000</td>\n",
       "      <td>0.200000</td>\n",
       "      <td>0.0</td>\n",
       "      <td>0.4</td>\n",
       "      <td>...</td>\n",
       "      <td>2.0</td>\n",
       "      <td>4.0</td>\n",
       "      <td>3.0</td>\n",
       "      <td>3.0</td>\n",
       "      <td>Returning_Visitor</td>\n",
       "      <td>Male</td>\n",
       "      <td>ALL</td>\n",
       "      <td>Diploma</td>\n",
       "      <td>Single</td>\n",
       "      <td>0.0</td>\n",
       "    </tr>\n",
       "    <tr>\n",
       "      <th>4</th>\n",
       "      <td>1.0</td>\n",
       "      <td>0.0</td>\n",
       "      <td>0.0</td>\n",
       "      <td>0.0</td>\n",
       "      <td>0.0</td>\n",
       "      <td>0.000000</td>\n",
       "      <td>0.200000</td>\n",
       "      <td>0.200000</td>\n",
       "      <td>0.0</td>\n",
       "      <td>0.0</td>\n",
       "      <td>...</td>\n",
       "      <td>1.0</td>\n",
       "      <td>2.0</td>\n",
       "      <td>1.0</td>\n",
       "      <td>5.0</td>\n",
       "      <td>Returning_Visitor</td>\n",
       "      <td>Male</td>\n",
       "      <td>Deny</td>\n",
       "      <td>Diploma</td>\n",
       "      <td>Other</td>\n",
       "      <td>1.0</td>\n",
       "    </tr>\n",
       "    <tr>\n",
       "      <th>5</th>\n",
       "      <td>0.0</td>\n",
       "      <td>0.0</td>\n",
       "      <td>0.0</td>\n",
       "      <td>0.0</td>\n",
       "      <td>3.0</td>\n",
       "      <td>738.000000</td>\n",
       "      <td>0.000000</td>\n",
       "      <td>0.022222</td>\n",
       "      <td>0.0</td>\n",
       "      <td>0.4</td>\n",
       "      <td>...</td>\n",
       "      <td>2.0</td>\n",
       "      <td>4.0</td>\n",
       "      <td>1.0</td>\n",
       "      <td>2.0</td>\n",
       "      <td>Returning_Visitor</td>\n",
       "      <td>Female</td>\n",
       "      <td>Required</td>\n",
       "      <td>Not Specified</td>\n",
       "      <td>Other</td>\n",
       "      <td>0.0</td>\n",
       "    </tr>\n",
       "    <tr>\n",
       "      <th>6</th>\n",
       "      <td>0.0</td>\n",
       "      <td>0.0</td>\n",
       "      <td>0.0</td>\n",
       "      <td>0.0</td>\n",
       "      <td>3.0</td>\n",
       "      <td>395.000000</td>\n",
       "      <td>0.000000</td>\n",
       "      <td>0.066667</td>\n",
       "      <td>0.0</td>\n",
       "      <td>0.0</td>\n",
       "      <td>...</td>\n",
       "      <td>1.0</td>\n",
       "      <td>1.0</td>\n",
       "      <td>3.0</td>\n",
       "      <td>3.0</td>\n",
       "      <td>Returning_Visitor</td>\n",
       "      <td>Female</td>\n",
       "      <td>ALL</td>\n",
       "      <td>Diploma</td>\n",
       "      <td>Married</td>\n",
       "      <td>0.0</td>\n",
       "    </tr>\n",
       "    <tr>\n",
       "      <th>7</th>\n",
       "      <td>0.0</td>\n",
       "      <td>0.0</td>\n",
       "      <td>0.0</td>\n",
       "      <td>0.0</td>\n",
       "      <td>7.0</td>\n",
       "      <td>280.500000</td>\n",
       "      <td>0.000000</td>\n",
       "      <td>0.028571</td>\n",
       "      <td>0.0</td>\n",
       "      <td>0.0</td>\n",
       "      <td>...</td>\n",
       "      <td>1.0</td>\n",
       "      <td>1.0</td>\n",
       "      <td>1.0</td>\n",
       "      <td>3.0</td>\n",
       "      <td>Returning_Visitor</td>\n",
       "      <td>Female</td>\n",
       "      <td>Deny</td>\n",
       "      <td>Diploma</td>\n",
       "      <td>Other</td>\n",
       "      <td>0.0</td>\n",
       "    </tr>\n",
       "    <tr>\n",
       "      <th>8</th>\n",
       "      <td>0.0</td>\n",
       "      <td>0.0</td>\n",
       "      <td>0.0</td>\n",
       "      <td>0.0</td>\n",
       "      <td>6.0</td>\n",
       "      <td>98.000000</td>\n",
       "      <td>0.000000</td>\n",
       "      <td>0.066667</td>\n",
       "      <td>0.0</td>\n",
       "      <td>0.0</td>\n",
       "      <td>...</td>\n",
       "      <td>2.0</td>\n",
       "      <td>5.0</td>\n",
       "      <td>1.0</td>\n",
       "      <td>3.0</td>\n",
       "      <td>Returning_Visitor</td>\n",
       "      <td>Not Specified</td>\n",
       "      <td>Deny</td>\n",
       "      <td>Graduate</td>\n",
       "      <td>Single</td>\n",
       "      <td>0.0</td>\n",
       "    </tr>\n",
       "    <tr>\n",
       "      <th>9</th>\n",
       "      <td>0.0</td>\n",
       "      <td>0.0</td>\n",
       "      <td>0.0</td>\n",
       "      <td>0.0</td>\n",
       "      <td>2.0</td>\n",
       "      <td>68.000000</td>\n",
       "      <td>0.000000</td>\n",
       "      <td>0.100000</td>\n",
       "      <td>0.0</td>\n",
       "      <td>0.0</td>\n",
       "      <td>...</td>\n",
       "      <td>3.0</td>\n",
       "      <td>2.0</td>\n",
       "      <td>3.0</td>\n",
       "      <td>3.0</td>\n",
       "      <td>Returning_Visitor</td>\n",
       "      <td>Male</td>\n",
       "      <td>Required</td>\n",
       "      <td>Diploma</td>\n",
       "      <td>Single</td>\n",
       "      <td>0.0</td>\n",
       "    </tr>\n",
       "    <tr>\n",
       "      <th>10</th>\n",
       "      <td>2.0</td>\n",
       "      <td>53.0</td>\n",
       "      <td>0.0</td>\n",
       "      <td>0.0</td>\n",
       "      <td>23.0</td>\n",
       "      <td>1668.285119</td>\n",
       "      <td>0.008333</td>\n",
       "      <td>0.016313</td>\n",
       "      <td>0.0</td>\n",
       "      <td>0.0</td>\n",
       "      <td>...</td>\n",
       "      <td>1.0</td>\n",
       "      <td>1.0</td>\n",
       "      <td>9.0</td>\n",
       "      <td>3.0</td>\n",
       "      <td>Returning_Visitor</td>\n",
       "      <td>Not Specified</td>\n",
       "      <td>Deny</td>\n",
       "      <td>Diploma</td>\n",
       "      <td>Married</td>\n",
       "      <td>0.0</td>\n",
       "    </tr>\n",
       "    <tr>\n",
       "      <th>11</th>\n",
       "      <td>0.0</td>\n",
       "      <td>0.0</td>\n",
       "      <td>0.0</td>\n",
       "      <td>0.0</td>\n",
       "      <td>1.0</td>\n",
       "      <td>0.000000</td>\n",
       "      <td>0.200000</td>\n",
       "      <td>0.200000</td>\n",
       "      <td>0.0</td>\n",
       "      <td>0.0</td>\n",
       "      <td>...</td>\n",
       "      <td>1.0</td>\n",
       "      <td>1.0</td>\n",
       "      <td>4.0</td>\n",
       "      <td>3.0</td>\n",
       "      <td>Returning_Visitor</td>\n",
       "      <td>Male</td>\n",
       "      <td>Required</td>\n",
       "      <td>Graduate</td>\n",
       "      <td>Single</td>\n",
       "      <td>0.0</td>\n",
       "    </tr>\n",
       "    <tr>\n",
       "      <th>12</th>\n",
       "      <td>0.0</td>\n",
       "      <td>0.0</td>\n",
       "      <td>0.0</td>\n",
       "      <td>0.0</td>\n",
       "      <td>13.0</td>\n",
       "      <td>334.966667</td>\n",
       "      <td>0.000000</td>\n",
       "      <td>0.007692</td>\n",
       "      <td>0.0</td>\n",
       "      <td>0.0</td>\n",
       "      <td>...</td>\n",
       "      <td>1.0</td>\n",
       "      <td>1.0</td>\n",
       "      <td>1.0</td>\n",
       "      <td>4.0</td>\n",
       "      <td>Returning_Visitor</td>\n",
       "      <td>Male</td>\n",
       "      <td>Required</td>\n",
       "      <td>Diploma</td>\n",
       "      <td>Single</td>\n",
       "      <td>1.0</td>\n",
       "    </tr>\n",
       "    <tr>\n",
       "      <th>13</th>\n",
       "      <td>0.0</td>\n",
       "      <td>0.0</td>\n",
       "      <td>0.0</td>\n",
       "      <td>0.0</td>\n",
       "      <td>2.0</td>\n",
       "      <td>32.000000</td>\n",
       "      <td>0.000000</td>\n",
       "      <td>0.100000</td>\n",
       "      <td>0.0</td>\n",
       "      <td>0.0</td>\n",
       "      <td>...</td>\n",
       "      <td>2.0</td>\n",
       "      <td>2.0</td>\n",
       "      <td>1.0</td>\n",
       "      <td>3.0</td>\n",
       "      <td>Returning_Visitor</td>\n",
       "      <td>Female</td>\n",
       "      <td>Deny</td>\n",
       "      <td>Diploma</td>\n",
       "      <td>Other</td>\n",
       "      <td>0.0</td>\n",
       "    </tr>\n",
       "    <tr>\n",
       "      <th>14</th>\n",
       "      <td>0.0</td>\n",
       "      <td>0.0</td>\n",
       "      <td>0.0</td>\n",
       "      <td>0.0</td>\n",
       "      <td>20.0</td>\n",
       "      <td>2981.166667</td>\n",
       "      <td>0.000000</td>\n",
       "      <td>0.010000</td>\n",
       "      <td>0.0</td>\n",
       "      <td>0.0</td>\n",
       "      <td>...</td>\n",
       "      <td>2.0</td>\n",
       "      <td>4.0</td>\n",
       "      <td>4.0</td>\n",
       "      <td>4.0</td>\n",
       "      <td>Returning_Visitor</td>\n",
       "      <td>Female</td>\n",
       "      <td>Deny</td>\n",
       "      <td>Graduate</td>\n",
       "      <td>Other</td>\n",
       "      <td>0.0</td>\n",
       "    </tr>\n",
       "    <tr>\n",
       "      <th>15</th>\n",
       "      <td>0.0</td>\n",
       "      <td>0.0</td>\n",
       "      <td>0.0</td>\n",
       "      <td>0.0</td>\n",
       "      <td>8.0</td>\n",
       "      <td>136.166667</td>\n",
       "      <td>0.000000</td>\n",
       "      <td>0.008333</td>\n",
       "      <td>0.0</td>\n",
       "      <td>1.0</td>\n",
       "      <td>...</td>\n",
       "      <td>2.0</td>\n",
       "      <td>2.0</td>\n",
       "      <td>5.0</td>\n",
       "      <td>1.0</td>\n",
       "      <td>Returning_Visitor</td>\n",
       "      <td>Not Specified</td>\n",
       "      <td>Required</td>\n",
       "      <td>Others</td>\n",
       "      <td>Other</td>\n",
       "      <td>1.0</td>\n",
       "    </tr>\n",
       "    <tr>\n",
       "      <th>16</th>\n",
       "      <td>0.0</td>\n",
       "      <td>0.0</td>\n",
       "      <td>0.0</td>\n",
       "      <td>0.0</td>\n",
       "      <td>2.0</td>\n",
       "      <td>0.000000</td>\n",
       "      <td>0.200000</td>\n",
       "      <td>0.200000</td>\n",
       "      <td>0.0</td>\n",
       "      <td>0.0</td>\n",
       "      <td>...</td>\n",
       "      <td>3.0</td>\n",
       "      <td>3.0</td>\n",
       "      <td>1.0</td>\n",
       "      <td>3.0</td>\n",
       "      <td>Returning_Visitor</td>\n",
       "      <td>Female</td>\n",
       "      <td>ALL</td>\n",
       "      <td>Others</td>\n",
       "      <td>Single</td>\n",
       "      <td>0.0</td>\n",
       "    </tr>\n",
       "    <tr>\n",
       "      <th>17</th>\n",
       "      <td>0.0</td>\n",
       "      <td>0.0</td>\n",
       "      <td>0.0</td>\n",
       "      <td>0.0</td>\n",
       "      <td>2.0</td>\n",
       "      <td>15.000000</td>\n",
       "      <td>0.000000</td>\n",
       "      <td>0.100000</td>\n",
       "      <td>0.0</td>\n",
       "      <td>0.8</td>\n",
       "      <td>...</td>\n",
       "      <td>2.0</td>\n",
       "      <td>4.0</td>\n",
       "      <td>1.0</td>\n",
       "      <td>3.0</td>\n",
       "      <td>Returning_Visitor</td>\n",
       "      <td>Not Specified</td>\n",
       "      <td>Required</td>\n",
       "      <td>Others</td>\n",
       "      <td>Other</td>\n",
       "      <td>0.0</td>\n",
       "    </tr>\n",
       "    <tr>\n",
       "      <th>18</th>\n",
       "      <td>0.0</td>\n",
       "      <td>0.0</td>\n",
       "      <td>0.0</td>\n",
       "      <td>0.0</td>\n",
       "      <td>5.0</td>\n",
       "      <td>156.000000</td>\n",
       "      <td>0.000000</td>\n",
       "      <td>0.040000</td>\n",
       "      <td>0.0</td>\n",
       "      <td>0.0</td>\n",
       "      <td>...</td>\n",
       "      <td>1.0</td>\n",
       "      <td>1.0</td>\n",
       "      <td>9.0</td>\n",
       "      <td>3.0</td>\n",
       "      <td>Returning_Visitor</td>\n",
       "      <td>Male</td>\n",
       "      <td>Deny</td>\n",
       "      <td>Not Specified</td>\n",
       "      <td>Single</td>\n",
       "      <td>0.0</td>\n",
       "    </tr>\n",
       "    <tr>\n",
       "      <th>19</th>\n",
       "      <td>4.0</td>\n",
       "      <td>64.6</td>\n",
       "      <td>0.0</td>\n",
       "      <td>0.0</td>\n",
       "      <td>32.0</td>\n",
       "      <td>1135.444444</td>\n",
       "      <td>0.002857</td>\n",
       "      <td>0.009524</td>\n",
       "      <td>0.0</td>\n",
       "      <td>0.0</td>\n",
       "      <td>...</td>\n",
       "      <td>2.0</td>\n",
       "      <td>2.0</td>\n",
       "      <td>1.0</td>\n",
       "      <td>3.0</td>\n",
       "      <td>Returning_Visitor</td>\n",
       "      <td>Male</td>\n",
       "      <td>ALL</td>\n",
       "      <td>Graduate</td>\n",
       "      <td>Single</td>\n",
       "      <td>0.0</td>\n",
       "    </tr>\n",
       "  </tbody>\n",
       "</table>\n",
       "<p>20 rows × 21 columns</p>\n",
       "</div>"
      ],
      "text/plain": [
       "    HomePage  HomePage_Duration  LandingPage  LandingPage_Duration  \\\n",
       "0        0.0                0.0          0.0                   0.0   \n",
       "1        0.0                0.0          0.0                   0.0   \n",
       "2        0.0                0.0          0.0                   0.0   \n",
       "3        0.0                0.0          0.0                   0.0   \n",
       "4        1.0                0.0          0.0                   0.0   \n",
       "5        0.0                0.0          0.0                   0.0   \n",
       "6        0.0                0.0          0.0                   0.0   \n",
       "7        0.0                0.0          0.0                   0.0   \n",
       "8        0.0                0.0          0.0                   0.0   \n",
       "9        0.0                0.0          0.0                   0.0   \n",
       "10       2.0               53.0          0.0                   0.0   \n",
       "11       0.0                0.0          0.0                   0.0   \n",
       "12       0.0                0.0          0.0                   0.0   \n",
       "13       0.0                0.0          0.0                   0.0   \n",
       "14       0.0                0.0          0.0                   0.0   \n",
       "15       0.0                0.0          0.0                   0.0   \n",
       "16       0.0                0.0          0.0                   0.0   \n",
       "17       0.0                0.0          0.0                   0.0   \n",
       "18       0.0                0.0          0.0                   0.0   \n",
       "19       4.0               64.6          0.0                   0.0   \n",
       "\n",
       "    ProductDescriptionPage  ProductDescriptionPage_Duration  \\\n",
       "0                      1.0                         0.000000   \n",
       "1                      2.0                         2.666667   \n",
       "2                     10.0                       627.500000   \n",
       "3                      1.0                         0.000000   \n",
       "4                      0.0                         0.000000   \n",
       "5                      3.0                       738.000000   \n",
       "6                      3.0                       395.000000   \n",
       "7                      7.0                       280.500000   \n",
       "8                      6.0                        98.000000   \n",
       "9                      2.0                        68.000000   \n",
       "10                    23.0                      1668.285119   \n",
       "11                     1.0                         0.000000   \n",
       "12                    13.0                       334.966667   \n",
       "13                     2.0                        32.000000   \n",
       "14                    20.0                      2981.166667   \n",
       "15                     8.0                       136.166667   \n",
       "16                     2.0                         0.000000   \n",
       "17                     2.0                        15.000000   \n",
       "18                     5.0                       156.000000   \n",
       "19                    32.0                      1135.444444   \n",
       "\n",
       "    GoogleMetric:Bounce Rates  GoogleMetric:Exit Rates  \\\n",
       "0                    0.200000                 0.200000   \n",
       "1                    0.050000                 0.140000   \n",
       "2                    0.020000                 0.050000   \n",
       "3                    0.200000                 0.200000   \n",
       "4                    0.200000                 0.200000   \n",
       "5                    0.000000                 0.022222   \n",
       "6                    0.000000                 0.066667   \n",
       "7                    0.000000                 0.028571   \n",
       "8                    0.000000                 0.066667   \n",
       "9                    0.000000                 0.100000   \n",
       "10                   0.008333                 0.016313   \n",
       "11                   0.200000                 0.200000   \n",
       "12                   0.000000                 0.007692   \n",
       "13                   0.000000                 0.100000   \n",
       "14                   0.000000                 0.010000   \n",
       "15                   0.000000                 0.008333   \n",
       "16                   0.200000                 0.200000   \n",
       "17                   0.000000                 0.100000   \n",
       "18                   0.000000                 0.040000   \n",
       "19                   0.002857                 0.009524   \n",
       "\n",
       "    GoogleMetric:Page Values  SeasonalPurchase  ...   OS  SearchEngine  Zone  \\\n",
       "0                        0.0               0.0  ...  4.0           1.0   9.0   \n",
       "1                        0.0               0.0  ...  3.0           2.0   2.0   \n",
       "2                        0.0               0.0  ...  3.0           3.0   1.0   \n",
       "3                        0.0               0.4  ...  2.0           4.0   3.0   \n",
       "4                        0.0               0.0  ...  1.0           2.0   1.0   \n",
       "5                        0.0               0.4  ...  2.0           4.0   1.0   \n",
       "6                        0.0               0.0  ...  1.0           1.0   3.0   \n",
       "7                        0.0               0.0  ...  1.0           1.0   1.0   \n",
       "8                        0.0               0.0  ...  2.0           5.0   1.0   \n",
       "9                        0.0               0.0  ...  3.0           2.0   3.0   \n",
       "10                       0.0               0.0  ...  1.0           1.0   9.0   \n",
       "11                       0.0               0.0  ...  1.0           1.0   4.0   \n",
       "12                       0.0               0.0  ...  1.0           1.0   1.0   \n",
       "13                       0.0               0.0  ...  2.0           2.0   1.0   \n",
       "14                       0.0               0.0  ...  2.0           4.0   4.0   \n",
       "15                       0.0               1.0  ...  2.0           2.0   5.0   \n",
       "16                       0.0               0.0  ...  3.0           3.0   1.0   \n",
       "17                       0.0               0.8  ...  2.0           4.0   1.0   \n",
       "18                       0.0               0.0  ...  1.0           1.0   9.0   \n",
       "19                       0.0               0.0  ...  2.0           2.0   1.0   \n",
       "\n",
       "    Type of Traffic       CustomerType         Gender Cookies Setting  \\\n",
       "0               3.0  Returning_Visitor  Not Specified            Deny   \n",
       "1               4.0  Returning_Visitor         Female            Deny   \n",
       "2               4.0  Returning_Visitor         Female             ALL   \n",
       "3               3.0  Returning_Visitor           Male             ALL   \n",
       "4               5.0  Returning_Visitor           Male            Deny   \n",
       "5               2.0  Returning_Visitor         Female        Required   \n",
       "6               3.0  Returning_Visitor         Female             ALL   \n",
       "7               3.0  Returning_Visitor         Female            Deny   \n",
       "8               3.0  Returning_Visitor  Not Specified            Deny   \n",
       "9               3.0  Returning_Visitor           Male        Required   \n",
       "10              3.0  Returning_Visitor  Not Specified            Deny   \n",
       "11              3.0  Returning_Visitor           Male        Required   \n",
       "12              4.0  Returning_Visitor           Male        Required   \n",
       "13              3.0  Returning_Visitor         Female            Deny   \n",
       "14              4.0  Returning_Visitor         Female            Deny   \n",
       "15              1.0  Returning_Visitor  Not Specified        Required   \n",
       "16              3.0  Returning_Visitor         Female             ALL   \n",
       "17              3.0  Returning_Visitor  Not Specified        Required   \n",
       "18              3.0  Returning_Visitor           Male            Deny   \n",
       "19              3.0  Returning_Visitor           Male             ALL   \n",
       "\n",
       "        Education Marital Status WeekendPurchase  \n",
       "0   Not Specified          Other             0.0  \n",
       "1          Others        Married             0.0  \n",
       "2          Others        Married             1.0  \n",
       "3         Diploma         Single             0.0  \n",
       "4         Diploma          Other             1.0  \n",
       "5   Not Specified          Other             0.0  \n",
       "6         Diploma        Married             0.0  \n",
       "7         Diploma          Other             0.0  \n",
       "8        Graduate         Single             0.0  \n",
       "9         Diploma         Single             0.0  \n",
       "10        Diploma        Married             0.0  \n",
       "11       Graduate         Single             0.0  \n",
       "12        Diploma         Single             1.0  \n",
       "13        Diploma          Other             0.0  \n",
       "14       Graduate          Other             0.0  \n",
       "15         Others          Other             1.0  \n",
       "16         Others         Single             0.0  \n",
       "17         Others          Other             0.0  \n",
       "18  Not Specified         Single             0.0  \n",
       "19       Graduate         Single             0.0  \n",
       "\n",
       "[20 rows x 21 columns]"
      ]
     },
     "execution_count": 6,
     "metadata": {},
     "output_type": "execute_result"
    }
   ],
   "source": [
    "X.head(20)"
   ]
  },
  {
   "cell_type": "code",
   "execution_count": 7,
   "id": "5065425b",
   "metadata": {
    "execution": {
     "iopub.execute_input": "2023-04-27T04:48:25.376704Z",
     "iopub.status.busy": "2023-04-27T04:48:25.376322Z",
     "iopub.status.idle": "2023-04-27T04:48:25.390684Z",
     "shell.execute_reply": "2023-04-27T04:48:25.389553Z"
    },
    "papermill": {
     "duration": 0.063836,
     "end_time": "2023-04-27T04:48:25.393045",
     "exception": false,
     "start_time": "2023-04-27T04:48:25.329209",
     "status": "completed"
    },
    "tags": []
   },
   "outputs": [
    {
     "data": {
      "text/plain": [
       "HomePage                           153\n",
       "HomePage_Duration                  150\n",
       "LandingPage                        153\n",
       "LandingPage_Duration               135\n",
       "ProductDescriptionPage             123\n",
       "ProductDescriptionPage_Duration    167\n",
       "GoogleMetric:Bounce Rates          151\n",
       "GoogleMetric:Exit Rates            129\n",
       "GoogleMetric:Page Values           132\n",
       "SeasonalPurchase                   150\n",
       "Month_SeasonalPurchase             144\n",
       "OS                                 134\n",
       "SearchEngine                       122\n",
       "Zone                               117\n",
       "Type of Traffic                    143\n",
       "CustomerType                       144\n",
       "Gender                             145\n",
       "Cookies Setting                    144\n",
       "Education                          136\n",
       "Marital Status                     130\n",
       "WeekendPurchase                    121\n",
       "dtype: int64"
      ]
     },
     "execution_count": 7,
     "metadata": {},
     "output_type": "execute_result"
    }
   ],
   "source": [
    "#Find which columns have missing values\n",
    "X.isna().sum()"
   ]
  },
  {
   "cell_type": "code",
   "execution_count": 8,
   "id": "352352e8",
   "metadata": {
    "execution": {
     "iopub.execute_input": "2023-04-27T04:48:25.485248Z",
     "iopub.status.busy": "2023-04-27T04:48:25.484800Z",
     "iopub.status.idle": "2023-04-27T04:48:25.493009Z",
     "shell.execute_reply": "2023-04-27T04:48:25.492152Z"
    },
    "papermill": {
     "duration": 0.056851,
     "end_time": "2023-04-27T04:48:25.495141",
     "exception": false,
     "start_time": "2023-04-27T04:48:25.438290",
     "status": "completed"
    },
    "tags": []
   },
   "outputs": [
    {
     "data": {
      "text/plain": [
       "HomePage                           float64\n",
       "HomePage_Duration                  float64\n",
       "LandingPage                        float64\n",
       "LandingPage_Duration               float64\n",
       "ProductDescriptionPage             float64\n",
       "ProductDescriptionPage_Duration    float64\n",
       "GoogleMetric:Bounce Rates          float64\n",
       "GoogleMetric:Exit Rates            float64\n",
       "GoogleMetric:Page Values           float64\n",
       "SeasonalPurchase                   float64\n",
       "Month_SeasonalPurchase              object\n",
       "OS                                 float64\n",
       "SearchEngine                       float64\n",
       "Zone                               float64\n",
       "Type of Traffic                    float64\n",
       "CustomerType                        object\n",
       "Gender                              object\n",
       "Cookies Setting                     object\n",
       "Education                           object\n",
       "Marital Status                      object\n",
       "WeekendPurchase                    float64\n",
       "dtype: object"
      ]
     },
     "execution_count": 8,
     "metadata": {},
     "output_type": "execute_result"
    }
   ],
   "source": [
    "#Observe type of data\n",
    "X.dtypes"
   ]
  },
  {
   "cell_type": "code",
   "execution_count": 9,
   "id": "cac99729",
   "metadata": {
    "execution": {
     "iopub.execute_input": "2023-04-27T04:48:25.589915Z",
     "iopub.status.busy": "2023-04-27T04:48:25.589478Z",
     "iopub.status.idle": "2023-04-27T04:48:25.637379Z",
     "shell.execute_reply": "2023-04-27T04:48:25.636150Z"
    },
    "papermill": {
     "duration": 0.097114,
     "end_time": "2023-04-27T04:48:25.639835",
     "exception": false,
     "start_time": "2023-04-27T04:48:25.542721",
     "status": "completed"
    },
    "tags": []
   },
   "outputs": [
    {
     "data": {
      "text/html": [
       "<div>\n",
       "<style scoped>\n",
       "    .dataframe tbody tr th:only-of-type {\n",
       "        vertical-align: middle;\n",
       "    }\n",
       "\n",
       "    .dataframe tbody tr th {\n",
       "        vertical-align: top;\n",
       "    }\n",
       "\n",
       "    .dataframe thead th {\n",
       "        text-align: right;\n",
       "    }\n",
       "</style>\n",
       "<table border=\"1\" class=\"dataframe\">\n",
       "  <thead>\n",
       "    <tr style=\"text-align: right;\">\n",
       "      <th></th>\n",
       "      <th>HomePage</th>\n",
       "      <th>HomePage_Duration</th>\n",
       "      <th>LandingPage</th>\n",
       "      <th>LandingPage_Duration</th>\n",
       "      <th>ProductDescriptionPage</th>\n",
       "      <th>ProductDescriptionPage_Duration</th>\n",
       "      <th>GoogleMetric:Bounce Rates</th>\n",
       "      <th>GoogleMetric:Exit Rates</th>\n",
       "      <th>GoogleMetric:Page Values</th>\n",
       "      <th>SeasonalPurchase</th>\n",
       "      <th>OS</th>\n",
       "      <th>SearchEngine</th>\n",
       "      <th>Zone</th>\n",
       "      <th>Type of Traffic</th>\n",
       "      <th>WeekendPurchase</th>\n",
       "      <th>Made_Purchase</th>\n",
       "    </tr>\n",
       "  </thead>\n",
       "  <tbody>\n",
       "    <tr>\n",
       "      <th>HomePage</th>\n",
       "      <td>1.00000</td>\n",
       "      <td>0.59658</td>\n",
       "      <td>0.37097</td>\n",
       "      <td>0.26089</td>\n",
       "      <td>0.43876</td>\n",
       "      <td>0.37208</td>\n",
       "      <td>-0.22621</td>\n",
       "      <td>-0.31899</td>\n",
       "      <td>0.10793</td>\n",
       "      <td>-0.08392</td>\n",
       "      <td>-0.00499</td>\n",
       "      <td>-0.02331</td>\n",
       "      <td>-0.00000</td>\n",
       "      <td>-0.03759</td>\n",
       "      <td>0.02580</td>\n",
       "      <td>0.05224</td>\n",
       "    </tr>\n",
       "    <tr>\n",
       "      <th>HomePage_Duration</th>\n",
       "      <td>0.59658</td>\n",
       "      <td>1.00000</td>\n",
       "      <td>0.30511</td>\n",
       "      <td>0.26065</td>\n",
       "      <td>0.30381</td>\n",
       "      <td>0.38496</td>\n",
       "      <td>-0.14418</td>\n",
       "      <td>-0.20534</td>\n",
       "      <td>0.07013</td>\n",
       "      <td>-0.06767</td>\n",
       "      <td>-0.00521</td>\n",
       "      <td>-0.02397</td>\n",
       "      <td>-0.00646</td>\n",
       "      <td>-0.02124</td>\n",
       "      <td>0.02393</td>\n",
       "      <td>0.04204</td>\n",
       "    </tr>\n",
       "    <tr>\n",
       "      <th>LandingPage</th>\n",
       "      <td>0.37097</td>\n",
       "      <td>0.30511</td>\n",
       "      <td>1.00000</td>\n",
       "      <td>0.62142</td>\n",
       "      <td>0.37877</td>\n",
       "      <td>0.39374</td>\n",
       "      <td>-0.11984</td>\n",
       "      <td>-0.16640</td>\n",
       "      <td>0.05234</td>\n",
       "      <td>-0.04511</td>\n",
       "      <td>-0.00443</td>\n",
       "      <td>-0.03302</td>\n",
       "      <td>-0.03347</td>\n",
       "      <td>-0.03321</td>\n",
       "      <td>0.03960</td>\n",
       "      <td>0.04283</td>\n",
       "    </tr>\n",
       "    <tr>\n",
       "      <th>LandingPage_Duration</th>\n",
       "      <td>0.26089</td>\n",
       "      <td>0.26065</td>\n",
       "      <td>0.62142</td>\n",
       "      <td>1.00000</td>\n",
       "      <td>0.30369</td>\n",
       "      <td>0.39753</td>\n",
       "      <td>-0.07567</td>\n",
       "      <td>-0.10544</td>\n",
       "      <td>0.03914</td>\n",
       "      <td>-0.03116</td>\n",
       "      <td>-0.00119</td>\n",
       "      <td>-0.01404</td>\n",
       "      <td>-0.03634</td>\n",
       "      <td>-0.02092</td>\n",
       "      <td>0.02722</td>\n",
       "      <td>0.02715</td>\n",
       "    </tr>\n",
       "    <tr>\n",
       "      <th>ProductDescriptionPage</th>\n",
       "      <td>0.43876</td>\n",
       "      <td>0.30381</td>\n",
       "      <td>0.37877</td>\n",
       "      <td>0.30369</td>\n",
       "      <td>1.00000</td>\n",
       "      <td>0.84775</td>\n",
       "      <td>-0.20801</td>\n",
       "      <td>-0.29633</td>\n",
       "      <td>0.06012</td>\n",
       "      <td>-0.01099</td>\n",
       "      <td>0.00977</td>\n",
       "      <td>-0.00752</td>\n",
       "      <td>-0.04270</td>\n",
       "      <td>-0.04103</td>\n",
       "      <td>0.01553</td>\n",
       "      <td>0.06833</td>\n",
       "    </tr>\n",
       "    <tr>\n",
       "      <th>ProductDescriptionPage_Duration</th>\n",
       "      <td>0.37208</td>\n",
       "      <td>0.38496</td>\n",
       "      <td>0.39374</td>\n",
       "      <td>0.39753</td>\n",
       "      <td>0.84775</td>\n",
       "      <td>1.00000</td>\n",
       "      <td>-0.18086</td>\n",
       "      <td>-0.24639</td>\n",
       "      <td>0.05650</td>\n",
       "      <td>-0.02928</td>\n",
       "      <td>0.00721</td>\n",
       "      <td>-0.00341</td>\n",
       "      <td>-0.03650</td>\n",
       "      <td>-0.03103</td>\n",
       "      <td>0.00521</td>\n",
       "      <td>0.06623</td>\n",
       "    </tr>\n",
       "    <tr>\n",
       "      <th>GoogleMetric:Bounce Rates</th>\n",
       "      <td>-0.22621</td>\n",
       "      <td>-0.14418</td>\n",
       "      <td>-0.11984</td>\n",
       "      <td>-0.07567</td>\n",
       "      <td>-0.20801</td>\n",
       "      <td>-0.18086</td>\n",
       "      <td>1.00000</td>\n",
       "      <td>0.91707</td>\n",
       "      <td>-0.10971</td>\n",
       "      <td>0.06935</td>\n",
       "      <td>0.01889</td>\n",
       "      <td>-0.01731</td>\n",
       "      <td>-0.00823</td>\n",
       "      <td>0.08065</td>\n",
       "      <td>-0.04410</td>\n",
       "      <td>-0.05372</td>\n",
       "    </tr>\n",
       "    <tr>\n",
       "      <th>GoogleMetric:Exit Rates</th>\n",
       "      <td>-0.31899</td>\n",
       "      <td>-0.20534</td>\n",
       "      <td>-0.16640</td>\n",
       "      <td>-0.10544</td>\n",
       "      <td>-0.29633</td>\n",
       "      <td>-0.24639</td>\n",
       "      <td>0.91707</td>\n",
       "      <td>1.00000</td>\n",
       "      <td>-0.15927</td>\n",
       "      <td>0.09714</td>\n",
       "      <td>0.00598</td>\n",
       "      <td>-0.00844</td>\n",
       "      <td>-0.01439</td>\n",
       "      <td>0.08222</td>\n",
       "      <td>-0.06033</td>\n",
       "      <td>-0.07126</td>\n",
       "    </tr>\n",
       "    <tr>\n",
       "      <th>GoogleMetric:Page Values</th>\n",
       "      <td>0.10793</td>\n",
       "      <td>0.07013</td>\n",
       "      <td>0.05234</td>\n",
       "      <td>0.03914</td>\n",
       "      <td>0.06012</td>\n",
       "      <td>0.05650</td>\n",
       "      <td>-0.10971</td>\n",
       "      <td>-0.15927</td>\n",
       "      <td>1.00000</td>\n",
       "      <td>-0.05612</td>\n",
       "      <td>0.02520</td>\n",
       "      <td>0.04664</td>\n",
       "      <td>0.02090</td>\n",
       "      <td>0.01046</td>\n",
       "      <td>0.00416</td>\n",
       "      <td>0.20521</td>\n",
       "    </tr>\n",
       "    <tr>\n",
       "      <th>SeasonalPurchase</th>\n",
       "      <td>-0.08392</td>\n",
       "      <td>-0.06767</td>\n",
       "      <td>-0.04511</td>\n",
       "      <td>-0.03116</td>\n",
       "      <td>-0.01099</td>\n",
       "      <td>-0.02928</td>\n",
       "      <td>0.06935</td>\n",
       "      <td>0.09714</td>\n",
       "      <td>-0.05612</td>\n",
       "      <td>1.00000</td>\n",
       "      <td>0.00992</td>\n",
       "      <td>0.00835</td>\n",
       "      <td>-0.01803</td>\n",
       "      <td>0.04273</td>\n",
       "      <td>-0.01507</td>\n",
       "      <td>-0.01794</td>\n",
       "    </tr>\n",
       "    <tr>\n",
       "      <th>OS</th>\n",
       "      <td>-0.00499</td>\n",
       "      <td>-0.00521</td>\n",
       "      <td>-0.00443</td>\n",
       "      <td>-0.00119</td>\n",
       "      <td>0.00977</td>\n",
       "      <td>0.00721</td>\n",
       "      <td>0.01889</td>\n",
       "      <td>0.00598</td>\n",
       "      <td>0.02520</td>\n",
       "      <td>0.00992</td>\n",
       "      <td>1.00000</td>\n",
       "      <td>0.23207</td>\n",
       "      <td>0.07466</td>\n",
       "      <td>0.20219</td>\n",
       "      <td>0.00038</td>\n",
       "      <td>0.00111</td>\n",
       "    </tr>\n",
       "    <tr>\n",
       "      <th>SearchEngine</th>\n",
       "      <td>-0.02331</td>\n",
       "      <td>-0.02397</td>\n",
       "      <td>-0.03302</td>\n",
       "      <td>-0.01404</td>\n",
       "      <td>-0.00752</td>\n",
       "      <td>-0.00341</td>\n",
       "      <td>-0.01731</td>\n",
       "      <td>-0.00844</td>\n",
       "      <td>0.04664</td>\n",
       "      <td>0.00835</td>\n",
       "      <td>0.23207</td>\n",
       "      <td>1.00000</td>\n",
       "      <td>0.10468</td>\n",
       "      <td>0.11600</td>\n",
       "      <td>-0.03958</td>\n",
       "      <td>0.00936</td>\n",
       "    </tr>\n",
       "    <tr>\n",
       "      <th>Zone</th>\n",
       "      <td>-0.00000</td>\n",
       "      <td>-0.00646</td>\n",
       "      <td>-0.03347</td>\n",
       "      <td>-0.03634</td>\n",
       "      <td>-0.04270</td>\n",
       "      <td>-0.03650</td>\n",
       "      <td>-0.00823</td>\n",
       "      <td>-0.01439</td>\n",
       "      <td>0.02090</td>\n",
       "      <td>-0.01803</td>\n",
       "      <td>0.07466</td>\n",
       "      <td>0.10468</td>\n",
       "      <td>1.00000</td>\n",
       "      <td>0.05980</td>\n",
       "      <td>0.00206</td>\n",
       "      <td>-0.01109</td>\n",
       "    </tr>\n",
       "    <tr>\n",
       "      <th>Type of Traffic</th>\n",
       "      <td>-0.03759</td>\n",
       "      <td>-0.02124</td>\n",
       "      <td>-0.03321</td>\n",
       "      <td>-0.02092</td>\n",
       "      <td>-0.04103</td>\n",
       "      <td>-0.03103</td>\n",
       "      <td>0.08065</td>\n",
       "      <td>0.08222</td>\n",
       "      <td>0.01046</td>\n",
       "      <td>0.04273</td>\n",
       "      <td>0.20219</td>\n",
       "      <td>0.11600</td>\n",
       "      <td>0.05980</td>\n",
       "      <td>1.00000</td>\n",
       "      <td>-0.00117</td>\n",
       "      <td>-0.00427</td>\n",
       "    </tr>\n",
       "    <tr>\n",
       "      <th>WeekendPurchase</th>\n",
       "      <td>0.02580</td>\n",
       "      <td>0.02393</td>\n",
       "      <td>0.03960</td>\n",
       "      <td>0.02722</td>\n",
       "      <td>0.01553</td>\n",
       "      <td>0.00521</td>\n",
       "      <td>-0.04410</td>\n",
       "      <td>-0.06033</td>\n",
       "      <td>0.00416</td>\n",
       "      <td>-0.01507</td>\n",
       "      <td>0.00038</td>\n",
       "      <td>-0.03958</td>\n",
       "      <td>0.00206</td>\n",
       "      <td>-0.00117</td>\n",
       "      <td>1.00000</td>\n",
       "      <td>0.01092</td>\n",
       "    </tr>\n",
       "    <tr>\n",
       "      <th>Made_Purchase</th>\n",
       "      <td>0.05224</td>\n",
       "      <td>0.04204</td>\n",
       "      <td>0.04283</td>\n",
       "      <td>0.02715</td>\n",
       "      <td>0.06833</td>\n",
       "      <td>0.06623</td>\n",
       "      <td>-0.05372</td>\n",
       "      <td>-0.07126</td>\n",
       "      <td>0.20521</td>\n",
       "      <td>-0.01794</td>\n",
       "      <td>0.00111</td>\n",
       "      <td>0.00936</td>\n",
       "      <td>-0.01109</td>\n",
       "      <td>-0.00427</td>\n",
       "      <td>0.01092</td>\n",
       "      <td>1.00000</td>\n",
       "    </tr>\n",
       "  </tbody>\n",
       "</table>\n",
       "</div>"
      ],
      "text/plain": [
       "                                 HomePage  HomePage_Duration  LandingPage  \\\n",
       "HomePage                          1.00000            0.59658      0.37097   \n",
       "HomePage_Duration                 0.59658            1.00000      0.30511   \n",
       "LandingPage                       0.37097            0.30511      1.00000   \n",
       "LandingPage_Duration              0.26089            0.26065      0.62142   \n",
       "ProductDescriptionPage            0.43876            0.30381      0.37877   \n",
       "ProductDescriptionPage_Duration   0.37208            0.38496      0.39374   \n",
       "GoogleMetric:Bounce Rates        -0.22621           -0.14418     -0.11984   \n",
       "GoogleMetric:Exit Rates          -0.31899           -0.20534     -0.16640   \n",
       "GoogleMetric:Page Values          0.10793            0.07013      0.05234   \n",
       "SeasonalPurchase                 -0.08392           -0.06767     -0.04511   \n",
       "OS                               -0.00499           -0.00521     -0.00443   \n",
       "SearchEngine                     -0.02331           -0.02397     -0.03302   \n",
       "Zone                             -0.00000           -0.00646     -0.03347   \n",
       "Type of Traffic                  -0.03759           -0.02124     -0.03321   \n",
       "WeekendPurchase                   0.02580            0.02393      0.03960   \n",
       "Made_Purchase                     0.05224            0.04204      0.04283   \n",
       "\n",
       "                                 LandingPage_Duration  ProductDescriptionPage  \\\n",
       "HomePage                                      0.26089                 0.43876   \n",
       "HomePage_Duration                             0.26065                 0.30381   \n",
       "LandingPage                                   0.62142                 0.37877   \n",
       "LandingPage_Duration                          1.00000                 0.30369   \n",
       "ProductDescriptionPage                        0.30369                 1.00000   \n",
       "ProductDescriptionPage_Duration               0.39753                 0.84775   \n",
       "GoogleMetric:Bounce Rates                    -0.07567                -0.20801   \n",
       "GoogleMetric:Exit Rates                      -0.10544                -0.29633   \n",
       "GoogleMetric:Page Values                      0.03914                 0.06012   \n",
       "SeasonalPurchase                             -0.03116                -0.01099   \n",
       "OS                                           -0.00119                 0.00977   \n",
       "SearchEngine                                 -0.01404                -0.00752   \n",
       "Zone                                         -0.03634                -0.04270   \n",
       "Type of Traffic                              -0.02092                -0.04103   \n",
       "WeekendPurchase                               0.02722                 0.01553   \n",
       "Made_Purchase                                 0.02715                 0.06833   \n",
       "\n",
       "                                 ProductDescriptionPage_Duration  \\\n",
       "HomePage                                                 0.37208   \n",
       "HomePage_Duration                                        0.38496   \n",
       "LandingPage                                              0.39374   \n",
       "LandingPage_Duration                                     0.39753   \n",
       "ProductDescriptionPage                                   0.84775   \n",
       "ProductDescriptionPage_Duration                          1.00000   \n",
       "GoogleMetric:Bounce Rates                               -0.18086   \n",
       "GoogleMetric:Exit Rates                                 -0.24639   \n",
       "GoogleMetric:Page Values                                 0.05650   \n",
       "SeasonalPurchase                                        -0.02928   \n",
       "OS                                                       0.00721   \n",
       "SearchEngine                                            -0.00341   \n",
       "Zone                                                    -0.03650   \n",
       "Type of Traffic                                         -0.03103   \n",
       "WeekendPurchase                                          0.00521   \n",
       "Made_Purchase                                            0.06623   \n",
       "\n",
       "                                 GoogleMetric:Bounce Rates  \\\n",
       "HomePage                                          -0.22621   \n",
       "HomePage_Duration                                 -0.14418   \n",
       "LandingPage                                       -0.11984   \n",
       "LandingPage_Duration                              -0.07567   \n",
       "ProductDescriptionPage                            -0.20801   \n",
       "ProductDescriptionPage_Duration                   -0.18086   \n",
       "GoogleMetric:Bounce Rates                          1.00000   \n",
       "GoogleMetric:Exit Rates                            0.91707   \n",
       "GoogleMetric:Page Values                          -0.10971   \n",
       "SeasonalPurchase                                   0.06935   \n",
       "OS                                                 0.01889   \n",
       "SearchEngine                                      -0.01731   \n",
       "Zone                                              -0.00823   \n",
       "Type of Traffic                                    0.08065   \n",
       "WeekendPurchase                                   -0.04410   \n",
       "Made_Purchase                                     -0.05372   \n",
       "\n",
       "                                 GoogleMetric:Exit Rates  \\\n",
       "HomePage                                        -0.31899   \n",
       "HomePage_Duration                               -0.20534   \n",
       "LandingPage                                     -0.16640   \n",
       "LandingPage_Duration                            -0.10544   \n",
       "ProductDescriptionPage                          -0.29633   \n",
       "ProductDescriptionPage_Duration                 -0.24639   \n",
       "GoogleMetric:Bounce Rates                        0.91707   \n",
       "GoogleMetric:Exit Rates                          1.00000   \n",
       "GoogleMetric:Page Values                        -0.15927   \n",
       "SeasonalPurchase                                 0.09714   \n",
       "OS                                               0.00598   \n",
       "SearchEngine                                    -0.00844   \n",
       "Zone                                            -0.01439   \n",
       "Type of Traffic                                  0.08222   \n",
       "WeekendPurchase                                 -0.06033   \n",
       "Made_Purchase                                   -0.07126   \n",
       "\n",
       "                                 GoogleMetric:Page Values  SeasonalPurchase  \\\n",
       "HomePage                                          0.10793          -0.08392   \n",
       "HomePage_Duration                                 0.07013          -0.06767   \n",
       "LandingPage                                       0.05234          -0.04511   \n",
       "LandingPage_Duration                              0.03914          -0.03116   \n",
       "ProductDescriptionPage                            0.06012          -0.01099   \n",
       "ProductDescriptionPage_Duration                   0.05650          -0.02928   \n",
       "GoogleMetric:Bounce Rates                        -0.10971           0.06935   \n",
       "GoogleMetric:Exit Rates                          -0.15927           0.09714   \n",
       "GoogleMetric:Page Values                          1.00000          -0.05612   \n",
       "SeasonalPurchase                                 -0.05612           1.00000   \n",
       "OS                                                0.02520           0.00992   \n",
       "SearchEngine                                      0.04664           0.00835   \n",
       "Zone                                              0.02090          -0.01803   \n",
       "Type of Traffic                                   0.01046           0.04273   \n",
       "WeekendPurchase                                   0.00416          -0.01507   \n",
       "Made_Purchase                                     0.20521          -0.01794   \n",
       "\n",
       "                                      OS  SearchEngine     Zone  \\\n",
       "HomePage                        -0.00499      -0.02331 -0.00000   \n",
       "HomePage_Duration               -0.00521      -0.02397 -0.00646   \n",
       "LandingPage                     -0.00443      -0.03302 -0.03347   \n",
       "LandingPage_Duration            -0.00119      -0.01404 -0.03634   \n",
       "ProductDescriptionPage           0.00977      -0.00752 -0.04270   \n",
       "ProductDescriptionPage_Duration  0.00721      -0.00341 -0.03650   \n",
       "GoogleMetric:Bounce Rates        0.01889      -0.01731 -0.00823   \n",
       "GoogleMetric:Exit Rates          0.00598      -0.00844 -0.01439   \n",
       "GoogleMetric:Page Values         0.02520       0.04664  0.02090   \n",
       "SeasonalPurchase                 0.00992       0.00835 -0.01803   \n",
       "OS                               1.00000       0.23207  0.07466   \n",
       "SearchEngine                     0.23207       1.00000  0.10468   \n",
       "Zone                             0.07466       0.10468  1.00000   \n",
       "Type of Traffic                  0.20219       0.11600  0.05980   \n",
       "WeekendPurchase                  0.00038      -0.03958  0.00206   \n",
       "Made_Purchase                    0.00111       0.00936 -0.01109   \n",
       "\n",
       "                                 Type of Traffic  WeekendPurchase  \\\n",
       "HomePage                                -0.03759          0.02580   \n",
       "HomePage_Duration                       -0.02124          0.02393   \n",
       "LandingPage                             -0.03321          0.03960   \n",
       "LandingPage_Duration                    -0.02092          0.02722   \n",
       "ProductDescriptionPage                  -0.04103          0.01553   \n",
       "ProductDescriptionPage_Duration         -0.03103          0.00521   \n",
       "GoogleMetric:Bounce Rates                0.08065         -0.04410   \n",
       "GoogleMetric:Exit Rates                  0.08222         -0.06033   \n",
       "GoogleMetric:Page Values                 0.01046          0.00416   \n",
       "SeasonalPurchase                         0.04273         -0.01507   \n",
       "OS                                       0.20219          0.00038   \n",
       "SearchEngine                             0.11600         -0.03958   \n",
       "Zone                                     0.05980          0.00206   \n",
       "Type of Traffic                          1.00000         -0.00117   \n",
       "WeekendPurchase                         -0.00117          1.00000   \n",
       "Made_Purchase                           -0.00427          0.01092   \n",
       "\n",
       "                                 Made_Purchase  \n",
       "HomePage                               0.05224  \n",
       "HomePage_Duration                      0.04204  \n",
       "LandingPage                            0.04283  \n",
       "LandingPage_Duration                   0.02715  \n",
       "ProductDescriptionPage                 0.06833  \n",
       "ProductDescriptionPage_Duration        0.06623  \n",
       "GoogleMetric:Bounce Rates             -0.05372  \n",
       "GoogleMetric:Exit Rates               -0.07126  \n",
       "GoogleMetric:Page Values               0.20521  \n",
       "SeasonalPurchase                      -0.01794  \n",
       "OS                                     0.00111  \n",
       "SearchEngine                           0.00936  \n",
       "Zone                                  -0.01109  \n",
       "Type of Traffic                       -0.00427  \n",
       "WeekendPurchase                        0.01092  \n",
       "Made_Purchase                          1.00000  "
      ]
     },
     "execution_count": 9,
     "metadata": {},
     "output_type": "execute_result"
    }
   ],
   "source": [
    "#Observe correlation between features and possibly decide if any of them need to be dropped.\n",
    "train_data.corr().round(decimals=5)"
   ]
  },
  {
   "cell_type": "code",
   "execution_count": 10,
   "id": "e2ac0547",
   "metadata": {
    "execution": {
     "iopub.execute_input": "2023-04-27T04:48:25.734498Z",
     "iopub.status.busy": "2023-04-27T04:48:25.734076Z",
     "iopub.status.idle": "2023-04-27T04:48:25.747913Z",
     "shell.execute_reply": "2023-04-27T04:48:25.746728Z"
    },
    "papermill": {
     "duration": 0.064077,
     "end_time": "2023-04-27T04:48:25.750474",
     "exception": false,
     "start_time": "2023-04-27T04:48:25.686397",
     "status": "completed"
    },
    "tags": []
   },
   "outputs": [
    {
     "data": {
      "text/plain": [
       "Made_Purchase\n",
       "False            9065\n",
       "True             5666\n",
       "dtype: int64"
      ]
     },
     "execution_count": 10,
     "metadata": {},
     "output_type": "execute_result"
    }
   ],
   "source": [
    "y.value_counts()"
   ]
  },
  {
   "cell_type": "code",
   "execution_count": 11,
   "id": "7f0da5a0",
   "metadata": {
    "execution": {
     "iopub.execute_input": "2023-04-27T04:48:25.845000Z",
     "iopub.status.busy": "2023-04-27T04:48:25.844594Z",
     "iopub.status.idle": "2023-04-27T04:48:25.863723Z",
     "shell.execute_reply": "2023-04-27T04:48:25.862551Z"
    },
    "papermill": {
     "duration": 0.069431,
     "end_time": "2023-04-27T04:48:25.866042",
     "exception": false,
     "start_time": "2023-04-27T04:48:25.796611",
     "status": "completed"
    },
    "tags": []
   },
   "outputs": [
    {
     "name": "stdout",
     "output_type": "stream",
     "text": [
      "HomePage                           0.052235\n",
      "HomePage_Duration                  0.042043\n",
      "LandingPage                        0.042832\n",
      "LandingPage_Duration               0.027151\n",
      "ProductDescriptionPage             0.068328\n",
      "ProductDescriptionPage_Duration    0.066225\n",
      "GoogleMetric:Bounce Rates         -0.053724\n",
      "GoogleMetric:Exit Rates           -0.071258\n",
      "GoogleMetric:Page Values           0.205206\n",
      "SeasonalPurchase                  -0.017940\n",
      "OS                                 0.001111\n",
      "SearchEngine                       0.009360\n",
      "Zone                              -0.011090\n",
      "Type of Traffic                   -0.004270\n",
      "WeekendPurchase                    0.010922\n",
      "Made_Purchase                      1.000000\n",
      "Name: Made_Purchase, dtype: float64\n"
     ]
    }
   ],
   "source": [
    "print(train_data.corr()['Made_Purchase'])"
   ]
  },
  {
   "cell_type": "code",
   "execution_count": null,
   "id": "06b0d0f8",
   "metadata": {
    "papermill": {
     "duration": 0.045774,
     "end_time": "2023-04-27T04:48:25.958590",
     "exception": false,
     "start_time": "2023-04-27T04:48:25.912816",
     "status": "completed"
    },
    "tags": []
   },
   "outputs": [],
   "source": []
  },
  {
   "cell_type": "code",
   "execution_count": 12,
   "id": "93298dbd",
   "metadata": {
    "execution": {
     "iopub.execute_input": "2023-04-27T04:48:26.052694Z",
     "iopub.status.busy": "2023-04-27T04:48:26.052309Z",
     "iopub.status.idle": "2023-04-27T04:48:26.057100Z",
     "shell.execute_reply": "2023-04-27T04:48:26.055624Z"
    },
    "papermill": {
     "duration": 0.054841,
     "end_time": "2023-04-27T04:48:26.059613",
     "exception": false,
     "start_time": "2023-04-27T04:48:26.004772",
     "status": "completed"
    },
    "tags": []
   },
   "outputs": [],
   "source": [
    "# #Preprocessor - 8: Simple imputer , OneHotEncoding\n",
    "\n",
    "# num_pipe = Pipeline([('imputer',SimpleImputer(strategy=\"mean\"))])\n",
    "# cat_pipe = Pipeline([('cat_imputer',SimpleImputer(strategy=\"most_frequent\")),('encoder',OneHotEncoder())])\n",
    "# pre_pipe_ct = ColumnTransformer([('nums',num_pipe,[0,1,2,3,4,5,6,7,8,9]),('cats',cat_pipe,[10,11,12,13,14,15,16,17,18,19,20])])\n",
    "\n",
    "# X_pre = pre_pipe_ct.fit_transform(X)\n",
    "# test_pre = pre_pipe_ct.transform(test_data)"
   ]
  },
  {
   "cell_type": "code",
   "execution_count": 13,
   "id": "f2640bc8",
   "metadata": {
    "execution": {
     "iopub.execute_input": "2023-04-27T04:48:26.155175Z",
     "iopub.status.busy": "2023-04-27T04:48:26.154760Z",
     "iopub.status.idle": "2023-04-27T04:48:26.159402Z",
     "shell.execute_reply": "2023-04-27T04:48:26.158136Z"
    },
    "papermill": {
     "duration": 0.054943,
     "end_time": "2023-04-27T04:48:26.161649",
     "exception": false,
     "start_time": "2023-04-27T04:48:26.106706",
     "status": "completed"
    },
    "tags": []
   },
   "outputs": [],
   "source": [
    "# model = AdaBoostClassifier(random_state=1)\n",
    "# model.fit(X_pre,y.values.ravel())\n",
    "\n",
    "# sub = pd.DataFrame(model.predict(X_pre), columns=['Made_Purchase'])\n",
    "# sub.index.name = 'id'\n",
    "# sub.to_csv(\"submission.csv\", encoding='utf-8')\n",
    "                   \n",
    "# output = pd.read_csv(\"submission.csv\")"
   ]
  },
  {
   "cell_type": "code",
   "execution_count": 14,
   "id": "01d323e5",
   "metadata": {
    "execution": {
     "iopub.execute_input": "2023-04-27T04:48:26.256397Z",
     "iopub.status.busy": "2023-04-27T04:48:26.255953Z",
     "iopub.status.idle": "2023-04-27T04:48:26.260703Z",
     "shell.execute_reply": "2023-04-27T04:48:26.259488Z"
    },
    "papermill": {
     "duration": 0.054959,
     "end_time": "2023-04-27T04:48:26.263151",
     "exception": false,
     "start_time": "2023-04-27T04:48:26.208192",
     "status": "completed"
    },
    "tags": []
   },
   "outputs": [],
   "source": [
    "# sub.value_counts()"
   ]
  },
  {
   "cell_type": "markdown",
   "id": "bc5ab8b2",
   "metadata": {
    "papermill": {
     "duration": 0.047069,
     "end_time": "2023-04-27T04:48:26.357811",
     "exception": false,
     "start_time": "2023-04-27T04:48:26.310742",
     "status": "completed"
    },
    "tags": []
   },
   "source": [
    "<h2>Mar 29 test</h2>"
   ]
  },
  {
   "cell_type": "code",
   "execution_count": 15,
   "id": "8cad86c3",
   "metadata": {
    "execution": {
     "iopub.execute_input": "2023-04-27T04:48:26.452267Z",
     "iopub.status.busy": "2023-04-27T04:48:26.451851Z",
     "iopub.status.idle": "2023-04-27T04:48:28.605801Z",
     "shell.execute_reply": "2023-04-27T04:48:28.604498Z"
    },
    "papermill": {
     "duration": 2.204424,
     "end_time": "2023-04-27T04:48:28.608558",
     "exception": false,
     "start_time": "2023-04-27T04:48:26.404134",
     "status": "completed"
    },
    "tags": []
   },
   "outputs": [],
   "source": [
    "#Preprocessing - Neo\n",
    "\n",
    "num_pipe = Pipeline([('imputer',KNNImputer( n_neighbors=50))])\n",
    "cat_pipe = Pipeline([('cat_imputer',SimpleImputer(strategy=\"most_frequent\"))])\n",
    "# pre_pipe_ct = ColumnTransformer([('nums',num_pipe,[0,1,2,3,4,5,6,7,8,9]),('cats',cat_pipe,[10,11,12,13,14,15,16,17,18,19,20])])\n",
    "pre_pipe_ct = ColumnTransformer([('nums',num_pipe,[0,1,2,3,4,5,6,7,8,9]),('cats',cat_pipe,[10,11,12,13,14,15,16,17,18,19,20])])\n",
    "\n",
    "X_pre = pre_pipe_ct.fit_transform(X)\n",
    "test_pre = pre_pipe_ct.transform(test_data)"
   ]
  },
  {
   "cell_type": "code",
   "execution_count": 16,
   "id": "75feea83",
   "metadata": {
    "execution": {
     "iopub.execute_input": "2023-04-27T04:48:28.706857Z",
     "iopub.status.busy": "2023-04-27T04:48:28.706463Z",
     "iopub.status.idle": "2023-04-27T04:48:28.712704Z",
     "shell.execute_reply": "2023-04-27T04:48:28.711817Z"
    },
    "papermill": {
     "duration": 0.05764,
     "end_time": "2023-04-27T04:48:28.714739",
     "exception": false,
     "start_time": "2023-04-27T04:48:28.657099",
     "status": "completed"
    },
    "tags": []
   },
   "outputs": [
    {
     "data": {
      "text/plain": [
       "(14731, 21)"
      ]
     },
     "execution_count": 16,
     "metadata": {},
     "output_type": "execute_result"
    }
   ],
   "source": [
    "X_pre.shape"
   ]
  },
  {
   "cell_type": "code",
   "execution_count": 17,
   "id": "23c499df",
   "metadata": {
    "execution": {
     "iopub.execute_input": "2023-04-27T04:48:28.877937Z",
     "iopub.status.busy": "2023-04-27T04:48:28.877192Z",
     "iopub.status.idle": "2023-04-27T04:48:28.881833Z",
     "shell.execute_reply": "2023-04-27T04:48:28.880645Z"
    },
    "papermill": {
     "duration": 0.122797,
     "end_time": "2023-04-27T04:48:28.884442",
     "exception": false,
     "start_time": "2023-04-27T04:48:28.761645",
     "status": "completed"
    },
    "tags": []
   },
   "outputs": [],
   "source": [
    "# threshold = 9000\n",
    "\n",
    "# req_indices = X_pre[:,5] <= threshold\n",
    "\n",
    "# X_pre = X_pre[req_indices]\n",
    "# y = y[req_indices]"
   ]
  },
  {
   "cell_type": "code",
   "execution_count": 18,
   "id": "c9572476",
   "metadata": {
    "execution": {
     "iopub.execute_input": "2023-04-27T04:48:28.982629Z",
     "iopub.status.busy": "2023-04-27T04:48:28.982195Z",
     "iopub.status.idle": "2023-04-27T04:48:28.989131Z",
     "shell.execute_reply": "2023-04-27T04:48:28.988039Z"
    },
    "papermill": {
     "duration": 0.058347,
     "end_time": "2023-04-27T04:48:28.991332",
     "exception": false,
     "start_time": "2023-04-27T04:48:28.932985",
     "status": "completed"
    },
    "tags": []
   },
   "outputs": [
    {
     "data": {
      "text/plain": [
       "(14731, 21)"
      ]
     },
     "execution_count": 18,
     "metadata": {},
     "output_type": "execute_result"
    }
   ],
   "source": [
    "X_pre.shape"
   ]
  },
  {
   "cell_type": "code",
   "execution_count": 19,
   "id": "bd512350",
   "metadata": {
    "execution": {
     "iopub.execute_input": "2023-04-27T04:48:29.089882Z",
     "iopub.status.busy": "2023-04-27T04:48:29.089168Z",
     "iopub.status.idle": "2023-04-27T04:48:29.093274Z",
     "shell.execute_reply": "2023-04-27T04:48:29.092390Z"
    },
    "papermill": {
     "duration": 0.055708,
     "end_time": "2023-04-27T04:48:29.095682",
     "exception": false,
     "start_time": "2023-04-27T04:48:29.039974",
     "status": "completed"
    },
    "tags": []
   },
   "outputs": [],
   "source": [
    "# threshold = 1500\n",
    "\n",
    "# req_indices = X_pre[:,1] <= threshold\n",
    "\n",
    "# X_pre = X_pre[req_indices]\n",
    "# y = y[req_indices]"
   ]
  },
  {
   "cell_type": "code",
   "execution_count": 20,
   "id": "94b71373",
   "metadata": {
    "execution": {
     "iopub.execute_input": "2023-04-27T04:48:29.193077Z",
     "iopub.status.busy": "2023-04-27T04:48:29.192351Z",
     "iopub.status.idle": "2023-04-27T04:48:29.199243Z",
     "shell.execute_reply": "2023-04-27T04:48:29.198051Z"
    },
    "papermill": {
     "duration": 0.058167,
     "end_time": "2023-04-27T04:48:29.201829",
     "exception": false,
     "start_time": "2023-04-27T04:48:29.143662",
     "status": "completed"
    },
    "tags": []
   },
   "outputs": [
    {
     "data": {
      "text/plain": [
       "(14731, 21)"
      ]
     },
     "execution_count": 20,
     "metadata": {},
     "output_type": "execute_result"
    }
   ],
   "source": [
    "X_pre.shape"
   ]
  },
  {
   "cell_type": "code",
   "execution_count": 21,
   "id": "101dda5b",
   "metadata": {
    "execution": {
     "iopub.execute_input": "2023-04-27T04:48:29.298854Z",
     "iopub.status.busy": "2023-04-27T04:48:29.298434Z",
     "iopub.status.idle": "2023-04-27T04:48:29.303203Z",
     "shell.execute_reply": "2023-04-27T04:48:29.302034Z"
    },
    "papermill": {
     "duration": 0.055509,
     "end_time": "2023-04-27T04:48:29.305640",
     "exception": false,
     "start_time": "2023-04-27T04:48:29.250131",
     "status": "completed"
    },
    "tags": []
   },
   "outputs": [],
   "source": [
    "# threshold = 1500\n",
    "\n",
    "# req_indices = X_pre[:,3] <= threshold\n",
    "\n",
    "# X_pre = X_pre[req_indices]\n",
    "# y = y[req_indices]"
   ]
  },
  {
   "cell_type": "code",
   "execution_count": 22,
   "id": "322df51c",
   "metadata": {
    "execution": {
     "iopub.execute_input": "2023-04-27T04:48:29.400821Z",
     "iopub.status.busy": "2023-04-27T04:48:29.400391Z",
     "iopub.status.idle": "2023-04-27T04:48:29.406715Z",
     "shell.execute_reply": "2023-04-27T04:48:29.405886Z"
    },
    "papermill": {
     "duration": 0.056278,
     "end_time": "2023-04-27T04:48:29.408917",
     "exception": false,
     "start_time": "2023-04-27T04:48:29.352639",
     "status": "completed"
    },
    "tags": []
   },
   "outputs": [
    {
     "data": {
      "text/plain": [
       "(14731, 21)"
      ]
     },
     "execution_count": 22,
     "metadata": {},
     "output_type": "execute_result"
    }
   ],
   "source": [
    "X_pre.shape"
   ]
  },
  {
   "cell_type": "code",
   "execution_count": 23,
   "id": "4df05031",
   "metadata": {
    "execution": {
     "iopub.execute_input": "2023-04-27T04:48:29.507231Z",
     "iopub.status.busy": "2023-04-27T04:48:29.506439Z",
     "iopub.status.idle": "2023-04-27T04:48:29.511155Z",
     "shell.execute_reply": "2023-04-27T04:48:29.510073Z"
    },
    "papermill": {
     "duration": 0.057762,
     "end_time": "2023-04-27T04:48:29.513774",
     "exception": false,
     "start_time": "2023-04-27T04:48:29.456012",
     "status": "completed"
    },
    "tags": []
   },
   "outputs": [],
   "source": [
    "# threshold = 100\n",
    "\n",
    "# req_indices = X_pre[:,8] <= threshold\n",
    "\n",
    "# X_pre = X_pre[req_indices]\n",
    "# y = y[req_indices]"
   ]
  },
  {
   "cell_type": "code",
   "execution_count": 24,
   "id": "255e2e3c",
   "metadata": {
    "execution": {
     "iopub.execute_input": "2023-04-27T04:48:29.609442Z",
     "iopub.status.busy": "2023-04-27T04:48:29.608698Z",
     "iopub.status.idle": "2023-04-27T04:48:29.615076Z",
     "shell.execute_reply": "2023-04-27T04:48:29.614217Z"
    },
    "papermill": {
     "duration": 0.056227,
     "end_time": "2023-04-27T04:48:29.617259",
     "exception": false,
     "start_time": "2023-04-27T04:48:29.561032",
     "status": "completed"
    },
    "tags": []
   },
   "outputs": [
    {
     "data": {
      "text/plain": [
       "(14731, 21)"
      ]
     },
     "execution_count": 24,
     "metadata": {},
     "output_type": "execute_result"
    }
   ],
   "source": [
    "X_pre.shape"
   ]
  },
  {
   "cell_type": "code",
   "execution_count": 25,
   "id": "3dbc25e5",
   "metadata": {
    "execution": {
     "iopub.execute_input": "2023-04-27T04:48:29.713818Z",
     "iopub.status.busy": "2023-04-27T04:48:29.713024Z",
     "iopub.status.idle": "2023-04-27T04:48:29.739561Z",
     "shell.execute_reply": "2023-04-27T04:48:29.738632Z"
    },
    "papermill": {
     "duration": 0.078165,
     "end_time": "2023-04-27T04:48:29.742379",
     "exception": false,
     "start_time": "2023-04-27T04:48:29.664214",
     "status": "completed"
    },
    "tags": []
   },
   "outputs": [],
   "source": [
    "san_indices = np.logical_or(X_pre[:,0] != 0, X_pre[:,1] == 0)\n",
    "X_pre = X_pre[san_indices]\n",
    "y = y[san_indices]\n",
    "\n",
    "san_indices_2 = np.logical_or(X_pre[:,2] != 0, X_pre[:,3] == 0)\n",
    "X_pre = X_pre[san_indices_2]\n",
    "y = y[san_indices_2]\n",
    "\n",
    "san_indices_3 = np.logical_or(X_pre[:,4] != 0, X_pre[:,5] == 0)\n",
    "X_pre = X_pre[san_indices_3]\n",
    "y = y[san_indices_3]"
   ]
  },
  {
   "cell_type": "code",
   "execution_count": 26,
   "id": "0bb15b93",
   "metadata": {
    "execution": {
     "iopub.execute_input": "2023-04-27T04:48:29.839442Z",
     "iopub.status.busy": "2023-04-27T04:48:29.838715Z",
     "iopub.status.idle": "2023-04-27T04:48:29.844446Z",
     "shell.execute_reply": "2023-04-27T04:48:29.843620Z"
    },
    "papermill": {
     "duration": 0.056443,
     "end_time": "2023-04-27T04:48:29.846612",
     "exception": false,
     "start_time": "2023-04-27T04:48:29.790169",
     "status": "completed"
    },
    "tags": []
   },
   "outputs": [
    {
     "data": {
      "text/plain": [
       "(14602, 21)"
      ]
     },
     "execution_count": 26,
     "metadata": {},
     "output_type": "execute_result"
    }
   ],
   "source": [
    "X_pre.shape"
   ]
  },
  {
   "cell_type": "code",
   "execution_count": 27,
   "id": "37d0b8cb",
   "metadata": {
    "execution": {
     "iopub.execute_input": "2023-04-27T04:48:29.944214Z",
     "iopub.status.busy": "2023-04-27T04:48:29.943759Z",
     "iopub.status.idle": "2023-04-27T04:48:29.948350Z",
     "shell.execute_reply": "2023-04-27T04:48:29.947159Z"
    },
    "papermill": {
     "duration": 0.057607,
     "end_time": "2023-04-27T04:48:29.952059",
     "exception": false,
     "start_time": "2023-04-27T04:48:29.894452",
     "status": "completed"
    },
    "tags": []
   },
   "outputs": [],
   "source": [
    "# smote_nc = SMOTENC(categorical_features=[10,11,12,13,14,15,16,17,18,19,20],random_state=1)"
   ]
  },
  {
   "cell_type": "code",
   "execution_count": 28,
   "id": "0df59f2c",
   "metadata": {
    "execution": {
     "iopub.execute_input": "2023-04-27T04:48:30.049975Z",
     "iopub.status.busy": "2023-04-27T04:48:30.049333Z",
     "iopub.status.idle": "2023-04-27T04:48:30.056623Z",
     "shell.execute_reply": "2023-04-27T04:48:30.055125Z"
    },
    "papermill": {
     "duration": 0.059021,
     "end_time": "2023-04-27T04:48:30.059286",
     "exception": false,
     "start_time": "2023-04-27T04:48:30.000265",
     "status": "completed"
    },
    "tags": []
   },
   "outputs": [],
   "source": [
    "# def safe_divide(a, b):\n",
    "#     c = np.divide(a, b, out=np.zeros_like(a), where=(b!=0))\n",
    "#     return c\n",
    "\n",
    "# col_1 = safe_divide(X_pre[:,1],X_pre[:,0])\n",
    "# col_2 = safe_divide(X_pre[:,3],X_pre[:,2])\n",
    "# col_3 = safe_divide(X_pre[:,5],X_pre[:,4])\n",
    "\n",
    "# col_1[col_1 < 0.00001] = 0\n",
    "# col_1[col_1 > 10000] = 0\n",
    "\n",
    "# col_2[col_2 < 0.00001] = 0\n",
    "# col_2[col_2 > 10000] = 0\n",
    "\n",
    "# col_3[col_3 < 0.00001] = 0\n",
    "# col_3[col_3 > 10000] = 0\n",
    "\n",
    "\n",
    "# # X_pre = np.column_stack([col_1,col_2,col_3,X_pre])\n",
    "# # # X_pre = np.column_stack([col_1,col_2,col_3,X_pre[:,6:]])\n",
    "\n",
    "# col_4 = (col_3 * (X_pre[:,8] + 1)) * (1 - X_pre[:,6])\n",
    "# col_5 = (col_2 * (X_pre[:,8] + 1)) * (1 - X_pre[:,7])\n",
    "# col_6 = (col_1 * (X_pre[:,8] + 1)) * (1 - X_pre[:,7])\n",
    "\n",
    "# col_7 = col_4 * col_5 * col_6\n",
    "\n",
    "# # tcol_4 = test_pre[:,2] * (test_pre[:,11] + 1) * (1 - test_pre[:,9])\n",
    "\n",
    "# X_pre = np.column_stack([col_1,col_2,col_3,col_4,col_5,col_6,X_pre])\n",
    "# # # test_pre= np.column_stack([tcol_4,test_pre])\n",
    "\n",
    "# tcol_1 = safe_divide(test_pre[:,1],test_pre[:,0])\n",
    "# tcol_2 = safe_divide(test_pre[:,3],test_pre[:,2])\n",
    "# tcol_3 = safe_divide(test_pre[:,5],test_pre[:,4])\n",
    "\n",
    "# tcol_1[tcol_1 < 0.00001] = 0\n",
    "# tcol_1[tcol_1 > 10000] = 0\n",
    "\n",
    "# tcol_2[tcol_2 < 0.00001] = 0\n",
    "# tcol_2[tcol_2 > 10000] = 0\n",
    "\n",
    "# tcol_3[tcol_3 < 0.00001] = 0\n",
    "# tcol_3[tcol_3 > 10000] = 0\n",
    "\n",
    "# tcol_4 = (tcol_3 * (test_pre[:,8] + 1)) * (1 - test_pre[:,6])\n",
    "# tcol_5 = (tcol_2 * (test_pre[:,8] + 1)) * (1 - test_pre[:,7])\n",
    "# tcol_6 = (tcol_1 * (test_pre[:,8] + 1)) * (1 - test_pre[:,7])\n",
    "\n",
    "# tcol_7 = tcol_4 * tcol_5 * tcol_6\n",
    "\n",
    "# test_pre = np.column_stack([tcol_1,tcol_2,tcol_3,tcol_4,tcol_5,tcol_6,test_pre])"
   ]
  },
  {
   "cell_type": "code",
   "execution_count": 29,
   "id": "cdfdde92",
   "metadata": {
    "execution": {
     "iopub.execute_input": "2023-04-27T04:48:30.156275Z",
     "iopub.status.busy": "2023-04-27T04:48:30.155814Z",
     "iopub.status.idle": "2023-04-27T04:48:30.160934Z",
     "shell.execute_reply": "2023-04-27T04:48:30.159561Z"
    },
    "papermill": {
     "duration": 0.055827,
     "end_time": "2023-04-27T04:48:30.163524",
     "exception": false,
     "start_time": "2023-04-27T04:48:30.107697",
     "status": "completed"
    },
    "tags": []
   },
   "outputs": [],
   "source": [
    "\n",
    "# smote_nc = SMOTENC(categorical_features=[16,17,18,19,20,21,22,23,24,25,26],random_state=1)\n",
    "# # smote_nc = SMOTENC(categorical_features=[10,11,12,13,14,15,16,17,18,19,20],random_state=1)\n",
    "# X_pre,y = smote_nc.fit_resample(X_pre,y)"
   ]
  },
  {
   "cell_type": "code",
   "execution_count": 30,
   "id": "fcc99bcd",
   "metadata": {
    "execution": {
     "iopub.execute_input": "2023-04-27T04:48:30.261125Z",
     "iopub.status.busy": "2023-04-27T04:48:30.260679Z",
     "iopub.status.idle": "2023-04-27T04:48:30.269336Z",
     "shell.execute_reply": "2023-04-27T04:48:30.267541Z"
    },
    "papermill": {
     "duration": 0.060162,
     "end_time": "2023-04-27T04:48:30.271750",
     "exception": false,
     "start_time": "2023-04-27T04:48:30.211588",
     "status": "completed"
    },
    "tags": []
   },
   "outputs": [
    {
     "data": {
      "text/plain": [
       "Index(['HomePage', 'HomePage_Duration', 'LandingPage', 'LandingPage_Duration',\n",
       "       'ProductDescriptionPage', 'ProductDescriptionPage_Duration',\n",
       "       'GoogleMetric:Bounce Rates', 'GoogleMetric:Exit Rates',\n",
       "       'GoogleMetric:Page Values', 'SeasonalPurchase',\n",
       "       'Month_SeasonalPurchase', 'OS', 'SearchEngine', 'Zone',\n",
       "       'Type of Traffic', 'CustomerType', 'Gender', 'Cookies Setting',\n",
       "       'Education', 'Marital Status', 'WeekendPurchase'],\n",
       "      dtype='object')"
      ]
     },
     "execution_count": 30,
     "metadata": {},
     "output_type": "execute_result"
    }
   ],
   "source": [
    "X.columns"
   ]
  },
  {
   "cell_type": "code",
   "execution_count": 31,
   "id": "eff7d340",
   "metadata": {
    "execution": {
     "iopub.execute_input": "2023-04-27T04:48:30.368674Z",
     "iopub.status.busy": "2023-04-27T04:48:30.367466Z",
     "iopub.status.idle": "2023-04-27T04:48:30.373054Z",
     "shell.execute_reply": "2023-04-27T04:48:30.371835Z"
    },
    "papermill": {
     "duration": 0.056646,
     "end_time": "2023-04-27T04:48:30.375470",
     "exception": false,
     "start_time": "2023-04-27T04:48:30.318824",
     "status": "completed"
    },
    "tags": []
   },
   "outputs": [],
   "source": [
    "# X_pre = np.delete(X_pre,[16,18,19,20,21,22,23,24,25,26],axis=1)\n",
    "# test_pre = np.delete(test_pre,[16,18,19,20,21,22,23,24,25,26],axis=1)"
   ]
  },
  {
   "cell_type": "code",
   "execution_count": 32,
   "id": "5b92b51b",
   "metadata": {
    "execution": {
     "iopub.execute_input": "2023-04-27T04:48:30.471044Z",
     "iopub.status.busy": "2023-04-27T04:48:30.470606Z",
     "iopub.status.idle": "2023-04-27T04:48:30.475577Z",
     "shell.execute_reply": "2023-04-27T04:48:30.474413Z"
    },
    "papermill": {
     "duration": 0.055622,
     "end_time": "2023-04-27T04:48:30.478116",
     "exception": false,
     "start_time": "2023-04-27T04:48:30.422494",
     "status": "completed"
    },
    "tags": []
   },
   "outputs": [],
   "source": [
    "# #Preprocessing - Neo\n",
    "\n",
    "# num_pipe = Pipeline([('scaler',StandardScaler())])\n",
    "# ncat_pipe = Pipeline([('encoder',OneHotEncoder())])\n",
    "# # pre_pipe_ct = ColumnTransformer([('nums',num_pipe,[0,1,2,3,4,5,6,7,8,9]),('cats',cat_pipe,[10,11,12,13,14,15,16,17,18,19,20])])\n",
    "# pre_pipe_ct = ColumnTransformer([('nums',num_pipe,[0,1,2,3,4,5,6,7,8,9]),('cats',ncat_pipe,[10,11,12,13,14,15,16,17,18,19,20])])\n",
    "\n",
    "# X_pre = pre_pipe_ct.fit_transform(X_pre)\n",
    "# test_pre = pre_pipe_ct.transform(test_pre)"
   ]
  },
  {
   "cell_type": "code",
   "execution_count": 33,
   "id": "41334e63",
   "metadata": {
    "execution": {
     "iopub.execute_input": "2023-04-27T04:48:30.575737Z",
     "iopub.status.busy": "2023-04-27T04:48:30.575326Z",
     "iopub.status.idle": "2023-04-27T04:48:30.703706Z",
     "shell.execute_reply": "2023-04-27T04:48:30.702493Z"
    },
    "papermill": {
     "duration": 0.181237,
     "end_time": "2023-04-27T04:48:30.706638",
     "exception": false,
     "start_time": "2023-04-27T04:48:30.525401",
     "status": "completed"
    },
    "tags": []
   },
   "outputs": [],
   "source": [
    "ncat_pipe = Pipeline([('encoder',OneHotEncoder())])\n",
    "# npre_pipe_ct = ColumnTransformer([('cats', ncat_pipe, [16,17,18,19,20,21,22,23,24,25,26])], remainder='passthrough')\n",
    "npre_pipe_ct = ColumnTransformer([('cats', ncat_pipe, [10,11,12,13,14,15,16,17,18,19,20])], remainder='passthrough')\n",
    "# npre_pipe_ct = ColumnTransformer([('cats', ncat_pipe, [16,17])], remainder='passthrough')\n",
    "\n",
    "\n",
    "X_pre = npre_pipe_ct.fit_transform(X_pre)\n",
    "test_pre = npre_pipe_ct.transform(test_pre)"
   ]
  },
  {
   "cell_type": "code",
   "execution_count": null,
   "id": "276dfc2d",
   "metadata": {
    "papermill": {
     "duration": 0.05013,
     "end_time": "2023-04-27T04:48:30.805679",
     "exception": false,
     "start_time": "2023-04-27T04:48:30.755549",
     "status": "completed"
    },
    "tags": []
   },
   "outputs": [],
   "source": []
  },
  {
   "cell_type": "code",
   "execution_count": 34,
   "id": "0b3b4de1",
   "metadata": {
    "execution": {
     "iopub.execute_input": "2023-04-27T04:48:30.908743Z",
     "iopub.status.busy": "2023-04-27T04:48:30.907822Z",
     "iopub.status.idle": "2023-04-27T04:48:30.912976Z",
     "shell.execute_reply": "2023-04-27T04:48:30.912127Z"
    },
    "papermill": {
     "duration": 0.057393,
     "end_time": "2023-04-27T04:48:30.915389",
     "exception": false,
     "start_time": "2023-04-27T04:48:30.857996",
     "status": "completed"
    },
    "tags": []
   },
   "outputs": [],
   "source": [
    "# undersample = RandomUnderSampler(random_state=1)\n",
    "# X_pre, y = undersample.fit_resample(X_pre,y)"
   ]
  },
  {
   "cell_type": "code",
   "execution_count": 35,
   "id": "14eea77d",
   "metadata": {
    "execution": {
     "iopub.execute_input": "2023-04-27T04:48:31.014981Z",
     "iopub.status.busy": "2023-04-27T04:48:31.013619Z",
     "iopub.status.idle": "2023-04-27T04:48:33.318701Z",
     "shell.execute_reply": "2023-04-27T04:48:33.317474Z"
    },
    "papermill": {
     "duration": 2.356467,
     "end_time": "2023-04-27T04:48:33.321599",
     "exception": false,
     "start_time": "2023-04-27T04:48:30.965132",
     "status": "completed"
    },
    "tags": []
   },
   "outputs": [],
   "source": [
    "X_train, X_test, y_train, y_test = train_test_split(X_pre,y, test_size=0.40,random_state=42)\n",
    "\n",
    "\n",
    "\n",
    "smote_nc = SMOTENC(categorical_features=[10,11,12,13,14,15,16,17,18,19,20],random_state=1)\n",
    "X_train,y_train = smote_nc.fit_resample(X_train,y_train)"
   ]
  },
  {
   "cell_type": "code",
   "execution_count": 36,
   "id": "88440529",
   "metadata": {
    "execution": {
     "iopub.execute_input": "2023-04-27T04:48:33.420134Z",
     "iopub.status.busy": "2023-04-27T04:48:33.418957Z",
     "iopub.status.idle": "2023-04-27T04:48:33.425842Z",
     "shell.execute_reply": "2023-04-27T04:48:33.424682Z"
    },
    "papermill": {
     "duration": 0.058204,
     "end_time": "2023-04-27T04:48:33.428608",
     "exception": false,
     "start_time": "2023-04-27T04:48:33.370404",
     "status": "completed"
    },
    "tags": []
   },
   "outputs": [],
   "source": [
    "m1 = AdaBoostClassifier()\n",
    "m2 = RandomForestClassifier()\n",
    "m3 = XGBClassifier(max_depth=8, learning_rate=0.01)\n",
    "m4 = ExtraTreesClassifier()\n",
    "estimators = [('m1',m1),('m4',m4)]\n",
    "\n",
    "model = StackingClassifier(estimators=estimators,final_estimator=m3, passthrough=True)"
   ]
  },
  {
   "cell_type": "code",
   "execution_count": 37,
   "id": "3e77e808",
   "metadata": {
    "execution": {
     "iopub.execute_input": "2023-04-27T04:48:33.528129Z",
     "iopub.status.busy": "2023-04-27T04:48:33.527704Z",
     "iopub.status.idle": "2023-04-27T04:50:20.809359Z",
     "shell.execute_reply": "2023-04-27T04:50:20.808141Z"
    },
    "papermill": {
     "duration": 107.378818,
     "end_time": "2023-04-27T04:50:20.856651",
     "exception": false,
     "start_time": "2023-04-27T04:48:33.477833",
     "status": "completed"
    },
    "tags": []
   },
   "outputs": [
    {
     "data": {
      "text/plain": [
       "StackingClassifier(estimators=[('m1', AdaBoostClassifier()),\n",
       "                               ('m4', ExtraTreesClassifier())],\n",
       "                   final_estimator=XGBClassifier(base_score=None, booster=None,\n",
       "                                                 callbacks=None,\n",
       "                                                 colsample_bylevel=None,\n",
       "                                                 colsample_bynode=None,\n",
       "                                                 colsample_bytree=None,\n",
       "                                                 early_stopping_rounds=None,\n",
       "                                                 enable_categorical=False,\n",
       "                                                 eval_metric=None, gamma=None,\n",
       "                                                 gpu_id=None, grow_policy=None,\n",
       "                                                 importance_type=None,\n",
       "                                                 interaction_constraints=None,\n",
       "                                                 learning_rate=0.01,\n",
       "                                                 max_bin=None,\n",
       "                                                 max_cat_to_onehot=None,\n",
       "                                                 max_delta_step=None,\n",
       "                                                 max_depth=8, max_leaves=None,\n",
       "                                                 min_child_weight=None,\n",
       "                                                 missing=nan,\n",
       "                                                 monotone_constraints=None,\n",
       "                                                 n_estimators=100, n_jobs=None,\n",
       "                                                 num_parallel_tree=None,\n",
       "                                                 predictor=None,\n",
       "                                                 random_state=None,\n",
       "                                                 reg_alpha=None,\n",
       "                                                 reg_lambda=None, ...),\n",
       "                   passthrough=True)"
      ]
     },
     "execution_count": 37,
     "metadata": {},
     "output_type": "execute_result"
    }
   ],
   "source": [
    "model.fit(X_train,y_train.values.ravel())"
   ]
  },
  {
   "cell_type": "code",
   "execution_count": 38,
   "id": "d96be2ce",
   "metadata": {
    "execution": {
     "iopub.execute_input": "2023-04-27T04:50:20.953511Z",
     "iopub.status.busy": "2023-04-27T04:50:20.952731Z",
     "iopub.status.idle": "2023-04-27T04:50:21.287411Z",
     "shell.execute_reply": "2023-04-27T04:50:21.286116Z"
    },
    "papermill": {
     "duration": 0.386982,
     "end_time": "2023-04-27T04:50:21.290222",
     "exception": false,
     "start_time": "2023-04-27T04:50:20.903240",
     "status": "completed"
    },
    "tags": []
   },
   "outputs": [
    {
     "name": "stdout",
     "output_type": "stream",
     "text": [
      "[[3205  410]\n",
      " [1033 1193]]\n"
     ]
    }
   ],
   "source": [
    "print(confusion_matrix(y_test,model.predict(X_test)))"
   ]
  },
  {
   "cell_type": "code",
   "execution_count": 39,
   "id": "d9709a52",
   "metadata": {
    "execution": {
     "iopub.execute_input": "2023-04-27T04:50:21.388023Z",
     "iopub.status.busy": "2023-04-27T04:50:21.387566Z",
     "iopub.status.idle": "2023-04-27T04:50:21.972409Z",
     "shell.execute_reply": "2023-04-27T04:50:21.970682Z"
    },
    "papermill": {
     "duration": 0.636797,
     "end_time": "2023-04-27T04:50:21.975537",
     "exception": false,
     "start_time": "2023-04-27T04:50:21.338740",
     "status": "completed"
    },
    "tags": []
   },
   "outputs": [
    {
     "name": "stdout",
     "output_type": "stream",
     "text": [
      "0.6231392008357273\n"
     ]
    },
    {
     "data": {
      "image/png": "[encoded data removed]",
      "text/plain": [
       "<Figure size 432x288 with 2 Axes>"
      ]
     },
     "metadata": {
      "needs_background": "light"
     },
     "output_type": "display_data"
    }
   ],
   "source": [
    "y_pred = model.predict(X_test)\n",
    "print(f1_score(y_test,y_pred))\n",
    "\n",
    "cm = confusion_matrix(y_test,y_pred)\n",
    "cm_d = ConfusionMatrixDisplay(cm)\n",
    "\n",
    "cm_d.plot()\n",
    "plt.show()"
   ]
  },
  {
   "cell_type": "code",
   "execution_count": 40,
   "id": "86f74e79",
   "metadata": {
    "execution": {
     "iopub.execute_input": "2023-04-27T04:50:22.087115Z",
     "iopub.status.busy": "2023-04-27T04:50:22.086678Z",
     "iopub.status.idle": "2023-04-27T04:50:22.091516Z",
     "shell.execute_reply": "2023-04-27T04:50:22.090235Z"
    },
    "papermill": {
     "duration": 0.056464,
     "end_time": "2023-04-27T04:50:22.093977",
     "exception": false,
     "start_time": "2023-04-27T04:50:22.037513",
     "status": "completed"
    },
    "tags": []
   },
   "outputs": [],
   "source": [
    "# skf.split(X_pre, y)"
   ]
  },
  {
   "cell_type": "code",
   "execution_count": 41,
   "id": "736e38ef",
   "metadata": {
    "execution": {
     "iopub.execute_input": "2023-04-27T04:50:22.191584Z",
     "iopub.status.busy": "2023-04-27T04:50:22.191164Z",
     "iopub.status.idle": "2023-04-27T04:50:22.196278Z",
     "shell.execute_reply": "2023-04-27T04:50:22.195084Z"
    },
    "papermill": {
     "duration": 0.056806,
     "end_time": "2023-04-27T04:50:22.198602",
     "exception": false,
     "start_time": "2023-04-27T04:50:22.141796",
     "status": "completed"
    },
    "tags": []
   },
   "outputs": [],
   "source": [
    "# #AdaBoostClassifier\n",
    "# clf6 = LogisticRegression(class_weight='balanced',max_iter=500,C=0.5)\n",
    "# clf7 = AdaBoostClassifier(base_estimator=clf6, random_state=1,n_estimators=50)\n",
    "\n",
    "# params = {\n",
    "#     'n_estimators':[10,50,100,500],\n",
    "#     'learning_rate':[0.001,0.01,0.1,0.5,1.0]\n",
    "# }\n",
    "\n",
    "# skf = StratifiedKFold(n_splits=5,shuffle=True,random_state=1)\n",
    "\n",
    "# model = GridSearchCV(estimator=AdaBoostClassifier(base_estimator=clf6, random_state=1),param_grid=params, cv=skf,scoring=\"f1_weighted\",verbose=3)"
   ]
  },
  {
   "cell_type": "code",
   "execution_count": 42,
   "id": "155336d6",
   "metadata": {
    "execution": {
     "iopub.execute_input": "2023-04-27T04:50:22.296605Z",
     "iopub.status.busy": "2023-04-27T04:50:22.296191Z",
     "iopub.status.idle": "2023-04-27T04:50:22.301690Z",
     "shell.execute_reply": "2023-04-27T04:50:22.300432Z"
    },
    "papermill": {
     "duration": 0.057081,
     "end_time": "2023-04-27T04:50:22.304244",
     "exception": false,
     "start_time": "2023-04-27T04:50:22.247163",
     "status": "completed"
    },
    "tags": []
   },
   "outputs": [],
   "source": [
    "# #RandomForestClassifier\n",
    "\n",
    "# params = {\n",
    "#     'criterion':['entropy','gini'],\n",
    "#     'min_samples_leaf':[2,4,6,8,10],\n",
    "#     'max_depth':[4,5,6,7,8],\n",
    "#     'ccp_alpha':[0.001,0.01,0.02]\n",
    "# }\n",
    "\n",
    "# skf = StratifiedKFold(n_splits=5,shuffle=True,random_state=1)\n",
    "\n",
    "# model = GridSearchCV(estimator=RandomForestClassifier(random_state=1,class_weight='balanced'),param_grid=params, cv=skf,scoring=\"f1_weighted\",verbose=3)"
   ]
  },
  {
   "cell_type": "code",
   "execution_count": 43,
   "id": "afd4f756",
   "metadata": {
    "execution": {
     "iopub.execute_input": "2023-04-27T04:50:22.402159Z",
     "iopub.status.busy": "2023-04-27T04:50:22.401412Z",
     "iopub.status.idle": "2023-04-27T04:50:22.406806Z",
     "shell.execute_reply": "2023-04-27T04:50:22.405577Z"
    },
    "papermill": {
     "duration": 0.057011,
     "end_time": "2023-04-27T04:50:22.409187",
     "exception": false,
     "start_time": "2023-04-27T04:50:22.352176",
     "status": "completed"
    },
    "tags": []
   },
   "outputs": [],
   "source": [
    "# #MLPClassifier\n",
    "\n",
    "# params = {\n",
    "#     'hidden_layer_sizes': [(8,8,8), (6,8,6), (10,)],\n",
    "#     'activation': ['tanh', 'relu'],\n",
    "#     'solver': ['sgd', 'adam'],\n",
    "#     'alpha': [0.0001, 0.005],\n",
    "#     'learning_rate': ['constant','adaptive']\n",
    "# }\n",
    "\n",
    "# skf = StratifiedKFold(n_splits=5,shuffle=True,random_state=1)\n",
    "\n",
    "# model = GridSearchCV(estimator=MLPClassifier(random_state=1,max_iter=500),param_grid=params, cv=skf,scoring=\"f1_weighted\",verbose=3)"
   ]
  },
  {
   "cell_type": "code",
   "execution_count": 44,
   "id": "1d4ef2b9",
   "metadata": {
    "execution": {
     "iopub.execute_input": "2023-04-27T04:50:22.508157Z",
     "iopub.status.busy": "2023-04-27T04:50:22.507709Z",
     "iopub.status.idle": "2023-04-27T04:50:22.513237Z",
     "shell.execute_reply": "2023-04-27T04:50:22.511791Z"
    },
    "papermill": {
     "duration": 0.058271,
     "end_time": "2023-04-27T04:50:22.515795",
     "exception": false,
     "start_time": "2023-04-27T04:50:22.457524",
     "status": "completed"
    },
    "tags": []
   },
   "outputs": [],
   "source": [
    "# clf1 = MLPClassifier(random_state=1,max_iter=500,hidden_layer_sizes=(6,8,6), activation='relu', solver='sgd', alpha=0.0001,learning_rate='adaptive')\n",
    "\n",
    "# clf1.fit(X_train,y_train.values.ravel())\n",
    "\n",
    "# y_pred = clf1.predict(X_test)\n",
    "# print(f1_score(y_test,y_pred))\n",
    "\n",
    "# cm = confusion_matrix(y_test,y_pred)\n",
    "# cm_d = ConfusionMatrixDisplay(cm)\n",
    "\n",
    "# cm_d.plot()\n",
    "# plt.show()"
   ]
  },
  {
   "cell_type": "code",
   "execution_count": 45,
   "id": "3d93e52d",
   "metadata": {
    "execution": {
     "iopub.execute_input": "2023-04-27T04:50:22.613550Z",
     "iopub.status.busy": "2023-04-27T04:50:22.613156Z",
     "iopub.status.idle": "2023-04-27T04:50:22.618058Z",
     "shell.execute_reply": "2023-04-27T04:50:22.616890Z"
    },
    "papermill": {
     "duration": 0.056438,
     "end_time": "2023-04-27T04:50:22.620708",
     "exception": false,
     "start_time": "2023-04-27T04:50:22.564270",
     "status": "completed"
    },
    "tags": []
   },
   "outputs": [],
   "source": [
    "# model = XGBClassifier()\n",
    "# model.fit(X_pre,y.values.ravel())\n",
    "\n",
    "# sub = pd.DataFrame(model.predict(test_pre), columns=['Made_Purchase'])\n",
    "# sub.replace(0,'False',inplace=True)\n",
    "# sub.replace(1,'True',inplace=True)\n",
    "# sub.index.name = 'id'\n",
    "# sub.to_csv(\"submission.csv\", encoding='utf-8')\n",
    "                   \n",
    "# output = pd.read_csv(\"submission.csv\")"
   ]
  },
  {
   "cell_type": "code",
   "execution_count": 46,
   "id": "33bc13d9",
   "metadata": {
    "execution": {
     "iopub.execute_input": "2023-04-27T04:50:22.717373Z",
     "iopub.status.busy": "2023-04-27T04:50:22.716939Z",
     "iopub.status.idle": "2023-04-27T04:50:22.721917Z",
     "shell.execute_reply": "2023-04-27T04:50:22.721098Z"
    },
    "papermill": {
     "duration": 0.056187,
     "end_time": "2023-04-27T04:50:22.724285",
     "exception": false,
     "start_time": "2023-04-27T04:50:22.668098",
     "status": "completed"
    },
    "tags": []
   },
   "outputs": [],
   "source": [
    "# model1 = AdaBoostClassifier(random_state=1,learning_rate=0.01,n_estimators=100)\n",
    "# model2 = RandomForestClassifier(random_state=1,max_depth=10,criterion='entropy',ccp_alpha=0.01,min_samples_leaf=6)\n",
    "# model4 = DecisionTreeClassifier(random_state=1)\n",
    "\n",
    "# clf6 = LogisticRegression(class_weight='balanced',max_iter=500,C=0.05)\n",
    "# model3 = AdaBoostClassifier(base_estimator=clf6, random_state=1,n_estimators=50)\n",
    "# # model1 = AdaBoostClassifier(random_state=1)\n",
    "# # model2 = RandomForestClassifier(random_state=1)\n",
    "\n",
    "# model1.fit(X_train,y_train.values.ravel())\n",
    "# y_pred_1 = model1.predict(X_test)\n",
    "\n",
    "# model2.fit(X_train,y_train.values.ravel())\n",
    "# y_pred_2 = model2.predict(X_test)\n",
    "\n",
    "# model3.fit(X_train,y_train.values.ravel())\n",
    "# y_pred_3 = model3.predict(X_test)\n",
    "\n",
    "# model4.fit(X_train,y_train.values.ravel())\n",
    "# y_pred_4 = model4.predict(X_test)\n",
    "\n",
    "# y_new_1 = np.logical_or(y_pred_1,y_pred_3)\n",
    "\n",
    "# y_new_2 = np.logical_or(y_pred_2,y_pred_4)\n",
    "\n",
    "# y_new = np.logical_or(y_new_2,y_new_1)"
   ]
  },
  {
   "cell_type": "code",
   "execution_count": 47,
   "id": "0ac6f850",
   "metadata": {
    "execution": {
     "iopub.execute_input": "2023-04-27T04:50:22.822988Z",
     "iopub.status.busy": "2023-04-27T04:50:22.822562Z",
     "iopub.status.idle": "2023-04-27T04:50:22.828396Z",
     "shell.execute_reply": "2023-04-27T04:50:22.826990Z"
    },
    "papermill": {
     "duration": 0.059423,
     "end_time": "2023-04-27T04:50:22.831280",
     "exception": false,
     "start_time": "2023-04-27T04:50:22.771857",
     "status": "completed"
    },
    "tags": []
   },
   "outputs": [],
   "source": [
    "# y_new[-30:]"
   ]
  },
  {
   "cell_type": "code",
   "execution_count": 48,
   "id": "7f0309ed",
   "metadata": {
    "execution": {
     "iopub.execute_input": "2023-04-27T04:50:22.928057Z",
     "iopub.status.busy": "2023-04-27T04:50:22.927648Z",
     "iopub.status.idle": "2023-04-27T04:50:22.932532Z",
     "shell.execute_reply": "2023-04-27T04:50:22.931137Z"
    },
    "papermill": {
     "duration": 0.05566,
     "end_time": "2023-04-27T04:50:22.934812",
     "exception": false,
     "start_time": "2023-04-27T04:50:22.879152",
     "status": "completed"
    },
    "tags": []
   },
   "outputs": [],
   "source": [
    "# y_pred_1[-30:]"
   ]
  },
  {
   "cell_type": "code",
   "execution_count": 49,
   "id": "7daf4b2d",
   "metadata": {
    "execution": {
     "iopub.execute_input": "2023-04-27T04:50:23.034853Z",
     "iopub.status.busy": "2023-04-27T04:50:23.034468Z",
     "iopub.status.idle": "2023-04-27T04:50:23.038901Z",
     "shell.execute_reply": "2023-04-27T04:50:23.037814Z"
    },
    "papermill": {
     "duration": 0.057164,
     "end_time": "2023-04-27T04:50:23.041346",
     "exception": false,
     "start_time": "2023-04-27T04:50:22.984182",
     "status": "completed"
    },
    "tags": []
   },
   "outputs": [],
   "source": [
    "# y_pred_2[-30:]"
   ]
  },
  {
   "cell_type": "code",
   "execution_count": 50,
   "id": "4ada665e",
   "metadata": {
    "execution": {
     "iopub.execute_input": "2023-04-27T04:50:23.138451Z",
     "iopub.status.busy": "2023-04-27T04:50:23.138007Z",
     "iopub.status.idle": "2023-04-27T04:50:23.142754Z",
     "shell.execute_reply": "2023-04-27T04:50:23.141659Z"
    },
    "papermill": {
     "duration": 0.055822,
     "end_time": "2023-04-27T04:50:23.145148",
     "exception": false,
     "start_time": "2023-04-27T04:50:23.089326",
     "status": "completed"
    },
    "tags": []
   },
   "outputs": [],
   "source": [
    "# print(f1_score(y_test,y_new,average='weighted'))\n",
    "# print(f1_score(y_test,y_new))\n",
    "\n",
    "# cm = confusion_matrix(y_test,y_new)\n",
    "# cm_d = ConfusionMatrixDisplay(cm)\n",
    "\n",
    "# cm_d.plot()\n",
    "# plt.show()"
   ]
  },
  {
   "cell_type": "code",
   "execution_count": 51,
   "id": "5211ca11",
   "metadata": {
    "execution": {
     "iopub.execute_input": "2023-04-27T04:50:23.243910Z",
     "iopub.status.busy": "2023-04-27T04:50:23.243490Z",
     "iopub.status.idle": "2023-04-27T04:50:23.249020Z",
     "shell.execute_reply": "2023-04-27T04:50:23.247842Z"
    },
    "papermill": {
     "duration": 0.057577,
     "end_time": "2023-04-27T04:50:23.251535",
     "exception": false,
     "start_time": "2023-04-27T04:50:23.193958",
     "status": "completed"
    },
    "tags": []
   },
   "outputs": [],
   "source": [
    "# clf1 = MLPClassifier(random_state=1,max_iter=500,hidden_layer_sizes=(6,8,6), activation='relu', solver='sgd', alpha=0.0001,learning_rate='adaptive')\n",
    "# clf2 = RandomForestClassifier(random_state=1,max_depth=6,criterion='entropy',ccp_alpha=0.001,min_samples_leaf=6)\n",
    "# clf3 = AdaBoostClassifier(random_state=1)\n",
    "# clf4 = AdaBoostClassifier(random_state=42)\n",
    "# clf5 = DecisionTreeClassifier(random_state=1,max_depth=5,criterion='entropy',min_samples_leaf=4)\n",
    "# clf6 = LogisticRegression(class_weight='balanced',max_iter=500,C=0.5)\n",
    "# clf7 = AdaBoostClassifier(base_estimator=clf6, random_state=1,n_estimators=50)\n",
    "# clf8 = KNeighborsClassifier(n_neighbors=50)\n",
    "# # model = VotingClassifier([('ml',clf1),('rf',clf2),('ab',clf3)])\n",
    "# # model = VotingClassifier([('rf',clf3),('ab',clf7)])\n",
    "\n",
    "# # model = clf7\n",
    "\n",
    "# # model = SVC(kernel='poly',random_state=1)\n",
    "\n",
    "# model.fit(X_train,y_train.values.ravel())\n",
    "\n",
    "# y_pred = model.predict(X_test)\n",
    "# print(f1_score(y_test,y_pred,average='weighted'))\n",
    "# print(f1_score(y_test,y_pred))\n",
    "\n",
    "# cm = confusion_matrix(y_test,y_pred)\n",
    "# cm_d = ConfusionMatrixDisplay(cm)\n",
    "\n",
    "# cm_d.plot()\n",
    "# plt.show()"
   ]
  },
  {
   "cell_type": "code",
   "execution_count": 52,
   "id": "79492518",
   "metadata": {
    "execution": {
     "iopub.execute_input": "2023-04-27T04:50:23.350865Z",
     "iopub.status.busy": "2023-04-27T04:50:23.350426Z",
     "iopub.status.idle": "2023-04-27T04:50:23.355205Z",
     "shell.execute_reply": "2023-04-27T04:50:23.354227Z"
    },
    "papermill": {
     "duration": 0.056538,
     "end_time": "2023-04-27T04:50:23.357451",
     "exception": false,
     "start_time": "2023-04-27T04:50:23.300913",
     "status": "completed"
    },
    "tags": []
   },
   "outputs": [],
   "source": [
    "# # Train XGB classifier\n",
    "# xgb = XGBClassifier()\n",
    "# xgb.fit(X_train, y_train.values.ravel())\n",
    "\n",
    "# # Train Random Forest classifier\n",
    "# rf = RandomForestClassifier()\n",
    "# rf.fit(X_train, y_train.values.ravel())\n",
    "\n",
    "# # Train Neural Network classifier\n",
    "# nn = MLPClassifier(max_iter=500)\n",
    "# nn.fit(X_train, y_train.values.ravel())"
   ]
  },
  {
   "cell_type": "code",
   "execution_count": 53,
   "id": "3a38e056",
   "metadata": {
    "execution": {
     "iopub.execute_input": "2023-04-27T04:50:23.455041Z",
     "iopub.status.busy": "2023-04-27T04:50:23.454627Z",
     "iopub.status.idle": "2023-04-27T04:50:23.460157Z",
     "shell.execute_reply": "2023-04-27T04:50:23.458949Z"
    },
    "papermill": {
     "duration": 0.056847,
     "end_time": "2023-04-27T04:50:23.462539",
     "exception": false,
     "start_time": "2023-04-27T04:50:23.405692",
     "status": "completed"
    },
    "tags": []
   },
   "outputs": [],
   "source": [
    "# xgb_preds = xgb.predict(X_train).astype(bool)\n",
    "# rf_preds = rf.predict(X_train)\n",
    "# nn_preds = nn.predict(X_train)\n",
    "\n",
    "# meta_features = np.column_stack((xgb_preds, rf_preds, nn_preds))\n",
    "\n",
    "# xgb2 = XGBClassifier()\n",
    "# rf2 = RandomForestClassifier()\n",
    "# xgb2.fit(meta_features, y_train.values.ravel())\n",
    "# rf2.fit(meta_features, y_train.values.ravel())\n",
    "\n",
    "# ensemble1 = VotingClassifier(\n",
    "#     estimators=[\n",
    "#         ('xgb', xgb), ('rf', rf)\n",
    "#     ],\n",
    "#     voting='soft',\n",
    "#     weights=[xgb2, rf2]\n",
    "# )\n",
    "\n",
    "# ensemble1.fit(X_train, y_train.values.ravel())"
   ]
  },
  {
   "cell_type": "code",
   "execution_count": 54,
   "id": "80ca3103",
   "metadata": {
    "execution": {
     "iopub.execute_input": "2023-04-27T04:50:23.559047Z",
     "iopub.status.busy": "2023-04-27T04:50:23.558186Z",
     "iopub.status.idle": "2023-04-27T04:50:23.563664Z",
     "shell.execute_reply": "2023-04-27T04:50:23.562468Z"
    },
    "papermill": {
     "duration": 0.05629,
     "end_time": "2023-04-27T04:50:23.566035",
     "exception": false,
     "start_time": "2023-04-27T04:50:23.509745",
     "status": "completed"
    },
    "tags": []
   },
   "outputs": [],
   "source": [
    "# xgb2_preds = xgb2.predict(meta_features).astype(bool)\n",
    "# rf2_preds = rf2.predict(meta_features)\n",
    "\n",
    "# meta_features2 = np.column_stack((xgb2_preds, rf2_preds))\n",
    "\n",
    "# xgb3 = XGBClassifier()\n",
    "# rf3 = RandomForestClassifier()\n",
    "# xgb3.fit(meta_features2, y_train)\n",
    "# rf3.fit(meta_features2, y_train)\n",
    "\n",
    "# ensemble2 = VotingClassifier(\n",
    "#     estimators=[\n",
    "#         ('xgb2', xgb2), ('rf2', rf2)\n",
    "#     ],\n",
    "#     voting='soft',\n",
    "#     weights=[xgb3, rf3]\n",
    "# )\n",
    "\n",
    "# ensemble2.fit(meta_features, y_train)"
   ]
  },
  {
   "cell_type": "code",
   "execution_count": 55,
   "id": "5d38587b",
   "metadata": {
    "execution": {
     "iopub.execute_input": "2023-04-27T04:50:23.663084Z",
     "iopub.status.busy": "2023-04-27T04:50:23.662199Z",
     "iopub.status.idle": "2023-04-27T04:50:23.667854Z",
     "shell.execute_reply": "2023-04-27T04:50:23.666733Z"
    },
    "papermill": {
     "duration": 0.056694,
     "end_time": "2023-04-27T04:50:23.670321",
     "exception": false,
     "start_time": "2023-04-27T04:50:23.613627",
     "status": "completed"
    },
    "tags": []
   },
   "outputs": [],
   "source": [
    "# from sklearn.metrics import roc_auc_score\n",
    "\n",
    "# # Get the predicted probabilities for the test data using ensemble3\n",
    "# test_meta_features = np.column_stack((xgb.predict_proba(X_test), rf.predict_proba(X_test), xgb2.predict_proba(meta_features2), rf2.predict_proba(meta_features2)))\n",
    "# ensemble2_preds = ensemble2.predict_proba(test_meta_features)\n",
    "\n",
    "# # Calculate the ROC AUC score for the predicted probabilities\n",
    "# roc_auc = roc_auc_score(y_test, ensemble2_preds[:, 1])\n",
    "# print('Ensemble3 ROC AUC score:', roc_auc)"
   ]
  },
  {
   "cell_type": "code",
   "execution_count": 56,
   "id": "f211a7b8",
   "metadata": {
    "execution": {
     "iopub.execute_input": "2023-04-27T04:50:23.768464Z",
     "iopub.status.busy": "2023-04-27T04:50:23.768042Z",
     "iopub.status.idle": "2023-04-27T04:50:23.772807Z",
     "shell.execute_reply": "2023-04-27T04:50:23.771605Z"
    },
    "papermill": {
     "duration": 0.056513,
     "end_time": "2023-04-27T04:50:23.775034",
     "exception": false,
     "start_time": "2023-04-27T04:50:23.718521",
     "status": "completed"
    },
    "tags": []
   },
   "outputs": [],
   "source": [
    "# # Create StratifiedKFold object with 5 folds\n",
    "# skf_lite = StratifiedKFold(n_splits=5, shuffle=True, random_state=1)\n",
    "\n",
    "# # Loop through each fold and fit a ada model\n",
    "# for train_index, test_index in skf_lite.split(X_pre, y):\n",
    "#     X_train, y_train = X_pre[train_index], y.iloc[train_index]\n",
    "#     X_test, y_test = X_pre[test_index], y.iloc[test_index]\n",
    "    \n",
    "#     model.fit(X_train, y_train.values.ravel())\n",
    "    \n",
    "#     print(\"Accuracy on test set:\", model.score(X_test, y_test))"
   ]
  },
  {
   "cell_type": "code",
   "execution_count": 57,
   "id": "2159beb8",
   "metadata": {
    "execution": {
     "iopub.execute_input": "2023-04-27T04:50:23.873018Z",
     "iopub.status.busy": "2023-04-27T04:50:23.872225Z",
     "iopub.status.idle": "2023-04-27T04:50:23.877503Z",
     "shell.execute_reply": "2023-04-27T04:50:23.876458Z"
    },
    "papermill": {
     "duration": 0.056614,
     "end_time": "2023-04-27T04:50:23.879980",
     "exception": false,
     "start_time": "2023-04-27T04:50:23.823366",
     "status": "completed"
    },
    "tags": []
   },
   "outputs": [],
   "source": [
    "# model.best_params_"
   ]
  },
  {
   "cell_type": "code",
   "execution_count": 58,
   "id": "e821c765",
   "metadata": {
    "execution": {
     "iopub.execute_input": "2023-04-27T04:50:23.977453Z",
     "iopub.status.busy": "2023-04-27T04:50:23.977038Z",
     "iopub.status.idle": "2023-04-27T04:53:07.411725Z",
     "shell.execute_reply": "2023-04-27T04:53:07.410542Z"
    },
    "papermill": {
     "duration": 163.486903,
     "end_time": "2023-04-27T04:53:07.414731",
     "exception": false,
     "start_time": "2023-04-27T04:50:23.927828",
     "status": "completed"
    },
    "tags": []
   },
   "outputs": [],
   "source": [
    "# # clf1 = DecisionTreeClassifier(random_state=1)\n",
    "# clf2 = RandomForestClassifier(random_state=1,max_depth=8)\n",
    "# model = AdaBoostClassifier(random_state=1)\n",
    "\n",
    "# # model = VotingClassifier([('dt',clf1),('rf',clf2),('ab',clf3)])\n",
    "# model = VotingClassifier([('rf',clf2),('ab',clf3)])\n",
    "\n",
    "model.fit(X_pre,y.values.ravel())\n",
    "\n",
    "# model1 = AdaBoostClassifier(random_state=1,learning_rate=0.01,n_estimators=100)\n",
    "# model2 = RandomForestClassifier(random_state=1,max_depth=6,criterion='entropy',ccp_alpha=0.01,min_samples_leaf=6)\n",
    "\n",
    "# clf6 = LogisticRegression(class_weight='balanced',max_iter=500,C=0.5)\n",
    "# model3 = AdaBoostClassifier(base_estimator=clf6, random_state=1,n_estimators=50)\n",
    "\n",
    "# model1.fit(X_pre,y.values.ravel())\n",
    "# y_pred_1 = model1.predict(test_pre)\n",
    "\n",
    "# model2.fit(X_pre,y.values.ravel())\n",
    "# y_pred_2 = model2.predict(test_pre)\n",
    "\n",
    "# y_new = np.logical_or(y_pred_1,y_pred_2)\n",
    "\n",
    "# model3.fit(X_pre,y.values.ravel())\n",
    "# y_pred_3 = model3.predict(test_pre)\n",
    "\n",
    "# y_new = np.logical_or(y_pred_1,y_pred_3)\n",
    "\n",
    "# y_new_2 = np.logical_or(y_new,y_pred_2)\n",
    "\n",
    "sub = pd.DataFrame(model.predict(test_pre), columns=['Made_Purchase'])\n",
    "sub.index.name = 'id'\n",
    "sub.to_csv(\"submission.csv\", encoding='utf-8')\n",
    "                   \n",
    "output = pd.read_csv(\"submission.csv\")"
   ]
  },
  {
   "cell_type": "code",
   "execution_count": 59,
   "id": "8602c599",
   "metadata": {
    "execution": {
     "iopub.execute_input": "2023-04-27T04:53:07.510966Z",
     "iopub.status.busy": "2023-04-27T04:53:07.510054Z",
     "iopub.status.idle": "2023-04-27T04:53:07.514830Z",
     "shell.execute_reply": "2023-04-27T04:53:07.514009Z"
    },
    "papermill": {
     "duration": 0.055063,
     "end_time": "2023-04-27T04:53:07.517156",
     "exception": false,
     "start_time": "2023-04-27T04:53:07.462093",
     "status": "completed"
    },
    "tags": []
   },
   "outputs": [],
   "source": [
    "# model.best_params_"
   ]
  },
  {
   "cell_type": "code",
   "execution_count": 60,
   "id": "0ad5b34b",
   "metadata": {
    "execution": {
     "iopub.execute_input": "2023-04-27T04:53:07.613077Z",
     "iopub.status.busy": "2023-04-27T04:53:07.612674Z",
     "iopub.status.idle": "2023-04-27T04:53:07.623082Z",
     "shell.execute_reply": "2023-04-27T04:53:07.622106Z"
    },
    "papermill": {
     "duration": 0.060861,
     "end_time": "2023-04-27T04:53:07.625331",
     "exception": false,
     "start_time": "2023-04-27T04:53:07.564470",
     "status": "completed"
    },
    "tags": []
   },
   "outputs": [
    {
     "data": {
      "text/plain": [
       "Made_Purchase\n",
       "False            3999\n",
       "True             2600\n",
       "dtype: int64"
      ]
     },
     "execution_count": 60,
     "metadata": {},
     "output_type": "execute_result"
    }
   ],
   "source": [
    "sub.value_counts()"
   ]
  },
  {
   "cell_type": "markdown",
   "id": "77ec2b52",
   "metadata": {
    "papermill": {
     "duration": 0.047847,
     "end_time": "2023-04-27T04:53:07.720237",
     "exception": false,
     "start_time": "2023-04-27T04:53:07.672390",
     "status": "completed"
    },
    "tags": []
   },
   "source": [
    "<h2>Mar 28 Test</h2>"
   ]
  },
  {
   "cell_type": "code",
   "execution_count": 61,
   "id": "336ab1ed",
   "metadata": {
    "execution": {
     "iopub.execute_input": "2023-04-27T04:53:07.816628Z",
     "iopub.status.busy": "2023-04-27T04:53:07.816189Z",
     "iopub.status.idle": "2023-04-27T04:53:07.821191Z",
     "shell.execute_reply": "2023-04-27T04:53:07.819980Z"
    },
    "papermill": {
     "duration": 0.055852,
     "end_time": "2023-04-27T04:53:07.823464",
     "exception": false,
     "start_time": "2023-04-27T04:53:07.767612",
     "status": "completed"
    },
    "tags": []
   },
   "outputs": [],
   "source": [
    "# #Preprocessing - Neo\n",
    "\n",
    "# num_pipe = Pipeline([('imputer',SimpleImputer(strategy=\"mean\")),('scaler',MinMaxScaler())])\n",
    "# cat_pipe = Pipeline([('cat_imputer',SimpleImputer(strategy=\"most_frequent\")),('encoder',OrdinalEncoder())])\n",
    "# pre_pipe_ct = ColumnTransformer([('nums',num_pipe,[0,1,2,3,4,5,6,7,8,9]),('cats',cat_pipe,[10,11,12,13,14,15,16,17,18,19,20])])\n",
    "\n",
    "\n",
    "# X_pre = pre_pipe_ct.fit_transform(X)\n",
    "# test_pre = pre_pipe_ct.transform(test_data)"
   ]
  },
  {
   "cell_type": "code",
   "execution_count": 62,
   "id": "275fb8c6",
   "metadata": {
    "execution": {
     "iopub.execute_input": "2023-04-27T04:53:07.920502Z",
     "iopub.status.busy": "2023-04-27T04:53:07.920117Z",
     "iopub.status.idle": "2023-04-27T04:53:07.924839Z",
     "shell.execute_reply": "2023-04-27T04:53:07.924028Z"
    },
    "papermill": {
     "duration": 0.054937,
     "end_time": "2023-04-27T04:53:07.926810",
     "exception": false,
     "start_time": "2023-04-27T04:53:07.871873",
     "status": "completed"
    },
    "tags": []
   },
   "outputs": [],
   "source": [
    "# def safe_divide(a, b):\n",
    "#     c = np.divide(a, b, out=np.zeros_like(a), where=(b!=0))\n",
    "#     return c\n",
    "\n",
    "# col_1 = safe_divide(X_pre[:,1],X_pre[:,0])\n",
    "# col_2 = safe_divide(X_pre[:,3],X_pre[:,2])\n",
    "# col_3 = safe_divide(X_pre[:,5],X_pre[:,4])\n",
    "\n",
    "# col_1[col_1 < 0.00001] = 0\n",
    "# col_1[col_1 > 10000] = 0\n",
    "\n",
    "# col_2[col_2 < 0.00001] = 0\n",
    "# col_2[col_2 > 10000] = 0\n",
    "\n",
    "# col_3[col_3 < 0.00001] = 0\n",
    "# col_3[col_3 > 10000] = 0\n",
    "\n",
    "\n",
    "# X_pre = np.column_stack([col_1,col_2,col_3,X_pre])\n",
    "# # X_pre = np.column_stack([col_1,col_2,col_3,X_pre[:,6:]])\n",
    "\n",
    "# tcol_1 = safe_divide(test_pre[:,1],test_pre[:,0])\n",
    "# tcol_2 = safe_divide(test_pre[:,3],test_pre[:,2])\n",
    "# tcol_3 = safe_divide(test_pre[:,5],test_pre[:,4])\n",
    "\n",
    "# tcol_1[tcol_1 < 0.00001] = 0\n",
    "# tcol_1[tcol_1 > 10000] = 0\n",
    "\n",
    "# tcol_2[tcol_2 < 0.00001] = 0\n",
    "# tcol_2[tcol_2 > 10000] = 0\n",
    "\n",
    "# tcol_3[tcol_3 < 0.00001] = 0\n",
    "# tcol_3[tcol_3 > 10000] = 0\n",
    "\n",
    "# # test_pre= np.column_stack([tcol_1,tcol_2,tcol_3,test_pre[:,6:]])\n",
    "# test_pre= np.column_stack([tcol_1,tcol_2,tcol_3,test_pre])"
   ]
  },
  {
   "cell_type": "code",
   "execution_count": 63,
   "id": "b384b920",
   "metadata": {
    "execution": {
     "iopub.execute_input": "2023-04-27T04:53:08.024605Z",
     "iopub.status.busy": "2023-04-27T04:53:08.023482Z",
     "iopub.status.idle": "2023-04-27T04:53:08.027862Z",
     "shell.execute_reply": "2023-04-27T04:53:08.027088Z"
    },
    "papermill": {
     "duration": 0.055337,
     "end_time": "2023-04-27T04:53:08.030036",
     "exception": false,
     "start_time": "2023-04-27T04:53:07.974699",
     "status": "completed"
    },
    "tags": []
   },
   "outputs": [],
   "source": [
    "# col_4 = X_pre[:,2] * (X_pre[:,11] + 1) * (1 - X_pre[:,9])\n",
    "\n",
    "# tcol_4 = test_pre[:,2] * (test_pre[:,11] + 1) * (1 - test_pre[:,9])\n",
    "\n",
    "# # X_pre = np.column_stack([col_4,X_pre])\n",
    "# # test_pre= np.column_stack([tcol_4,test_pre])"
   ]
  },
  {
   "cell_type": "code",
   "execution_count": 64,
   "id": "9cb557f0",
   "metadata": {
    "execution": {
     "iopub.execute_input": "2023-04-27T04:53:08.127864Z",
     "iopub.status.busy": "2023-04-27T04:53:08.127149Z",
     "iopub.status.idle": "2023-04-27T04:53:08.131229Z",
     "shell.execute_reply": "2023-04-27T04:53:08.130351Z"
    },
    "papermill": {
     "duration": 0.055569,
     "end_time": "2023-04-27T04:53:08.133513",
     "exception": false,
     "start_time": "2023-04-27T04:53:08.077944",
     "status": "completed"
    },
    "tags": []
   },
   "outputs": [],
   "source": [
    "# col_5 = X_pre[:,1] * (X_pre[:,11] + 1) * (1 - X_pre[:,9])\n",
    "\n",
    "# tcol_5 = test_pre[:,1] * (test_pre[:,11] + 1) * (1 - test_pre[:,9])\n",
    "\n",
    "# # X_pre = np.column_stack([col_5,X_pre])\n",
    "# # test_pre= np.column_stack([tcol_5,test_pre])"
   ]
  },
  {
   "cell_type": "code",
   "execution_count": 65,
   "id": "bda714fc",
   "metadata": {
    "execution": {
     "iopub.execute_input": "2023-04-27T04:53:08.229939Z",
     "iopub.status.busy": "2023-04-27T04:53:08.229521Z",
     "iopub.status.idle": "2023-04-27T04:53:08.234615Z",
     "shell.execute_reply": "2023-04-27T04:53:08.233556Z"
    },
    "papermill": {
     "duration": 0.055866,
     "end_time": "2023-04-27T04:53:08.236783",
     "exception": false,
     "start_time": "2023-04-27T04:53:08.180917",
     "status": "completed"
    },
    "tags": []
   },
   "outputs": [],
   "source": [
    "# col_6 = X_pre[:,0] * (X_pre[:,11] + 1) * (1 - X_pre[:,9])\n",
    "\n",
    "# tcol_6 = test_pre[:,0] * (test_pre[:,11] + 1) * (1 - test_pre[:,9])\n",
    "\n",
    "# # X_pre = np.column_stack([col_6,X_pre])\n",
    "# # test_pre= np.column_stack([tcol_6,test_pre])"
   ]
  },
  {
   "cell_type": "code",
   "execution_count": 66,
   "id": "2c0f98a6",
   "metadata": {
    "execution": {
     "iopub.execute_input": "2023-04-27T04:53:08.333449Z",
     "iopub.status.busy": "2023-04-27T04:53:08.333010Z",
     "iopub.status.idle": "2023-04-27T04:53:08.337696Z",
     "shell.execute_reply": "2023-04-27T04:53:08.336361Z"
    },
    "papermill": {
     "duration": 0.055398,
     "end_time": "2023-04-27T04:53:08.339929",
     "exception": false,
     "start_time": "2023-04-27T04:53:08.284531",
     "status": "completed"
    },
    "tags": []
   },
   "outputs": [],
   "source": [
    "# X_pre = np.column_stack([col_4,col_5,col_6,X_pre])\n",
    "# test_pre= np.column_stack([tcol_4,tcol_5,tcol_6,test_pre])"
   ]
  },
  {
   "cell_type": "code",
   "execution_count": 67,
   "id": "30274242",
   "metadata": {
    "execution": {
     "iopub.execute_input": "2023-04-27T04:53:08.436125Z",
     "iopub.status.busy": "2023-04-27T04:53:08.435688Z",
     "iopub.status.idle": "2023-04-27T04:53:08.440651Z",
     "shell.execute_reply": "2023-04-27T04:53:08.439465Z"
    },
    "papermill": {
     "duration": 0.055506,
     "end_time": "2023-04-27T04:53:08.442680",
     "exception": false,
     "start_time": "2023-04-27T04:53:08.387174",
     "status": "completed"
    },
    "tags": []
   },
   "outputs": [],
   "source": [
    "# X_pre[:10,14]"
   ]
  },
  {
   "cell_type": "code",
   "execution_count": 68,
   "id": "ef8184c8",
   "metadata": {
    "execution": {
     "iopub.execute_input": "2023-04-27T04:53:08.539317Z",
     "iopub.status.busy": "2023-04-27T04:53:08.538564Z",
     "iopub.status.idle": "2023-04-27T04:53:08.542872Z",
     "shell.execute_reply": "2023-04-27T04:53:08.542034Z"
    },
    "papermill": {
     "duration": 0.055631,
     "end_time": "2023-04-27T04:53:08.545480",
     "exception": false,
     "start_time": "2023-04-27T04:53:08.489849",
     "status": "completed"
    },
    "tags": []
   },
   "outputs": [],
   "source": [
    "# X_pre.shape"
   ]
  },
  {
   "cell_type": "code",
   "execution_count": 69,
   "id": "8106523a",
   "metadata": {
    "execution": {
     "iopub.execute_input": "2023-04-27T04:53:08.642519Z",
     "iopub.status.busy": "2023-04-27T04:53:08.641724Z",
     "iopub.status.idle": "2023-04-27T04:53:08.645843Z",
     "shell.execute_reply": "2023-04-27T04:53:08.645025Z"
    },
    "papermill": {
     "duration": 0.055083,
     "end_time": "2023-04-27T04:53:08.647952",
     "exception": false,
     "start_time": "2023-04-27T04:53:08.592869",
     "status": "completed"
    },
    "tags": []
   },
   "outputs": [],
   "source": [
    "# X_pre[:30,12]"
   ]
  },
  {
   "cell_type": "code",
   "execution_count": 70,
   "id": "95abc879",
   "metadata": {
    "execution": {
     "iopub.execute_input": "2023-04-27T04:53:08.745193Z",
     "iopub.status.busy": "2023-04-27T04:53:08.744486Z",
     "iopub.status.idle": "2023-04-27T04:53:08.748664Z",
     "shell.execute_reply": "2023-04-27T04:53:08.747557Z"
    },
    "papermill": {
     "duration": 0.055708,
     "end_time": "2023-04-27T04:53:08.750876",
     "exception": false,
     "start_time": "2023-04-27T04:53:08.695168",
     "status": "completed"
    },
    "tags": []
   },
   "outputs": [],
   "source": [
    "# X_pre[:10,:]"
   ]
  },
  {
   "cell_type": "code",
   "execution_count": 71,
   "id": "dadce1cf",
   "metadata": {
    "execution": {
     "iopub.execute_input": "2023-04-27T04:53:08.847976Z",
     "iopub.status.busy": "2023-04-27T04:53:08.847200Z",
     "iopub.status.idle": "2023-04-27T04:53:08.851157Z",
     "shell.execute_reply": "2023-04-27T04:53:08.850363Z"
    },
    "papermill": {
     "duration": 0.054767,
     "end_time": "2023-04-27T04:53:08.853405",
     "exception": false,
     "start_time": "2023-04-27T04:53:08.798638",
     "status": "completed"
    },
    "tags": []
   },
   "outputs": [],
   "source": [
    "# X_pre = np.delete(X_pre,[3,4,5,6,7,8,9,10,11,17,21,24,25],axis=1)\n",
    "# test_pre = np.delete(test_pre,[3,4,5,6,7,8,9,10,11,21,24,25],axis=1)"
   ]
  },
  {
   "cell_type": "code",
   "execution_count": 72,
   "id": "44e05e8e",
   "metadata": {
    "execution": {
     "iopub.execute_input": "2023-04-27T04:53:08.953438Z",
     "iopub.status.busy": "2023-04-27T04:53:08.952786Z",
     "iopub.status.idle": "2023-04-27T04:53:08.956991Z",
     "shell.execute_reply": "2023-04-27T04:53:08.955981Z"
    },
    "papermill": {
     "duration": 0.058665,
     "end_time": "2023-04-27T04:53:08.959522",
     "exception": false,
     "start_time": "2023-04-27T04:53:08.900857",
     "status": "completed"
    },
    "tags": []
   },
   "outputs": [],
   "source": [
    "# X_train, X_test, y_train, y_test = train_test_split(X_pre,y, test_size=0.30,random_state=1)"
   ]
  },
  {
   "cell_type": "code",
   "execution_count": 73,
   "id": "2f1a895f",
   "metadata": {
    "execution": {
     "iopub.execute_input": "2023-04-27T04:53:09.057978Z",
     "iopub.status.busy": "2023-04-27T04:53:09.057563Z",
     "iopub.status.idle": "2023-04-27T04:53:09.062155Z",
     "shell.execute_reply": "2023-04-27T04:53:09.061119Z"
    },
    "papermill": {
     "duration": 0.056739,
     "end_time": "2023-04-27T04:53:09.064556",
     "exception": false,
     "start_time": "2023-04-27T04:53:09.007817",
     "status": "completed"
    },
    "tags": []
   },
   "outputs": [],
   "source": [
    "# X_pre.shape"
   ]
  },
  {
   "cell_type": "code",
   "execution_count": 74,
   "id": "3cc8b162",
   "metadata": {
    "execution": {
     "iopub.execute_input": "2023-04-27T04:53:09.161604Z",
     "iopub.status.busy": "2023-04-27T04:53:09.161192Z",
     "iopub.status.idle": "2023-04-27T04:53:09.166344Z",
     "shell.execute_reply": "2023-04-27T04:53:09.165508Z"
    },
    "papermill": {
     "duration": 0.056626,
     "end_time": "2023-04-27T04:53:09.168611",
     "exception": false,
     "start_time": "2023-04-27T04:53:09.111985",
     "status": "completed"
    },
    "tags": []
   },
   "outputs": [],
   "source": [
    "# undersample = RandomUnderSampler(random_state=1)\n",
    "# X_train, y_train = undersample.fit_resample(X_train,y_train)\n",
    "# # # smote_nc = SMOTENC(categorical_features=[14,15,16,17,18,19,20,21,22,23,24],random_state=1)\n",
    "# # # smote_nc = SMOTENC(categorical_features=[13,14,15,16,17,18,19,20,21,22,23],random_state=1)\n",
    "# # smote_nc = SMOTENC(categorical_features=[16,17,18,19,20,21,22,23,24,25,26],random_state=1)\n",
    "# # # smote_nc = SMOTENC(categorical_features=[15,16,17,18,19,20,21,22,23,24,25],random_state=1)\n",
    "# # X_train,y_train = smote_nc.fit_resample(X_train,y_train)"
   ]
  },
  {
   "cell_type": "code",
   "execution_count": 75,
   "id": "b5749d26",
   "metadata": {
    "execution": {
     "iopub.execute_input": "2023-04-27T04:53:09.266081Z",
     "iopub.status.busy": "2023-04-27T04:53:09.265311Z",
     "iopub.status.idle": "2023-04-27T04:53:09.270303Z",
     "shell.execute_reply": "2023-04-27T04:53:09.269350Z"
    },
    "papermill": {
     "duration": 0.056346,
     "end_time": "2023-04-27T04:53:09.272623",
     "exception": false,
     "start_time": "2023-04-27T04:53:09.216277",
     "status": "completed"
    },
    "tags": []
   },
   "outputs": [],
   "source": [
    "# y_train.value_counts()\n",
    "\n",
    "# model = AdaBoostClassifier(random_state=1)\n",
    "# # model = BaggingClassifier(random_state=1)\n",
    "# model.fit(X_train,y_train.values.ravel())\n",
    "# y_pred = model.predict(X_test)\n",
    "# print(f1_score(y_test,y_pred))\n",
    "\n",
    "# cm = confusion_matrix(y_test,y_pred)\n",
    "# cm_d = ConfusionMatrixDisplay(cm)\n",
    "\n",
    "# cm_d.plot()\n",
    "# plt.show()"
   ]
  },
  {
   "cell_type": "code",
   "execution_count": 76,
   "id": "96fc22bc",
   "metadata": {
    "execution": {
     "iopub.execute_input": "2023-04-27T04:53:09.369816Z",
     "iopub.status.busy": "2023-04-27T04:53:09.369014Z",
     "iopub.status.idle": "2023-04-27T04:53:09.373765Z",
     "shell.execute_reply": "2023-04-27T04:53:09.372984Z"
    },
    "papermill": {
     "duration": 0.055728,
     "end_time": "2023-04-27T04:53:09.375960",
     "exception": false,
     "start_time": "2023-04-27T04:53:09.320232",
     "status": "completed"
    },
    "tags": []
   },
   "outputs": [],
   "source": [
    "# undersample = RandomUnderSampler(random_state=1)\n",
    "# X_pre, y = undersample.fit_resample(X_pre,y)\n",
    "\n",
    "# # smote_nc = SMOTENC(categorical_features=[16,17,18,19,20,21,22,23,24,25,26],random_state=1)\n",
    "# # X_pre,y = smote_nc.fit_resample(X_pre,y)"
   ]
  },
  {
   "cell_type": "code",
   "execution_count": 77,
   "id": "ab9b368b",
   "metadata": {
    "execution": {
     "iopub.execute_input": "2023-04-27T04:53:09.475640Z",
     "iopub.status.busy": "2023-04-27T04:53:09.474819Z",
     "iopub.status.idle": "2023-04-27T04:53:09.479869Z",
     "shell.execute_reply": "2023-04-27T04:53:09.479032Z"
    },
    "papermill": {
     "duration": 0.058517,
     "end_time": "2023-04-27T04:53:09.482101",
     "exception": false,
     "start_time": "2023-04-27T04:53:09.423584",
     "status": "completed"
    },
    "tags": []
   },
   "outputs": [],
   "source": [
    "# model = AdaBoostClassifier(random_state=1)\n",
    "# model.fit(X_pre,y.values.ravel())\n",
    "# y_pred = model.predict(X_pre)\n",
    "# print(f1_score(y,y_pred))\n",
    "# # print(model.score(X_pre,y))\n",
    "# cm = confusion_matrix(y,y_pred)\n",
    "# cm_d = ConfusionMatrixDisplay(cm)\n",
    "\n",
    "# cm_d.plot()\n",
    "# plt.show()"
   ]
  },
  {
   "cell_type": "code",
   "execution_count": 78,
   "id": "f9bf16b0",
   "metadata": {
    "execution": {
     "iopub.execute_input": "2023-04-27T04:53:09.580609Z",
     "iopub.status.busy": "2023-04-27T04:53:09.579832Z",
     "iopub.status.idle": "2023-04-27T04:53:09.584513Z",
     "shell.execute_reply": "2023-04-27T04:53:09.583716Z"
    },
    "papermill": {
     "duration": 0.057843,
     "end_time": "2023-04-27T04:53:09.587135",
     "exception": false,
     "start_time": "2023-04-27T04:53:09.529292",
     "status": "completed"
    },
    "tags": []
   },
   "outputs": [],
   "source": [
    "# X_pre[8744,3]"
   ]
  },
  {
   "cell_type": "code",
   "execution_count": 79,
   "id": "cc0987fa",
   "metadata": {
    "execution": {
     "iopub.execute_input": "2023-04-27T04:53:09.684885Z",
     "iopub.status.busy": "2023-04-27T04:53:09.684055Z",
     "iopub.status.idle": "2023-04-27T04:53:09.688992Z",
     "shell.execute_reply": "2023-04-27T04:53:09.688223Z"
    },
    "papermill": {
     "duration": 0.056654,
     "end_time": "2023-04-27T04:53:09.691261",
     "exception": false,
     "start_time": "2023-04-27T04:53:09.634607",
     "status": "completed"
    },
    "tags": []
   },
   "outputs": [],
   "source": [
    "# new_train_data = np.concatenate((X_pre,y.to_numpy()),axis=1)\n",
    "# print(new_train_data.shape)\n",
    "# np.savetxt('train_29.csv',new_train_data,delimiter=',')\n",
    "# # new_train_data.to_csv(\"train.csv\", encoding='utf-8')                 \n",
    "# output = pd.read_csv(\"train_29.csv\")"
   ]
  },
  {
   "cell_type": "code",
   "execution_count": 80,
   "id": "f8238da1",
   "metadata": {
    "execution": {
     "iopub.execute_input": "2023-04-27T04:53:09.788645Z",
     "iopub.status.busy": "2023-04-27T04:53:09.787872Z",
     "iopub.status.idle": "2023-04-27T04:53:09.792900Z",
     "shell.execute_reply": "2023-04-27T04:53:09.792125Z"
    },
    "papermill": {
     "duration": 0.055913,
     "end_time": "2023-04-27T04:53:09.795105",
     "exception": false,
     "start_time": "2023-04-27T04:53:09.739192",
     "status": "completed"
    },
    "tags": []
   },
   "outputs": [],
   "source": [
    "# X_train, X_test, y_train, y_test = train_test_split(X_pre, y, test_size=0.2, random_state=1)\n",
    "\n",
    "# n_components = [2,3,4,5,6,7,8,9,10,11,12,13,14,15,16,17,18,19,20,21,22,23,24,25]\n",
    "# for n in n_components:\n",
    "#     pca = PCA(n_components=n)\n",
    "#     X_train_pca = pca.fit_transform(X_train)\n",
    "#     X_test_pca = pca.transform(X_test)\n",
    "    \n",
    "# #     clf = DecisionTreeClassifier()\n",
    "#     clf = AdaBoostClassifier()\n",
    "#     clf.fit(X_train_pca, y_train.values.ravel())\n",
    "    \n",
    "#     y_pred = clf.predict(X_test_pca)\n",
    "#     score = f1_score(y_test, y_pred)\n",
    "    \n",
    "#     print(\"Number of components:\", n, \"Accuracy:\", score)"
   ]
  },
  {
   "cell_type": "code",
   "execution_count": 81,
   "id": "b286412e",
   "metadata": {
    "execution": {
     "iopub.execute_input": "2023-04-27T04:53:09.891423Z",
     "iopub.status.busy": "2023-04-27T04:53:09.890662Z",
     "iopub.status.idle": "2023-04-27T04:53:09.895631Z",
     "shell.execute_reply": "2023-04-27T04:53:09.894863Z"
    },
    "papermill": {
     "duration": 0.055712,
     "end_time": "2023-04-27T04:53:09.897838",
     "exception": false,
     "start_time": "2023-04-27T04:53:09.842126",
     "status": "completed"
    },
    "tags": []
   },
   "outputs": [],
   "source": [
    "# pca = PCA(n_components=15)\n",
    "# X_train_pca = pca.fit_transform(X_pre)\n",
    "# X_test_pca = pca.transform(test_pre)\n",
    "\n",
    "# clf = AdaBoostClassifier()\n",
    "# clf.fit(X_train_pca, y.values.ravel())\n",
    "\n",
    "# y_pred = clf.predict(X_train_pca)\n",
    "# score = f1_score(y, y_pred)\n",
    "\n",
    "# # print(\"Number of components:\", n, \"Accuracy:\", score)"
   ]
  },
  {
   "cell_type": "code",
   "execution_count": 82,
   "id": "cf25a714",
   "metadata": {
    "execution": {
     "iopub.execute_input": "2023-04-27T04:53:09.994711Z",
     "iopub.status.busy": "2023-04-27T04:53:09.993936Z",
     "iopub.status.idle": "2023-04-27T04:53:09.998828Z",
     "shell.execute_reply": "2023-04-27T04:53:09.998050Z"
    },
    "papermill": {
     "duration": 0.055862,
     "end_time": "2023-04-27T04:53:10.001026",
     "exception": false,
     "start_time": "2023-04-27T04:53:09.945164",
     "status": "completed"
    },
    "tags": []
   },
   "outputs": [],
   "source": [
    "# model.fit(X_pre,y.values.ravel())\n",
    "\n",
    "# sub = pd.DataFrame(model.predict(test_pre), columns=['Made_Purchase'])\n",
    "# sub.index.name = 'id'\n",
    "# sub.to_csv(\"submission.csv\", encoding='utf-8')\n",
    "                   \n",
    "# output = pd.read_csv(\"submission.csv\")"
   ]
  },
  {
   "cell_type": "code",
   "execution_count": 83,
   "id": "787023b8",
   "metadata": {
    "execution": {
     "iopub.execute_input": "2023-04-27T04:53:10.097919Z",
     "iopub.status.busy": "2023-04-27T04:53:10.097143Z",
     "iopub.status.idle": "2023-04-27T04:53:10.102114Z",
     "shell.execute_reply": "2023-04-27T04:53:10.101112Z"
    },
    "papermill": {
     "duration": 0.056129,
     "end_time": "2023-04-27T04:53:10.104487",
     "exception": false,
     "start_time": "2023-04-27T04:53:10.048358",
     "status": "completed"
    },
    "tags": []
   },
   "outputs": [],
   "source": [
    "# sub.value_counts()"
   ]
  },
  {
   "cell_type": "markdown",
   "id": "596b81cb",
   "metadata": {
    "papermill": {
     "duration": 0.047401,
     "end_time": "2023-04-27T04:53:10.200099",
     "exception": false,
     "start_time": "2023-04-27T04:53:10.152698",
     "status": "completed"
    },
    "tags": []
   },
   "source": [
    "<h2>Visualizations</h2>"
   ]
  },
  {
   "cell_type": "code",
   "execution_count": 84,
   "id": "109d0e6e",
   "metadata": {
    "execution": {
     "iopub.execute_input": "2023-04-27T04:53:10.297140Z",
     "iopub.status.busy": "2023-04-27T04:53:10.296701Z",
     "iopub.status.idle": "2023-04-27T04:53:10.301382Z",
     "shell.execute_reply": "2023-04-27T04:53:10.300043Z"
    },
    "papermill": {
     "duration": 0.056258,
     "end_time": "2023-04-27T04:53:10.303776",
     "exception": false,
     "start_time": "2023-04-27T04:53:10.247518",
     "status": "completed"
    },
    "tags": []
   },
   "outputs": [],
   "source": [
    "# sns.heatmap(train_data.corr(),cmap='coolwarm')\n",
    "# plt.show()"
   ]
  },
  {
   "cell_type": "code",
   "execution_count": 85,
   "id": "9e67af5e",
   "metadata": {
    "execution": {
     "iopub.execute_input": "2023-04-27T04:53:10.400580Z",
     "iopub.status.busy": "2023-04-27T04:53:10.400193Z",
     "iopub.status.idle": "2023-04-27T04:53:10.404777Z",
     "shell.execute_reply": "2023-04-27T04:53:10.403465Z"
    },
    "papermill": {
     "duration": 0.055912,
     "end_time": "2023-04-27T04:53:10.407189",
     "exception": false,
     "start_time": "2023-04-27T04:53:10.351277",
     "status": "completed"
    },
    "tags": []
   },
   "outputs": [],
   "source": [
    "# sns.scatterplot(data=train_data, x='GoogleMetric:Bounce Rates',y='GoogleMetric:Exit Rates',hue='Made_Purchase')\n",
    "# plt.show()"
   ]
  },
  {
   "cell_type": "code",
   "execution_count": 86,
   "id": "4554a499",
   "metadata": {
    "execution": {
     "iopub.execute_input": "2023-04-27T04:53:10.503951Z",
     "iopub.status.busy": "2023-04-27T04:53:10.503559Z",
     "iopub.status.idle": "2023-04-27T04:53:10.507846Z",
     "shell.execute_reply": "2023-04-27T04:53:10.506654Z"
    },
    "papermill": {
     "duration": 0.055364,
     "end_time": "2023-04-27T04:53:10.509912",
     "exception": false,
     "start_time": "2023-04-27T04:53:10.454548",
     "status": "completed"
    },
    "tags": []
   },
   "outputs": [],
   "source": [
    "# fig, ax = plt.subplots()\n",
    "# ax.scatter(X['GoogleMetric:Page Values'],y)\n",
    "# plt.show()"
   ]
  },
  {
   "cell_type": "code",
   "execution_count": 87,
   "id": "d4488a1e",
   "metadata": {
    "execution": {
     "iopub.execute_input": "2023-04-27T04:53:10.606643Z",
     "iopub.status.busy": "2023-04-27T04:53:10.606211Z",
     "iopub.status.idle": "2023-04-27T04:53:10.610786Z",
     "shell.execute_reply": "2023-04-27T04:53:10.609554Z"
    },
    "papermill": {
     "duration": 0.055944,
     "end_time": "2023-04-27T04:53:10.613098",
     "exception": false,
     "start_time": "2023-04-27T04:53:10.557154",
     "status": "completed"
    },
    "tags": []
   },
   "outputs": [],
   "source": [
    "# plt.hist(X['GoogleMetric:Page Values'])\n",
    "# plt.show()"
   ]
  },
  {
   "cell_type": "markdown",
   "id": "a3f19530",
   "metadata": {
    "papermill": {
     "duration": 0.046967,
     "end_time": "2023-04-27T04:53:10.707887",
     "exception": false,
     "start_time": "2023-04-27T04:53:10.660920",
     "status": "completed"
    },
    "tags": []
   },
   "source": [
    "<h2>Preprocessing</h2>"
   ]
  },
  {
   "cell_type": "code",
   "execution_count": 88,
   "id": "258fe641",
   "metadata": {
    "execution": {
     "iopub.execute_input": "2023-04-27T04:53:10.807236Z",
     "iopub.status.busy": "2023-04-27T04:53:10.806636Z",
     "iopub.status.idle": "2023-04-27T04:53:10.811955Z",
     "shell.execute_reply": "2023-04-27T04:53:10.810871Z"
    },
    "papermill": {
     "duration": 0.058165,
     "end_time": "2023-04-27T04:53:10.814559",
     "exception": false,
     "start_time": "2023-04-27T04:53:10.756394",
     "status": "completed"
    },
    "tags": []
   },
   "outputs": [],
   "source": [
    "# #Max test files\n",
    "# si = SimpleImputer(strategy='mean')\n",
    "# new_X = si.fit_transform(X.iloc[:,[0,1,2,3,4,5,6,7,8]])"
   ]
  },
  {
   "cell_type": "code",
   "execution_count": 89,
   "id": "867f1c20",
   "metadata": {
    "execution": {
     "iopub.execute_input": "2023-04-27T04:53:10.911088Z",
     "iopub.status.busy": "2023-04-27T04:53:10.910663Z",
     "iopub.status.idle": "2023-04-27T04:53:10.914992Z",
     "shell.execute_reply": "2023-04-27T04:53:10.914097Z"
    },
    "papermill": {
     "duration": 0.054848,
     "end_time": "2023-04-27T04:53:10.917261",
     "exception": false,
     "start_time": "2023-04-27T04:53:10.862413",
     "status": "completed"
    },
    "tags": []
   },
   "outputs": [],
   "source": [
    "# new_X[:10,:]"
   ]
  },
  {
   "cell_type": "code",
   "execution_count": 90,
   "id": "ef50e105",
   "metadata": {
    "execution": {
     "iopub.execute_input": "2023-04-27T04:53:11.014946Z",
     "iopub.status.busy": "2023-04-27T04:53:11.014512Z",
     "iopub.status.idle": "2023-04-27T04:53:11.019742Z",
     "shell.execute_reply": "2023-04-27T04:53:11.018586Z"
    },
    "papermill": {
     "duration": 0.057143,
     "end_time": "2023-04-27T04:53:11.022153",
     "exception": false,
     "start_time": "2023-04-27T04:53:10.965010",
     "status": "completed"
    },
    "tags": []
   },
   "outputs": [],
   "source": [
    "# def safe_divide(a, b):\n",
    "#     c = np.divide(a, b, out=np.zeros_like(a), where=(b!=0))\n",
    "#     return c\n",
    "\n",
    "# col_1 = safe_divide(new_X[:,1],new_X[:,0])\n",
    "# col_2 = safe_divide(new_X[:,3],new_X[:,2])\n",
    "# col_3 = safe_divide(new_X[:,5],new_X[:,4])"
   ]
  },
  {
   "cell_type": "code",
   "execution_count": 91,
   "id": "c57b19ed",
   "metadata": {
    "execution": {
     "iopub.execute_input": "2023-04-27T04:53:11.119707Z",
     "iopub.status.busy": "2023-04-27T04:53:11.119296Z",
     "iopub.status.idle": "2023-04-27T04:53:11.124127Z",
     "shell.execute_reply": "2023-04-27T04:53:11.122945Z"
    },
    "papermill": {
     "duration": 0.05614,
     "end_time": "2023-04-27T04:53:11.126438",
     "exception": false,
     "start_time": "2023-04-27T04:53:11.070298",
     "status": "completed"
    },
    "tags": []
   },
   "outputs": [],
   "source": [
    "# check_arr = np.column_stack([col_1,col_2,col_3,new_X[:,6],new_X[:,7],new_X[:,8]])"
   ]
  },
  {
   "cell_type": "code",
   "execution_count": 92,
   "id": "560f6dea",
   "metadata": {
    "execution": {
     "iopub.execute_input": "2023-04-27T04:53:11.223343Z",
     "iopub.status.busy": "2023-04-27T04:53:11.222773Z",
     "iopub.status.idle": "2023-04-27T04:53:11.227801Z",
     "shell.execute_reply": "2023-04-27T04:53:11.226649Z"
    },
    "papermill": {
     "duration": 0.055881,
     "end_time": "2023-04-27T04:53:11.230119",
     "exception": false,
     "start_time": "2023-04-27T04:53:11.174238",
     "status": "completed"
    },
    "tags": []
   },
   "outputs": [],
   "source": [
    "# #new test file\n",
    "# new_test = si.fit_transform(test_data.iloc[:,[0,1,2,3,4,5,6,7,8]])\n",
    "# tcol_1 = safe_divide(new_test[:,1],new_test[:,0])\n",
    "# tcol_2 = safe_divide(new_test[:,3],new_test[:,2])\n",
    "# tcol_3 = safe_divide(new_test[:,5],new_test[:,4])\n",
    "\n",
    "# check_test = np.column_stack([tcol_1,tcol_2,tcol_3,new_test[:,6],new_test[:,7],new_test[:,8]])"
   ]
  },
  {
   "cell_type": "code",
   "execution_count": 93,
   "id": "1336fa1c",
   "metadata": {
    "execution": {
     "iopub.execute_input": "2023-04-27T04:53:11.326803Z",
     "iopub.status.busy": "2023-04-27T04:53:11.326406Z",
     "iopub.status.idle": "2023-04-27T04:53:11.331135Z",
     "shell.execute_reply": "2023-04-27T04:53:11.330002Z"
    },
    "papermill": {
     "duration": 0.055457,
     "end_time": "2023-04-27T04:53:11.333304",
     "exception": false,
     "start_time": "2023-04-27T04:53:11.277847",
     "status": "completed"
    },
    "tags": []
   },
   "outputs": [],
   "source": [
    "# X_train, X_test, y_train, y_test = train_test_split(check_arr,y, test_size=0.3,random_state=1)"
   ]
  },
  {
   "cell_type": "code",
   "execution_count": 94,
   "id": "adb43f93",
   "metadata": {
    "execution": {
     "iopub.execute_input": "2023-04-27T04:53:11.429727Z",
     "iopub.status.busy": "2023-04-27T04:53:11.429309Z",
     "iopub.status.idle": "2023-04-27T04:53:11.433713Z",
     "shell.execute_reply": "2023-04-27T04:53:11.432873Z"
    },
    "papermill": {
     "duration": 0.054669,
     "end_time": "2023-04-27T04:53:11.435681",
     "exception": false,
     "start_time": "2023-04-27T04:53:11.381012",
     "status": "completed"
    },
    "tags": []
   },
   "outputs": [],
   "source": [
    "# model = RandomForestClassifier(random_state=1)\n",
    "# model.fit(X_train,y_train.values.ravel())\n",
    "# y_pred = model.predict(X_test)\n",
    "# print(f1_score(y_test,y_pred))\n",
    "\n",
    "# cm = confusion_matrix(y_test,y_pred)\n",
    "# cm_d = ConfusionMatrixDisplay(cm)\n",
    "\n",
    "# cm_d.plot()\n",
    "# plt.show()"
   ]
  },
  {
   "cell_type": "code",
   "execution_count": 95,
   "id": "e1b4d9bc",
   "metadata": {
    "execution": {
     "iopub.execute_input": "2023-04-27T04:53:11.531538Z",
     "iopub.status.busy": "2023-04-27T04:53:11.531117Z",
     "iopub.status.idle": "2023-04-27T04:53:11.535631Z",
     "shell.execute_reply": "2023-04-27T04:53:11.534739Z"
    },
    "papermill": {
     "duration": 0.054933,
     "end_time": "2023-04-27T04:53:11.537740",
     "exception": false,
     "start_time": "2023-04-27T04:53:11.482807",
     "status": "completed"
    },
    "tags": []
   },
   "outputs": [],
   "source": [
    "# model = RandomForestClassifier(random_state=1)\n",
    "# model.fit(check_arr,y.values.ravel())\n",
    "# y_pred = model.predict(check_arr)\n",
    "# print(f1_score(y,y_pred))\n",
    "\n",
    "# cm = confusion_matrix(y,y_pred)\n",
    "# cm_d = ConfusionMatrixDisplay(cm)\n",
    "\n",
    "# cm_d.plot()\n",
    "# plt.show()"
   ]
  },
  {
   "cell_type": "code",
   "execution_count": 96,
   "id": "32567616",
   "metadata": {
    "execution": {
     "iopub.execute_input": "2023-04-27T04:53:11.635360Z",
     "iopub.status.busy": "2023-04-27T04:53:11.634320Z",
     "iopub.status.idle": "2023-04-27T04:53:11.638545Z",
     "shell.execute_reply": "2023-04-27T04:53:11.637817Z"
    },
    "papermill": {
     "duration": 0.054735,
     "end_time": "2023-04-27T04:53:11.640515",
     "exception": false,
     "start_time": "2023-04-27T04:53:11.585780",
     "status": "completed"
    },
    "tags": []
   },
   "outputs": [],
   "source": [
    "# sub = pd.DataFrame(model.predict(check_test), columns=['Made_Purchase'])\n",
    "# sub.index.name = 'id'\n",
    "# sub.to_csv(\"submission.csv\", encoding='utf-8')\n",
    "                   \n",
    "# output = pd.read_csv(\"submission.csv\")"
   ]
  },
  {
   "cell_type": "code",
   "execution_count": 97,
   "id": "bebe45c3",
   "metadata": {
    "execution": {
     "iopub.execute_input": "2023-04-27T04:53:11.737831Z",
     "iopub.status.busy": "2023-04-27T04:53:11.736939Z",
     "iopub.status.idle": "2023-04-27T04:53:11.741740Z",
     "shell.execute_reply": "2023-04-27T04:53:11.740898Z"
    },
    "papermill": {
     "duration": 0.055462,
     "end_time": "2023-04-27T04:53:11.743879",
     "exception": false,
     "start_time": "2023-04-27T04:53:11.688417",
     "status": "completed"
    },
    "tags": []
   },
   "outputs": [],
   "source": [
    "# sub.value_counts()"
   ]
  },
  {
   "cell_type": "code",
   "execution_count": 98,
   "id": "71047ef8",
   "metadata": {
    "execution": {
     "iopub.execute_input": "2023-04-27T04:53:11.841985Z",
     "iopub.status.busy": "2023-04-27T04:53:11.841341Z",
     "iopub.status.idle": "2023-04-27T04:53:11.845845Z",
     "shell.execute_reply": "2023-04-27T04:53:11.844683Z"
    },
    "papermill": {
     "duration": 0.055821,
     "end_time": "2023-04-27T04:53:11.848129",
     "exception": false,
     "start_time": "2023-04-27T04:53:11.792308",
     "status": "completed"
    },
    "tags": []
   },
   "outputs": [],
   "source": [
    "# col_1[:11]"
   ]
  },
  {
   "cell_type": "code",
   "execution_count": 99,
   "id": "469fb6da",
   "metadata": {
    "execution": {
     "iopub.execute_input": "2023-04-27T04:53:11.944237Z",
     "iopub.status.busy": "2023-04-27T04:53:11.943788Z",
     "iopub.status.idle": "2023-04-27T04:53:11.948277Z",
     "shell.execute_reply": "2023-04-27T04:53:11.947280Z"
    },
    "papermill": {
     "duration": 0.055,
     "end_time": "2023-04-27T04:53:11.950389",
     "exception": false,
     "start_time": "2023-04-27T04:53:11.895389",
     "status": "completed"
    },
    "tags": []
   },
   "outputs": [],
   "source": [
    "# new_col_1 = np.where(col_1 != 0, 1, col_1)"
   ]
  },
  {
   "cell_type": "code",
   "execution_count": 100,
   "id": "0c34bb0f",
   "metadata": {
    "execution": {
     "iopub.execute_input": "2023-04-27T04:53:12.047874Z",
     "iopub.status.busy": "2023-04-27T04:53:12.046719Z",
     "iopub.status.idle": "2023-04-27T04:53:12.051512Z",
     "shell.execute_reply": "2023-04-27T04:53:12.050471Z"
    },
    "papermill": {
     "duration": 0.055754,
     "end_time": "2023-04-27T04:53:12.053752",
     "exception": false,
     "start_time": "2023-04-27T04:53:11.997998",
     "status": "completed"
    },
    "tags": []
   },
   "outputs": [],
   "source": [
    "# new_col_1[:11]"
   ]
  },
  {
   "cell_type": "code",
   "execution_count": 101,
   "id": "0aa4ceb2",
   "metadata": {
    "execution": {
     "iopub.execute_input": "2023-04-27T04:53:12.149948Z",
     "iopub.status.busy": "2023-04-27T04:53:12.149529Z",
     "iopub.status.idle": "2023-04-27T04:53:12.153969Z",
     "shell.execute_reply": "2023-04-27T04:53:12.152842Z"
    },
    "papermill": {
     "duration": 0.05533,
     "end_time": "2023-04-27T04:53:12.156237",
     "exception": false,
     "start_time": "2023-04-27T04:53:12.100907",
     "status": "completed"
    },
    "tags": []
   },
   "outputs": [],
   "source": [
    "# col_2[:11]\n",
    "# new_col_2 = np.where(col_2 != 0, 1, col_2)"
   ]
  },
  {
   "cell_type": "code",
   "execution_count": 102,
   "id": "0f83bc6f",
   "metadata": {
    "execution": {
     "iopub.execute_input": "2023-04-27T04:53:12.253308Z",
     "iopub.status.busy": "2023-04-27T04:53:12.252319Z",
     "iopub.status.idle": "2023-04-27T04:53:12.257146Z",
     "shell.execute_reply": "2023-04-27T04:53:12.256196Z"
    },
    "papermill": {
     "duration": 0.055905,
     "end_time": "2023-04-27T04:53:12.259417",
     "exception": false,
     "start_time": "2023-04-27T04:53:12.203512",
     "status": "completed"
    },
    "tags": []
   },
   "outputs": [],
   "source": [
    "# col_3[:11]\n",
    "# new_col_3 = np.where(col_3 != 0, 1, col_3)"
   ]
  },
  {
   "cell_type": "code",
   "execution_count": 103,
   "id": "1ffd70bc",
   "metadata": {
    "execution": {
     "iopub.execute_input": "2023-04-27T04:53:12.355292Z",
     "iopub.status.busy": "2023-04-27T04:53:12.354875Z",
     "iopub.status.idle": "2023-04-27T04:53:12.359688Z",
     "shell.execute_reply": "2023-04-27T04:53:12.358536Z"
    },
    "papermill": {
     "duration": 0.055378,
     "end_time": "2023-04-27T04:53:12.361844",
     "exception": false,
     "start_time": "2023-04-27T04:53:12.306466",
     "status": "completed"
    },
    "tags": []
   },
   "outputs": [],
   "source": [
    "# print(col_1.shape)\n",
    "# print(col_2.shape)\n",
    "# print(col_3.shape)\n",
    "# print(new_X[:,6].shape)\n",
    "# print(new_X[:,7].shape)\n",
    "# print(new_X[:,8].shape)"
   ]
  },
  {
   "cell_type": "code",
   "execution_count": 104,
   "id": "919d5e37",
   "metadata": {
    "execution": {
     "iopub.execute_input": "2023-04-27T04:53:12.458831Z",
     "iopub.status.busy": "2023-04-27T04:53:12.458436Z",
     "iopub.status.idle": "2023-04-27T04:53:12.462772Z",
     "shell.execute_reply": "2023-04-27T04:53:12.461310Z"
    },
    "papermill": {
     "duration": 0.056002,
     "end_time": "2023-04-27T04:53:12.465308",
     "exception": false,
     "start_time": "2023-04-27T04:53:12.409306",
     "status": "completed"
    },
    "tags": []
   },
   "outputs": [],
   "source": [
    "# check_arr.shape"
   ]
  },
  {
   "cell_type": "code",
   "execution_count": 105,
   "id": "2d3936e1",
   "metadata": {
    "execution": {
     "iopub.execute_input": "2023-04-27T04:53:12.561868Z",
     "iopub.status.busy": "2023-04-27T04:53:12.561495Z",
     "iopub.status.idle": "2023-04-27T04:53:12.565851Z",
     "shell.execute_reply": "2023-04-27T04:53:12.564749Z"
    },
    "papermill": {
     "duration": 0.055369,
     "end_time": "2023-04-27T04:53:12.568163",
     "exception": false,
     "start_time": "2023-04-27T04:53:12.512794",
     "status": "completed"
    },
    "tags": []
   },
   "outputs": [],
   "source": [
    "# check_arr[:30]"
   ]
  },
  {
   "cell_type": "code",
   "execution_count": 106,
   "id": "f2a1dc0f",
   "metadata": {
    "execution": {
     "iopub.execute_input": "2023-04-27T04:53:12.666255Z",
     "iopub.status.busy": "2023-04-27T04:53:12.665854Z",
     "iopub.status.idle": "2023-04-27T04:53:12.670048Z",
     "shell.execute_reply": "2023-04-27T04:53:12.669012Z"
    },
    "papermill": {
     "duration": 0.055594,
     "end_time": "2023-04-27T04:53:12.672626",
     "exception": false,
     "start_time": "2023-04-27T04:53:12.617032",
     "status": "completed"
    },
    "tags": []
   },
   "outputs": [],
   "source": [
    "# model = RandomForestClassifier(random_state=1)\n",
    "# model.fit(check_arr,y.values.ravel())\n",
    "# y_pred = model.predict(check_arr)\n",
    "# print(f1_score(y,y_pred))\n",
    "\n",
    "# cm = confusion_matrix(y,y_pred)\n",
    "# cm_d = ConfusionMatrixDisplay(cm)\n",
    "\n",
    "# cm_d.plot()\n",
    "# plt.show()"
   ]
  },
  {
   "cell_type": "code",
   "execution_count": 107,
   "id": "4a10e7ef",
   "metadata": {
    "execution": {
     "iopub.execute_input": "2023-04-27T04:53:12.769941Z",
     "iopub.status.busy": "2023-04-27T04:53:12.769542Z",
     "iopub.status.idle": "2023-04-27T04:53:12.773933Z",
     "shell.execute_reply": "2023-04-27T04:53:12.772741Z"
    },
    "papermill": {
     "duration": 0.0556,
     "end_time": "2023-04-27T04:53:12.776231",
     "exception": false,
     "start_time": "2023-04-27T04:53:12.720631",
     "status": "completed"
    },
    "tags": []
   },
   "outputs": [],
   "source": [
    "# new_check_arr = np.column_stack([new_col_1,new_col_2,new_col_3,new_X[:,6],new_X[:,7],new_X[:,8]])"
   ]
  },
  {
   "cell_type": "code",
   "execution_count": 108,
   "id": "8f21131c",
   "metadata": {
    "execution": {
     "iopub.execute_input": "2023-04-27T04:53:12.873197Z",
     "iopub.status.busy": "2023-04-27T04:53:12.872509Z",
     "iopub.status.idle": "2023-04-27T04:53:12.876499Z",
     "shell.execute_reply": "2023-04-27T04:53:12.875712Z"
    },
    "papermill": {
     "duration": 0.054905,
     "end_time": "2023-04-27T04:53:12.878589",
     "exception": false,
     "start_time": "2023-04-27T04:53:12.823684",
     "status": "completed"
    },
    "tags": []
   },
   "outputs": [],
   "source": [
    "# model = RandomForestClassifier(random_state=1)\n",
    "# model.fit(new_check_arr,y.values.ravel())\n",
    "# y_pred = model.predict(new_check_arr)\n",
    "# print(f1_score(y,y_pred))\n",
    "\n",
    "# cm = confusion_matrix(y,y_pred)\n",
    "# cm_d = ConfusionMatrixDisplay(cm)\n",
    "\n",
    "# cm_d.plot()\n",
    "# plt.show()"
   ]
  },
  {
   "cell_type": "code",
   "execution_count": 109,
   "id": "ba42252e",
   "metadata": {
    "execution": {
     "iopub.execute_input": "2023-04-27T04:53:12.975708Z",
     "iopub.status.busy": "2023-04-27T04:53:12.975041Z",
     "iopub.status.idle": "2023-04-27T04:53:12.979318Z",
     "shell.execute_reply": "2023-04-27T04:53:12.978439Z"
    },
    "papermill": {
     "duration": 0.055321,
     "end_time": "2023-04-27T04:53:12.981507",
     "exception": false,
     "start_time": "2023-04-27T04:53:12.926186",
     "status": "completed"
    },
    "tags": []
   },
   "outputs": [],
   "source": [
    "# #Preprocesser - 1: Simple imputer , Scaling , OrdinalEncoding , Imbalance handled  \n",
    "\n",
    "# num_pipe = Pipeline([('imputer',SimpleImputer(strategy=\"mean\")),('scaler',StandardScaler())])\n",
    "# cat_pipe = Pipeline([('cat_imputer',SimpleImputer(strategy=\"most_frequent\")),('encoder',OrdinalEncoder())])\n",
    "# pre_pipe_ct = ColumnTransformer([('nums',num_pipe,[0,1,2,3,4,5,6,7,8,9]),('cats',cat_pipe,[10,11,12,13,14,15,16,17,18,19,20])])\n",
    "\n",
    "# X_pre = pre_pipe_ct.fit_transform(X)\n",
    "# test_pre = pre_pipe_ct.transform(test_data)\n",
    "\n",
    "# smote_nc = SMOTENC(categorical_features=[10,11,12,13,14,15,16,17,18,19,20],random_state=1)\n",
    "# X_pre, y = smote_nc.fit_resample(X_pre,y)"
   ]
  },
  {
   "cell_type": "code",
   "execution_count": 110,
   "id": "6673144c",
   "metadata": {
    "execution": {
     "iopub.execute_input": "2023-04-27T04:53:13.079360Z",
     "iopub.status.busy": "2023-04-27T04:53:13.078673Z",
     "iopub.status.idle": "2023-04-27T04:53:13.083244Z",
     "shell.execute_reply": "2023-04-27T04:53:13.082386Z"
    },
    "papermill": {
     "duration": 0.056167,
     "end_time": "2023-04-27T04:53:13.085441",
     "exception": false,
     "start_time": "2023-04-27T04:53:13.029274",
     "status": "completed"
    },
    "tags": []
   },
   "outputs": [],
   "source": [
    "# #Preprocessor - 2: Simple imputer , OrdinalEncoding , Imbalance handled\n",
    "\n",
    "# num_pipe = Pipeline([('imputer',SimpleImputer(strategy=\"mean\"))])\n",
    "# cat_pipe = Pipeline([('cat_imputer',SimpleImputer(strategy=\"most_frequent\")),('encoder',OrdinalEncoder())])\n",
    "# pre_pipe_ct = ColumnTransformer([('nums',num_pipe,[0,1,2,3,4,5,6,7,8,9]),('cats',cat_pipe,[10,11,12,13,14,15,16,17,18,19,20])])\n",
    "\n",
    "# X_pre = pre_pipe_ct.fit_transform(X)\n",
    "# test_pre = pre_pipe_ct.transform(test_data)\n",
    "\n",
    "# smote_nc = SMOTENC(categorical_features=[10,11,12,13,14,15,16,17,18,19,20],random_state=1)\n",
    "# X_pre, y = smote_nc.fit_resample(X_pre,y)"
   ]
  },
  {
   "cell_type": "code",
   "execution_count": 111,
   "id": "f7dfcc69",
   "metadata": {
    "execution": {
     "iopub.execute_input": "2023-04-27T04:53:13.183295Z",
     "iopub.status.busy": "2023-04-27T04:53:13.182868Z",
     "iopub.status.idle": "2023-04-27T04:53:13.187716Z",
     "shell.execute_reply": "2023-04-27T04:53:13.186636Z"
    },
    "papermill": {
     "duration": 0.056271,
     "end_time": "2023-04-27T04:53:13.189876",
     "exception": false,
     "start_time": "2023-04-27T04:53:13.133605",
     "status": "completed"
    },
    "tags": []
   },
   "outputs": [],
   "source": [
    "# X['Home'] = X.apply(lambda row: row['HomePage_Duration'] * row['HomePage'], axis=1)\n",
    "# X['Land'] = X.apply(lambda row: row['LandingPage_Duration'] * row['LandingPage'], axis=1)\n",
    "# X['Product'] = X.apply(lambda row: row['ProductDescriptionPage_Duration'] * row['ProductDescriptionPage'], axis=1)\n",
    "# test_data['Home'] = test_data.apply(lambda row: row['HomePage_Duration'] * row['HomePage'], axis=1)\n",
    "# test_data['Land'] = test_data.apply(lambda row: row['LandingPage_Duration'] * row['LandingPage'], axis=1)\n",
    "# test_data['Product'] = test_data.apply(lambda row: row['ProductDescriptionPage_Duration'] * row['ProductDescriptionPage'], axis=1)"
   ]
  },
  {
   "cell_type": "code",
   "execution_count": 112,
   "id": "f90e5d6d",
   "metadata": {
    "execution": {
     "iopub.execute_input": "2023-04-27T04:53:13.288537Z",
     "iopub.status.busy": "2023-04-27T04:53:13.288108Z",
     "iopub.status.idle": "2023-04-27T04:53:13.292388Z",
     "shell.execute_reply": "2023-04-27T04:53:13.291357Z"
    },
    "papermill": {
     "duration": 0.055958,
     "end_time": "2023-04-27T04:53:13.294423",
     "exception": false,
     "start_time": "2023-04-27T04:53:13.238465",
     "status": "completed"
    },
    "tags": []
   },
   "outputs": [],
   "source": [
    "# X.columns"
   ]
  },
  {
   "cell_type": "code",
   "execution_count": 113,
   "id": "7d223cbc",
   "metadata": {
    "execution": {
     "iopub.execute_input": "2023-04-27T04:53:13.391163Z",
     "iopub.status.busy": "2023-04-27T04:53:13.390743Z",
     "iopub.status.idle": "2023-04-27T04:53:13.395050Z",
     "shell.execute_reply": "2023-04-27T04:53:13.394023Z"
    },
    "papermill": {
     "duration": 0.055475,
     "end_time": "2023-04-27T04:53:13.397200",
     "exception": false,
     "start_time": "2023-04-27T04:53:13.341725",
     "status": "completed"
    },
    "tags": []
   },
   "outputs": [],
   "source": [
    "# X = X.iloc[:,6:]\n",
    "# test_data = test_data.iloc[:,6:]"
   ]
  },
  {
   "cell_type": "code",
   "execution_count": 114,
   "id": "4c88b46c",
   "metadata": {
    "execution": {
     "iopub.execute_input": "2023-04-27T04:53:13.493735Z",
     "iopub.status.busy": "2023-04-27T04:53:13.493310Z",
     "iopub.status.idle": "2023-04-27T04:53:13.498122Z",
     "shell.execute_reply": "2023-04-27T04:53:13.497021Z"
    },
    "papermill": {
     "duration": 0.056077,
     "end_time": "2023-04-27T04:53:13.500368",
     "exception": false,
     "start_time": "2023-04-27T04:53:13.444291",
     "status": "completed"
    },
    "tags": []
   },
   "outputs": [],
   "source": [
    "# X.iloc[:,15]"
   ]
  },
  {
   "cell_type": "code",
   "execution_count": 115,
   "id": "bf23a856",
   "metadata": {
    "execution": {
     "iopub.execute_input": "2023-04-27T04:53:13.596764Z",
     "iopub.status.busy": "2023-04-27T04:53:13.596349Z",
     "iopub.status.idle": "2023-04-27T04:53:13.600339Z",
     "shell.execute_reply": "2023-04-27T04:53:13.599353Z"
    },
    "papermill": {
     "duration": 0.054913,
     "end_time": "2023-04-27T04:53:13.602696",
     "exception": false,
     "start_time": "2023-04-27T04:53:13.547783",
     "status": "completed"
    },
    "tags": []
   },
   "outputs": [],
   "source": [
    "# X.Home"
   ]
  },
  {
   "cell_type": "code",
   "execution_count": 116,
   "id": "99d28124",
   "metadata": {
    "execution": {
     "iopub.execute_input": "2023-04-27T04:53:13.701127Z",
     "iopub.status.busy": "2023-04-27T04:53:13.700721Z",
     "iopub.status.idle": "2023-04-27T04:53:13.705511Z",
     "shell.execute_reply": "2023-04-27T04:53:13.704369Z"
    },
    "papermill": {
     "duration": 0.056201,
     "end_time": "2023-04-27T04:53:13.707660",
     "exception": false,
     "start_time": "2023-04-27T04:53:13.651459",
     "status": "completed"
    },
    "tags": []
   },
   "outputs": [],
   "source": [
    "# X.columns"
   ]
  },
  {
   "cell_type": "code",
   "execution_count": 117,
   "id": "deacf13e",
   "metadata": {
    "execution": {
     "iopub.execute_input": "2023-04-27T04:53:13.862294Z",
     "iopub.status.busy": "2023-04-27T04:53:13.861481Z",
     "iopub.status.idle": "2023-04-27T04:53:13.867020Z",
     "shell.execute_reply": "2023-04-27T04:53:13.866162Z"
    },
    "papermill": {
     "duration": 0.057527,
     "end_time": "2023-04-27T04:53:13.869217",
     "exception": false,
     "start_time": "2023-04-27T04:53:13.811690",
     "status": "completed"
    },
    "tags": []
   },
   "outputs": [],
   "source": [
    "# last_cols = X.iloc[:, -3:]\n",
    "\n",
    "# # select the remaining columns using iloc\n",
    "# first_cols = X.iloc[:, :-3]\n",
    "\n",
    "# # concatenate the last three columns with the first columns\n",
    "# X = pd.concat([last_cols, first_cols], axis=1)"
   ]
  },
  {
   "cell_type": "code",
   "execution_count": 118,
   "id": "79d5d702",
   "metadata": {
    "execution": {
     "iopub.execute_input": "2023-04-27T04:53:13.966787Z",
     "iopub.status.busy": "2023-04-27T04:53:13.965640Z",
     "iopub.status.idle": "2023-04-27T04:53:13.970542Z",
     "shell.execute_reply": "2023-04-27T04:53:13.969427Z"
    },
    "papermill": {
     "duration": 0.055974,
     "end_time": "2023-04-27T04:53:13.973123",
     "exception": false,
     "start_time": "2023-04-27T04:53:13.917149",
     "status": "completed"
    },
    "tags": []
   },
   "outputs": [],
   "source": [
    "# X"
   ]
  },
  {
   "cell_type": "code",
   "execution_count": null,
   "id": "679e6b04",
   "metadata": {
    "papermill": {
     "duration": 0.048107,
     "end_time": "2023-04-27T04:53:14.069843",
     "exception": false,
     "start_time": "2023-04-27T04:53:14.021736",
     "status": "completed"
    },
    "tags": []
   },
   "outputs": [],
   "source": []
  },
  {
   "cell_type": "code",
   "execution_count": 119,
   "id": "6cc0f0ec",
   "metadata": {
    "execution": {
     "iopub.execute_input": "2023-04-27T04:53:14.168609Z",
     "iopub.status.busy": "2023-04-27T04:53:14.168181Z",
     "iopub.status.idle": "2023-04-27T04:53:14.172031Z",
     "shell.execute_reply": "2023-04-27T04:53:14.171204Z"
    },
    "papermill": {
     "duration": 0.056358,
     "end_time": "2023-04-27T04:53:14.174171",
     "exception": false,
     "start_time": "2023-04-27T04:53:14.117813",
     "status": "completed"
    },
    "tags": []
   },
   "outputs": [],
   "source": [
    "# new_X"
   ]
  },
  {
   "cell_type": "code",
   "execution_count": 120,
   "id": "014ac5ea",
   "metadata": {
    "execution": {
     "iopub.execute_input": "2023-04-27T04:53:14.273006Z",
     "iopub.status.busy": "2023-04-27T04:53:14.271794Z",
     "iopub.status.idle": "2023-04-27T04:53:14.277487Z",
     "shell.execute_reply": "2023-04-27T04:53:14.276404Z"
    },
    "papermill": {
     "duration": 0.057642,
     "end_time": "2023-04-27T04:53:14.280054",
     "exception": false,
     "start_time": "2023-04-27T04:53:14.222412",
     "status": "completed"
    },
    "tags": []
   },
   "outputs": [],
   "source": [
    "# #Preprocessor - 3: Simple imputer , Scaling , OrdinalEncoding\n",
    "\n",
    "# num_pipe = Pipeline([('imputer',SimpleImputer(strategy=\"mean\")),('scaler',StandardScaler())])\n",
    "# # num_pipe = Pipeline([('imputer',SimpleImputer(strategy=\"mean\")),('scaler',MinMaxScaler())])\n",
    "# cat_pipe = Pipeline([('cat_imputer',SimpleImputer(strategy=\"most_frequent\")),('encoder',OrdinalEncoder())])\n",
    "# # pre_pipe_ct = ColumnTransformer([('nums',num_pipe,[0,1,2,3,4,5]),('cats',cat_pipe,[6,7,8,9,10,11,12,13,14,15,16,17])])\n",
    "# # pre_pipe_ct = ColumnTransformer([('nums',num_pipe,[0,1,2,15,16,17]),('cats',cat_pipe,[3,4,5,6,7,8,9,10,11,12,13,14])])\n",
    "# pre_pipe_ct = ColumnTransformer([('nums',num_pipe,[0,1,2,3,4,5,6,7,8,9]),('cats',cat_pipe,[10,11,12,13,14,15,16,17,18,19,20])])\n",
    "\n",
    "\n",
    "# X_pre = pre_pipe_ct.fit_transform(X)\n",
    "# test_pre = pre_pipe_ct.transform(test_data)"
   ]
  },
  {
   "cell_type": "code",
   "execution_count": 121,
   "id": "c08ed642",
   "metadata": {
    "execution": {
     "iopub.execute_input": "2023-04-27T04:53:14.376995Z",
     "iopub.status.busy": "2023-04-27T04:53:14.376582Z",
     "iopub.status.idle": "2023-04-27T04:53:14.381374Z",
     "shell.execute_reply": "2023-04-27T04:53:14.380242Z"
    },
    "papermill": {
     "duration": 0.055823,
     "end_time": "2023-04-27T04:53:14.383769",
     "exception": false,
     "start_time": "2023-04-27T04:53:14.327946",
     "status": "completed"
    },
    "tags": []
   },
   "outputs": [],
   "source": [
    "# X_pre[:5,:]"
   ]
  },
  {
   "cell_type": "code",
   "execution_count": 122,
   "id": "acb2ecd0",
   "metadata": {
    "execution": {
     "iopub.execute_input": "2023-04-27T04:53:14.481672Z",
     "iopub.status.busy": "2023-04-27T04:53:14.481267Z",
     "iopub.status.idle": "2023-04-27T04:53:14.485602Z",
     "shell.execute_reply": "2023-04-27T04:53:14.484587Z"
    },
    "papermill": {
     "duration": 0.056492,
     "end_time": "2023-04-27T04:53:14.487912",
     "exception": false,
     "start_time": "2023-04-27T04:53:14.431420",
     "status": "completed"
    },
    "tags": []
   },
   "outputs": [],
   "source": [
    "# #Preprocessing - Neo\n",
    "\n",
    "# num_pipe = Pipeline([('imputer',SimpleImputer(strategy=\"mean\"))])\n",
    "# cat_pipe = Pipeline([('cat_imputer',SimpleImputer(strategy=\"most_frequent\")),('encoder',OrdinalEncoder())])\n",
    "# # pre_pipe_ct = ColumnTransformer([('nums',num_pipe,[0,1,2,3,4,5]),('cats',cat_pipe,[6,7,8,9,10,11,12,13,14,15,16,17])])\n",
    "# # pre_pipe_ct = ColumnTransformer([('nums',num_pipe,[0,1,2,15,16,17]),('cats',cat_pipe,[3,4,5,6,7,8,9,10,11,12,13,14])])\n",
    "# pre_pipe_ct = ColumnTransformer([('nums',num_pipe,[0,1,2,3,4,5,6,7,8,9]),('cats',cat_pipe,[10,11,12,13,14,15,16,17,18,19,20])])\n",
    "\n",
    "\n",
    "# X_pre = pre_pipe_ct.fit_transform(X)\n",
    "# test_pre = pre_pipe_ct.transform(test_data)"
   ]
  },
  {
   "cell_type": "code",
   "execution_count": 123,
   "id": "124203fd",
   "metadata": {
    "execution": {
     "iopub.execute_input": "2023-04-27T04:53:14.585229Z",
     "iopub.status.busy": "2023-04-27T04:53:14.584297Z",
     "iopub.status.idle": "2023-04-27T04:53:14.589243Z",
     "shell.execute_reply": "2023-04-27T04:53:14.588112Z"
    },
    "papermill": {
     "duration": 0.056099,
     "end_time": "2023-04-27T04:53:14.591861",
     "exception": false,
     "start_time": "2023-04-27T04:53:14.535762",
     "status": "completed"
    },
    "tags": []
   },
   "outputs": [],
   "source": [
    "# print(X_pre.shape)\n",
    "# print(test_pre.shape)"
   ]
  },
  {
   "cell_type": "code",
   "execution_count": 124,
   "id": "6e01228c",
   "metadata": {
    "execution": {
     "iopub.execute_input": "2023-04-27T04:53:14.691181Z",
     "iopub.status.busy": "2023-04-27T04:53:14.690768Z",
     "iopub.status.idle": "2023-04-27T04:53:14.695522Z",
     "shell.execute_reply": "2023-04-27T04:53:14.694358Z"
    },
    "papermill": {
     "duration": 0.056578,
     "end_time": "2023-04-27T04:53:14.697768",
     "exception": false,
     "start_time": "2023-04-27T04:53:14.641190",
     "status": "completed"
    },
    "tags": []
   },
   "outputs": [],
   "source": [
    "# X_pre[:5,6]"
   ]
  },
  {
   "cell_type": "code",
   "execution_count": 125,
   "id": "3f61adf6",
   "metadata": {
    "execution": {
     "iopub.execute_input": "2023-04-27T04:53:14.794509Z",
     "iopub.status.busy": "2023-04-27T04:53:14.794124Z",
     "iopub.status.idle": "2023-04-27T04:53:14.799027Z",
     "shell.execute_reply": "2023-04-27T04:53:14.797816Z"
    },
    "papermill": {
     "duration": 0.056167,
     "end_time": "2023-04-27T04:53:14.801427",
     "exception": false,
     "start_time": "2023-04-27T04:53:14.745260",
     "status": "completed"
    },
    "tags": []
   },
   "outputs": [],
   "source": [
    "# def safe_divide(a, b):\n",
    "#     c = np.divide(a, b, out=np.zeros_like(a), where=(b!=0))\n",
    "#     return c\n",
    "\n",
    "# col_1 = safe_divide(X_pre[:,1],X_pre[:,0])\n",
    "# col_2 = safe_divide(X_pre[:,3],X_pre[:,2])\n",
    "# col_3 = safe_divide(X_pre[:,5],X_pre[:,4])\n",
    "\n",
    "# X_pre = np.column_stack([col_1,col_2,col_3,X_pre])\n",
    "# # X_pre = np.column_stack([col_1,col_2,col_3,X_pre[:,6:]])\n",
    "\n",
    "# tcol_1 = safe_divide(test_pre[:,1],test_pre[:,0])\n",
    "# tcol_2 = safe_divide(test_pre[:,3],test_pre[:,2])\n",
    "# tcol_3 = safe_divide(test_pre[:,5],test_pre[:,4])\n",
    "\n",
    "# # test_pre= np.column_stack([tcol_1,tcol_2,tcol_3,test_pre[:,6:]])\n",
    "# test_pre= np.column_stack([tcol_1,tcol_2,tcol_3,test_pre])"
   ]
  },
  {
   "cell_type": "code",
   "execution_count": 126,
   "id": "89f9c5be",
   "metadata": {
    "execution": {
     "iopub.execute_input": "2023-04-27T04:53:14.897938Z",
     "iopub.status.busy": "2023-04-27T04:53:14.897162Z",
     "iopub.status.idle": "2023-04-27T04:53:14.901207Z",
     "shell.execute_reply": "2023-04-27T04:53:14.900308Z"
    },
    "papermill": {
     "duration": 0.054822,
     "end_time": "2023-04-27T04:53:14.903493",
     "exception": false,
     "start_time": "2023-04-27T04:53:14.848671",
     "status": "completed"
    },
    "tags": []
   },
   "outputs": [],
   "source": [
    "# print(X_pre.shape)\n",
    "# print(test_pre.shape)"
   ]
  },
  {
   "cell_type": "code",
   "execution_count": 127,
   "id": "82d7532f",
   "metadata": {
    "execution": {
     "iopub.execute_input": "2023-04-27T04:53:15.001242Z",
     "iopub.status.busy": "2023-04-27T04:53:15.000824Z",
     "iopub.status.idle": "2023-04-27T04:53:15.005006Z",
     "shell.execute_reply": "2023-04-27T04:53:15.004124Z"
    },
    "papermill": {
     "duration": 0.055796,
     "end_time": "2023-04-27T04:53:15.007195",
     "exception": false,
     "start_time": "2023-04-27T04:53:14.951399",
     "status": "completed"
    },
    "tags": []
   },
   "outputs": [],
   "source": [
    "# X_pre[:5,3]"
   ]
  },
  {
   "cell_type": "code",
   "execution_count": 128,
   "id": "ee1d9fdf",
   "metadata": {
    "execution": {
     "iopub.execute_input": "2023-04-27T04:53:15.105192Z",
     "iopub.status.busy": "2023-04-27T04:53:15.104755Z",
     "iopub.status.idle": "2023-04-27T04:53:15.109325Z",
     "shell.execute_reply": "2023-04-27T04:53:15.108167Z"
    },
    "papermill": {
     "duration": 0.055889,
     "end_time": "2023-04-27T04:53:15.111589",
     "exception": false,
     "start_time": "2023-04-27T04:53:15.055700",
     "status": "completed"
    },
    "tags": []
   },
   "outputs": [],
   "source": [
    "# X_pre[:25,5]"
   ]
  },
  {
   "cell_type": "code",
   "execution_count": 129,
   "id": "67f50cbd",
   "metadata": {
    "execution": {
     "iopub.execute_input": "2023-04-27T04:53:15.208469Z",
     "iopub.status.busy": "2023-04-27T04:53:15.208024Z",
     "iopub.status.idle": "2023-04-27T04:53:15.212788Z",
     "shell.execute_reply": "2023-04-27T04:53:15.211686Z"
    },
    "papermill": {
     "duration": 0.055574,
     "end_time": "2023-04-27T04:53:15.214930",
     "exception": false,
     "start_time": "2023-04-27T04:53:15.159356",
     "status": "completed"
    },
    "tags": []
   },
   "outputs": [],
   "source": [
    "# # X_pre[:,11] = X_pre[:,11] + 1\n",
    "# # test_pre[:,11] = test_pre[:,11] + 1\n",
    "\n",
    "# X_pre[:,5] = X_pre[:,5] + 1\n",
    "# test_pre[:,5] = test_pre[:,5] + 1"
   ]
  },
  {
   "cell_type": "code",
   "execution_count": 130,
   "id": "a1c41db3",
   "metadata": {
    "execution": {
     "iopub.execute_input": "2023-04-27T04:53:15.313744Z",
     "iopub.status.busy": "2023-04-27T04:53:15.312998Z",
     "iopub.status.idle": "2023-04-27T04:53:15.316963Z",
     "shell.execute_reply": "2023-04-27T04:53:15.316145Z"
    },
    "papermill": {
     "duration": 0.0561,
     "end_time": "2023-04-27T04:53:15.318926",
     "exception": false,
     "start_time": "2023-04-27T04:53:15.262826",
     "status": "completed"
    },
    "tags": []
   },
   "outputs": [],
   "source": [
    "# X_pre[:25,11]"
   ]
  },
  {
   "cell_type": "code",
   "execution_count": 131,
   "id": "70b64fd1",
   "metadata": {
    "execution": {
     "iopub.execute_input": "2023-04-27T04:53:15.416531Z",
     "iopub.status.busy": "2023-04-27T04:53:15.415378Z",
     "iopub.status.idle": "2023-04-27T04:53:15.420100Z",
     "shell.execute_reply": "2023-04-27T04:53:15.419291Z"
    },
    "papermill": {
     "duration": 0.055544,
     "end_time": "2023-04-27T04:53:15.422155",
     "exception": false,
     "start_time": "2023-04-27T04:53:15.366611",
     "status": "completed"
    },
    "tags": []
   },
   "outputs": [],
   "source": [
    "# X_pre[:,0]  = X_pre[:,11] * X_pre[:,0]\n",
    "# test_pre[:,0]  = test_pre[:,11] * test_pre[:,0]\n",
    "\n",
    "# X_pre[:,1]  = X_pre[:,11] * X_pre[:,1]\n",
    "# test_pre[:,1]  = test_pre[:,11] * test_pre[:,1]\n",
    "\n",
    "# X_pre[:,11]  = X_pre[:,11] * X_pre[:,2]\n",
    "# test_pre[:,11]  = test_pre[:,11] * test_pre[:,2]\n",
    "\n",
    "# X_pre[:,3]  = X_pre[:,3] + X_pre[:,4]\n",
    "# test_pre[:,3]  = test_pre[:,3] + test_pre[:,4]\n",
    "\n"
   ]
  },
  {
   "cell_type": "code",
   "execution_count": 132,
   "id": "d35540d2",
   "metadata": {
    "execution": {
     "iopub.execute_input": "2023-04-27T04:53:15.520110Z",
     "iopub.status.busy": "2023-04-27T04:53:15.519432Z",
     "iopub.status.idle": "2023-04-27T04:53:15.523282Z",
     "shell.execute_reply": "2023-04-27T04:53:15.522424Z"
    },
    "papermill": {
     "duration": 0.054875,
     "end_time": "2023-04-27T04:53:15.525376",
     "exception": false,
     "start_time": "2023-04-27T04:53:15.470501",
     "status": "completed"
    },
    "tags": []
   },
   "outputs": [],
   "source": [
    "# X_pre = np.delete(X_pre,[5],axis=1)\n",
    "# test_pre = np.delete(test_pre,[5],axis=1)"
   ]
  },
  {
   "cell_type": "code",
   "execution_count": 133,
   "id": "90d1e94f",
   "metadata": {
    "execution": {
     "iopub.execute_input": "2023-04-27T04:53:15.622305Z",
     "iopub.status.busy": "2023-04-27T04:53:15.621902Z",
     "iopub.status.idle": "2023-04-27T04:53:15.625759Z",
     "shell.execute_reply": "2023-04-27T04:53:15.624922Z"
    },
    "papermill": {
     "duration": 0.055023,
     "end_time": "2023-04-27T04:53:15.627973",
     "exception": false,
     "start_time": "2023-04-27T04:53:15.572950",
     "status": "completed"
    },
    "tags": []
   },
   "outputs": [],
   "source": [
    "# X_pre[:10,:]"
   ]
  },
  {
   "cell_type": "code",
   "execution_count": 134,
   "id": "2b0bb55c",
   "metadata": {
    "execution": {
     "iopub.execute_input": "2023-04-27T04:53:15.725778Z",
     "iopub.status.busy": "2023-04-27T04:53:15.724650Z",
     "iopub.status.idle": "2023-04-27T04:53:15.729474Z",
     "shell.execute_reply": "2023-04-27T04:53:15.728383Z"
    },
    "papermill": {
     "duration": 0.055601,
     "end_time": "2023-04-27T04:53:15.731609",
     "exception": false,
     "start_time": "2023-04-27T04:53:15.676008",
     "status": "completed"
    },
    "tags": []
   },
   "outputs": [],
   "source": [
    "# X_pre[:,7]"
   ]
  },
  {
   "cell_type": "code",
   "execution_count": 135,
   "id": "a4558044",
   "metadata": {
    "execution": {
     "iopub.execute_input": "2023-04-27T04:53:15.828212Z",
     "iopub.status.busy": "2023-04-27T04:53:15.827095Z",
     "iopub.status.idle": "2023-04-27T04:53:15.831927Z",
     "shell.execute_reply": "2023-04-27T04:53:15.831000Z"
    },
    "papermill": {
     "duration": 0.055563,
     "end_time": "2023-04-27T04:53:15.834411",
     "exception": false,
     "start_time": "2023-04-27T04:53:15.778848",
     "status": "completed"
    },
    "tags": []
   },
   "outputs": [],
   "source": [
    "# X_pre.shape"
   ]
  },
  {
   "cell_type": "code",
   "execution_count": 136,
   "id": "a2ffe868",
   "metadata": {
    "execution": {
     "iopub.execute_input": "2023-04-27T04:53:15.932202Z",
     "iopub.status.busy": "2023-04-27T04:53:15.931788Z",
     "iopub.status.idle": "2023-04-27T04:53:15.936097Z",
     "shell.execute_reply": "2023-04-27T04:53:15.934845Z"
    },
    "papermill": {
     "duration": 0.055546,
     "end_time": "2023-04-27T04:53:15.938406",
     "exception": false,
     "start_time": "2023-04-27T04:53:15.882860",
     "status": "completed"
    },
    "tags": []
   },
   "outputs": [],
   "source": [
    "# train_c = np.sum(X_pre[:,[0,1,2]], axis = 1)\n",
    "# test_c = np.sum(test_pre[:,[0,1,2]], axis = 1)"
   ]
  },
  {
   "cell_type": "code",
   "execution_count": 137,
   "id": "8bb47790",
   "metadata": {
    "execution": {
     "iopub.execute_input": "2023-04-27T04:53:16.034953Z",
     "iopub.status.busy": "2023-04-27T04:53:16.034573Z",
     "iopub.status.idle": "2023-04-27T04:53:16.038713Z",
     "shell.execute_reply": "2023-04-27T04:53:16.037575Z"
    },
    "papermill": {
     "duration": 0.055303,
     "end_time": "2023-04-27T04:53:16.041041",
     "exception": false,
     "start_time": "2023-04-27T04:53:15.985738",
     "status": "completed"
    },
    "tags": []
   },
   "outputs": [],
   "source": [
    "# train_c[:10]"
   ]
  },
  {
   "cell_type": "code",
   "execution_count": 138,
   "id": "1bc05dc0",
   "metadata": {
    "execution": {
     "iopub.execute_input": "2023-04-27T04:53:16.137648Z",
     "iopub.status.busy": "2023-04-27T04:53:16.137246Z",
     "iopub.status.idle": "2023-04-27T04:53:16.141758Z",
     "shell.execute_reply": "2023-04-27T04:53:16.140497Z"
    },
    "papermill": {
     "duration": 0.055819,
     "end_time": "2023-04-27T04:53:16.144198",
     "exception": false,
     "start_time": "2023-04-27T04:53:16.088379",
     "status": "completed"
    },
    "tags": []
   },
   "outputs": [],
   "source": [
    "# X_pre = X_pre[:,[3,4,5,6,7,8,9,10,11,12,13,14,15,16,17]]\n",
    "# test_pre = test_pre[:,[3,4,5,6,7,8,9,10,11,12,13,14,15,16,17]]"
   ]
  },
  {
   "cell_type": "code",
   "execution_count": 139,
   "id": "f90e0ac7",
   "metadata": {
    "execution": {
     "iopub.execute_input": "2023-04-27T04:53:16.241415Z",
     "iopub.status.busy": "2023-04-27T04:53:16.240991Z",
     "iopub.status.idle": "2023-04-27T04:53:16.245454Z",
     "shell.execute_reply": "2023-04-27T04:53:16.244377Z"
    },
    "papermill": {
     "duration": 0.055423,
     "end_time": "2023-04-27T04:53:16.247628",
     "exception": false,
     "start_time": "2023-04-27T04:53:16.192205",
     "status": "completed"
    },
    "tags": []
   },
   "outputs": [],
   "source": [
    "# train_c.shape"
   ]
  },
  {
   "cell_type": "code",
   "execution_count": 140,
   "id": "19f05672",
   "metadata": {
    "execution": {
     "iopub.execute_input": "2023-04-27T04:53:16.344401Z",
     "iopub.status.busy": "2023-04-27T04:53:16.343976Z",
     "iopub.status.idle": "2023-04-27T04:53:16.348833Z",
     "shell.execute_reply": "2023-04-27T04:53:16.347689Z"
    },
    "papermill": {
     "duration": 0.055768,
     "end_time": "2023-04-27T04:53:16.351105",
     "exception": false,
     "start_time": "2023-04-27T04:53:16.295337",
     "status": "completed"
    },
    "tags": []
   },
   "outputs": [],
   "source": [
    "# X_pre.shape"
   ]
  },
  {
   "cell_type": "code",
   "execution_count": 141,
   "id": "0227db10",
   "metadata": {
    "execution": {
     "iopub.execute_input": "2023-04-27T04:53:16.447838Z",
     "iopub.status.busy": "2023-04-27T04:53:16.447447Z",
     "iopub.status.idle": "2023-04-27T04:53:16.452305Z",
     "shell.execute_reply": "2023-04-27T04:53:16.451280Z"
    },
    "papermill": {
     "duration": 0.055658,
     "end_time": "2023-04-27T04:53:16.454628",
     "exception": false,
     "start_time": "2023-04-27T04:53:16.398970",
     "status": "completed"
    },
    "tags": []
   },
   "outputs": [],
   "source": [
    "# train_c[train_c > 3] = 10\n",
    "# train_c[train_c < 4] = 0\n",
    "\n",
    "# test_c[test_c > 3] = 10\n",
    "# test_c[test_c < 4] = 0"
   ]
  },
  {
   "cell_type": "code",
   "execution_count": 142,
   "id": "327b8d9b",
   "metadata": {
    "execution": {
     "iopub.execute_input": "2023-04-27T04:53:16.552015Z",
     "iopub.status.busy": "2023-04-27T04:53:16.551648Z",
     "iopub.status.idle": "2023-04-27T04:53:16.555682Z",
     "shell.execute_reply": "2023-04-27T04:53:16.554526Z"
    },
    "papermill": {
     "duration": 0.055145,
     "end_time": "2023-04-27T04:53:16.557902",
     "exception": false,
     "start_time": "2023-04-27T04:53:16.502757",
     "status": "completed"
    },
    "tags": []
   },
   "outputs": [],
   "source": [
    "# X_pre = np.c_[X_pre,train_c]\n",
    "# test_pre = np.c_[test_pre,test_c]"
   ]
  },
  {
   "cell_type": "code",
   "execution_count": 143,
   "id": "ffb89372",
   "metadata": {
    "execution": {
     "iopub.execute_input": "2023-04-27T04:53:16.654807Z",
     "iopub.status.busy": "2023-04-27T04:53:16.654409Z",
     "iopub.status.idle": "2023-04-27T04:53:16.658613Z",
     "shell.execute_reply": "2023-04-27T04:53:16.657575Z"
    },
    "papermill": {
     "duration": 0.05596,
     "end_time": "2023-04-27T04:53:16.660772",
     "exception": false,
     "start_time": "2023-04-27T04:53:16.604812",
     "status": "completed"
    },
    "tags": []
   },
   "outputs": [],
   "source": [
    "# X_pre.shape"
   ]
  },
  {
   "cell_type": "code",
   "execution_count": 144,
   "id": "a12a3331",
   "metadata": {
    "execution": {
     "iopub.execute_input": "2023-04-27T04:53:16.757903Z",
     "iopub.status.busy": "2023-04-27T04:53:16.757508Z",
     "iopub.status.idle": "2023-04-27T04:53:16.762436Z",
     "shell.execute_reply": "2023-04-27T04:53:16.761217Z"
    },
    "papermill": {
     "duration": 0.056499,
     "end_time": "2023-04-27T04:53:16.764766",
     "exception": false,
     "start_time": "2023-04-27T04:53:16.708267",
     "status": "completed"
    },
    "tags": []
   },
   "outputs": [],
   "source": [
    "# X_pre[:10,15]"
   ]
  },
  {
   "cell_type": "code",
   "execution_count": 145,
   "id": "f26acc80",
   "metadata": {
    "execution": {
     "iopub.execute_input": "2023-04-27T04:53:16.861374Z",
     "iopub.status.busy": "2023-04-27T04:53:16.860697Z",
     "iopub.status.idle": "2023-04-27T04:53:16.865095Z",
     "shell.execute_reply": "2023-04-27T04:53:16.864023Z"
    },
    "papermill": {
     "duration": 0.055104,
     "end_time": "2023-04-27T04:53:16.867445",
     "exception": false,
     "start_time": "2023-04-27T04:53:16.812341",
     "status": "completed"
    },
    "tags": []
   },
   "outputs": [],
   "source": [
    "# np.savetxt('train_fe.csv',X_pre,delimiter=',')\n",
    "# # new_train_data.to_csv(\"train.csv\", encoding='utf-8')                 \n",
    "# output = pd.read_csv(\"train_fe.csv\")"
   ]
  },
  {
   "cell_type": "code",
   "execution_count": 146,
   "id": "426becd3",
   "metadata": {
    "execution": {
     "iopub.execute_input": "2023-04-27T04:53:16.966940Z",
     "iopub.status.busy": "2023-04-27T04:53:16.966549Z",
     "iopub.status.idle": "2023-04-27T04:53:16.971075Z",
     "shell.execute_reply": "2023-04-27T04:53:16.969889Z"
    },
    "papermill": {
     "duration": 0.058208,
     "end_time": "2023-04-27T04:53:16.973431",
     "exception": false,
     "start_time": "2023-04-27T04:53:16.915223",
     "status": "completed"
    },
    "tags": []
   },
   "outputs": [],
   "source": [
    "# #Preprocessor - 4: Simple imputer , OrdinalEncoding\n",
    "\n",
    "# num_pipe = Pipeline([('imputer',SimpleImputer(strategy=\"mean\"))])\n",
    "# cat_pipe = Pipeline([('cat_imputer',SimpleImputer(strategy=\"most_frequent\")),('encoder',OrdinalEncoder())])\n",
    "# pre_pipe_ct = ColumnTransformer([('nums',num_pipe,[0,1,2,3,4,5,6,7,8,9]),('cats',cat_pipe,[10,11,12,13,14,15,16,17,18,19,20])])\n",
    "\n",
    "# X_pre = pre_pipe_ct.fit_transform(X)\n",
    "# test_pre = pre_pipe_ct.transform(test_data)"
   ]
  },
  {
   "cell_type": "code",
   "execution_count": 147,
   "id": "643e8702",
   "metadata": {
    "execution": {
     "iopub.execute_input": "2023-04-27T04:53:17.070116Z",
     "iopub.status.busy": "2023-04-27T04:53:17.069695Z",
     "iopub.status.idle": "2023-04-27T04:53:17.074699Z",
     "shell.execute_reply": "2023-04-27T04:53:17.073632Z"
    },
    "papermill": {
     "duration": 0.055529,
     "end_time": "2023-04-27T04:53:17.076828",
     "exception": false,
     "start_time": "2023-04-27T04:53:17.021299",
     "status": "completed"
    },
    "tags": []
   },
   "outputs": [],
   "source": [
    "# #Preprocessor - 5: Simple imputer , Scaling , Imbalance handled , OneHotEncoding\n",
    "\n",
    "# num_pipe = Pipeline([('imputer',SimpleImputer(strategy=\"mean\")),('scaler',StandardScaler())])\n",
    "# cat_pipe = Pipeline([('cat_imputer',SimpleImputer(strategy=\"most_frequent\"))])\n",
    "# pre_pipe_ct = ColumnTransformer([('nums',num_pipe,[0,1,2,3,4,5,6,7,8,9]),('cats',cat_pipe,[10,11,12,13,14,15,16,17,18,19,20])])\n",
    "\n",
    "# X_pre = pre_pipe_ct.fit_transform(X)\n",
    "# test_pre = pre_pipe_ct.transform(test_data)\n",
    "\n",
    "# smote_nc = SMOTENC(categorical_features=[10,11,12,13,14,15,16,17,18,19,20],random_state=1)\n",
    "# X_pre, y = smote_nc.fit_resample(X_pre,y)\n",
    "\n",
    "# new_pipe = ColumnTransformer([('cat',OneHotEncoder(),[10,11,12,13,14,15,16,17,18,19,20])])\n",
    "\n",
    "# X_pre = new_pipe.fit_transform(X_pre)\n",
    "# test_pre = new_pipe.transform(test_pre)"
   ]
  },
  {
   "cell_type": "code",
   "execution_count": 148,
   "id": "0dc024e7",
   "metadata": {
    "execution": {
     "iopub.execute_input": "2023-04-27T04:53:17.175227Z",
     "iopub.status.busy": "2023-04-27T04:53:17.174770Z",
     "iopub.status.idle": "2023-04-27T04:53:17.179826Z",
     "shell.execute_reply": "2023-04-27T04:53:17.178692Z"
    },
    "papermill": {
     "duration": 0.056504,
     "end_time": "2023-04-27T04:53:17.182010",
     "exception": false,
     "start_time": "2023-04-27T04:53:17.125506",
     "status": "completed"
    },
    "tags": []
   },
   "outputs": [],
   "source": [
    "# #Preprocessor - 6: Simple imputer , Imbalance handled , OneHotEncoding\n",
    "\n",
    "# num_pipe = Pipeline([('imputer',SimpleImputer(strategy=\"mean\"))])\n",
    "# cat_pipe = Pipeline([('cat_imputer',SimpleImputer(strategy=\"most_frequent\"))])\n",
    "# pre_pipe_ct = ColumnTransformer([('nums',num_pipe,[0,1,2,3,4,5,6,7,8,9]),('cats',cat_pipe,[10,11,12,13,14,15,16,17,18,19,20])])\n",
    "\n",
    "# X_pre = pre_pipe_ct.fit_transform(X)\n",
    "# test_pre = pre_pipe_ct.transform(test_data)\n",
    "\n",
    "# smote_nc = SMOTENC(categorical_features=[10,11,12,13,14,15,16,17,18,19,20],random_state=1)\n",
    "# X_pre, y = smote_nc.fit_resample(X_pre,y)\n",
    "\n",
    "# new_pipe = ColumnTransformer([('cat',OneHotEncoder(),[10,11,12,13,14,15,16,17,18,19,20])])\n",
    "\n",
    "# X_pre = new_pipe.fit_transform(X_pre)\n",
    "# test_pre = new_pipe.transform(test_pre)"
   ]
  },
  {
   "cell_type": "code",
   "execution_count": 149,
   "id": "24d9f8b1",
   "metadata": {
    "execution": {
     "iopub.execute_input": "2023-04-27T04:53:17.278976Z",
     "iopub.status.busy": "2023-04-27T04:53:17.278538Z",
     "iopub.status.idle": "2023-04-27T04:53:17.282532Z",
     "shell.execute_reply": "2023-04-27T04:53:17.281659Z"
    },
    "papermill": {
     "duration": 0.055002,
     "end_time": "2023-04-27T04:53:17.284682",
     "exception": false,
     "start_time": "2023-04-27T04:53:17.229680",
     "status": "completed"
    },
    "tags": []
   },
   "outputs": [],
   "source": [
    "# #Preprocessor - 7: Simple imputer , Scaled , OneHotEncoding\n",
    "\n",
    "# num_pipe = Pipeline([('imputer',SimpleImputer(strategy=\"mean\")),('scaler',StandardScaler())])\n",
    "# cat_pipe = Pipeline([('cat_imputer',SimpleImputer(strategy=\"most_frequent\")),('encoder',OneHotEncoder())])\n",
    "# pre_pipe_ct = ColumnTransformer([('nums',num_pipe,[0,1,2,3,4,5,6,7,8,9]),('cats',cat_pipe,[10,11,12,13,14,15,16,17,18,19,20])])\n",
    "\n",
    "# X_pre = pre_pipe_ct.fit_transform(X)\n",
    "# test_pre = pre_pipe_ct.transform(test_data)"
   ]
  },
  {
   "cell_type": "code",
   "execution_count": 150,
   "id": "a5b45907",
   "metadata": {
    "execution": {
     "iopub.execute_input": "2023-04-27T04:53:17.381937Z",
     "iopub.status.busy": "2023-04-27T04:53:17.381563Z",
     "iopub.status.idle": "2023-04-27T04:53:17.385599Z",
     "shell.execute_reply": "2023-04-27T04:53:17.384514Z"
    },
    "papermill": {
     "duration": 0.055442,
     "end_time": "2023-04-27T04:53:17.388009",
     "exception": false,
     "start_time": "2023-04-27T04:53:17.332567",
     "status": "completed"
    },
    "tags": []
   },
   "outputs": [],
   "source": [
    "# #Preprocessor - 8: Simple imputer , OneHotEncoding\n",
    "\n",
    "# num_pipe = Pipeline([('imputer',SimpleImputer(strategy=\"mean\"))])\n",
    "# cat_pipe = Pipeline([('cat_imputer',SimpleImputer(strategy=\"most_frequent\")),('encoder',OneHotEncoder())])\n",
    "# pre_pipe_ct = ColumnTransformer([('nums',num_pipe,[0,1,2,3,4,5,6,7,8,9]),('cats',cat_pipe,[10,11,12,13,14,15,16,17,18,19,20])])\n",
    "\n",
    "# X_pre = pre_pipe_ct.fit_transform(X)\n",
    "# test_pre = pre_pipe_ct.transform(test_data)"
   ]
  },
  {
   "cell_type": "code",
   "execution_count": 151,
   "id": "c0adcd3f",
   "metadata": {
    "execution": {
     "iopub.execute_input": "2023-04-27T04:53:17.485885Z",
     "iopub.status.busy": "2023-04-27T04:53:17.485500Z",
     "iopub.status.idle": "2023-04-27T04:53:17.490759Z",
     "shell.execute_reply": "2023-04-27T04:53:17.489586Z"
    },
    "papermill": {
     "duration": 0.056617,
     "end_time": "2023-04-27T04:53:17.493008",
     "exception": false,
     "start_time": "2023-04-27T04:53:17.436391",
     "status": "completed"
    },
    "tags": []
   },
   "outputs": [],
   "source": [
    "# #Preprocesser - 9: Simple imputer , MinMax Scaling , OrdinalEncoding , Imbalance handled  \n",
    "\n",
    "# num_pipe = Pipeline([('imputer',SimpleImputer(strategy=\"mean\")),('scaler',MinMaxScaler())])\n",
    "# cat_pipe = Pipeline([('cat_imputer',SimpleImputer(strategy=\"most_frequent\")),('encoder',OrdinalEncoder())])\n",
    "# pre_pipe_ct = ColumnTransformer([('nums',num_pipe,[0,1,2,3,4,5,6,7,8,9]),('cats',cat_pipe,[10,11,12,13,14,15,16,17,18,19,20])])\n",
    "\n",
    "# X_pre = pre_pipe_ct.fit_transform(X)\n",
    "# test_pre = pre_pipe_ct.transform(test_data)\n",
    "\n",
    "# smote_nc = SMOTENC(categorical_features=[10,11,12,13,14,15,16,17,18,19,20],random_state=1)\n",
    "# X_pre, y = smote_nc.fit_resample(X_pre,y)"
   ]
  },
  {
   "cell_type": "code",
   "execution_count": 152,
   "id": "bf4e148a",
   "metadata": {
    "execution": {
     "iopub.execute_input": "2023-04-27T04:53:17.589446Z",
     "iopub.status.busy": "2023-04-27T04:53:17.589021Z",
     "iopub.status.idle": "2023-04-27T04:53:17.594328Z",
     "shell.execute_reply": "2023-04-27T04:53:17.593324Z"
    },
    "papermill": {
     "duration": 0.056056,
     "end_time": "2023-04-27T04:53:17.596497",
     "exception": false,
     "start_time": "2023-04-27T04:53:17.540441",
     "status": "completed"
    },
    "tags": []
   },
   "outputs": [],
   "source": [
    "# #Preprocesser - 10: Simple + KNN imputer , MinMax Scaling , OrdinalEncoding , Imbalance handled  \n",
    "\n",
    "# num_pipe = Pipeline([('imputer',KNNImputer()),('scaler',MinMaxScaler())])\n",
    "# cat_pipe = Pipeline([('cat_imputer',SimpleImputer(strategy=\"most_frequent\")),('encoder',OrdinalEncoder())])\n",
    "# pre_pipe_ct = ColumnTransformer([('nums',num_pipe,[0,1,2,3,4,5,6,7,8,9]),('cats',cat_pipe,[10,11,12,13,14,15,16,17,18,19,20])])\n",
    "\n",
    "# X_pre = pre_pipe_ct.fit_transform(X)\n",
    "# test_pre = pre_pipe_ct.transform(test_data)\n",
    "\n",
    "# smote_nc = SMOTENC(categorical_features=[10,11,12,13,14,15,16,17,18,19,20],random_state=1)\n",
    "# X_pre, y = smote_nc.fit_resample(X_pre,y)"
   ]
  },
  {
   "cell_type": "code",
   "execution_count": 153,
   "id": "e5facdd2",
   "metadata": {
    "execution": {
     "iopub.execute_input": "2023-04-27T04:53:17.693906Z",
     "iopub.status.busy": "2023-04-27T04:53:17.693504Z",
     "iopub.status.idle": "2023-04-27T04:53:17.698643Z",
     "shell.execute_reply": "2023-04-27T04:53:17.697493Z"
    },
    "papermill": {
     "duration": 0.057235,
     "end_time": "2023-04-27T04:53:17.700843",
     "exception": false,
     "start_time": "2023-04-27T04:53:17.643608",
     "status": "completed"
    },
    "tags": []
   },
   "outputs": [],
   "source": [
    "# #Preprocesser - 11: Simple + KNN imputer , MinMax Scaling , OneHotEncoder \n",
    "\n",
    "# num_pipe = Pipeline([('imputer',KNNImputer()),('scaler',MinMaxScaler())])\n",
    "# cat_pipe = Pipeline([('cat_imputer',SimpleImputer(strategy=\"most_frequent\")),('encoder',OneHotEncoder())])\n",
    "# pre_pipe_ct = ColumnTransformer([('nums',num_pipe,[0,1,2,3,4,5,6,7,8,9]),('cats',cat_pipe,[10,11,12,13,14,15,16,17,18,19,20])])\n",
    "\n",
    "# X_pre = pre_pipe_ct.fit_transform(X)\n",
    "# test_pre = pre_pipe_ct.transform(test_data)"
   ]
  },
  {
   "cell_type": "code",
   "execution_count": 154,
   "id": "242a4968",
   "metadata": {
    "execution": {
     "iopub.execute_input": "2023-04-27T04:53:17.799037Z",
     "iopub.status.busy": "2023-04-27T04:53:17.798669Z",
     "iopub.status.idle": "2023-04-27T04:53:17.803735Z",
     "shell.execute_reply": "2023-04-27T04:53:17.802563Z"
    },
    "papermill": {
     "duration": 0.056839,
     "end_time": "2023-04-27T04:53:17.806102",
     "exception": false,
     "start_time": "2023-04-27T04:53:17.749263",
     "status": "completed"
    },
    "tags": []
   },
   "outputs": [],
   "source": [
    "# #Preprocessor - 12: Simple imputer , OrdinalEncoding\n",
    "\n",
    "# num_pipe = Pipeline([('imputer',SimpleImputer(strategy=\"mean\"))])\n",
    "# cat_pipe = Pipeline([('cat_imputer',SimpleImputer(strategy=\"most_frequent\")),('encoder',OrdinalEncoder())])\n",
    "# pre_pipe_ct = ColumnTransformer([('nums',num_pipe,[0,1,2,3,4,5,6,7,8,9]),('cats',cat_pipe,[10,11,12,13,14,15,16,17,18,19,20])])\n",
    "\n",
    "# X_pre = pre_pipe_ct.fit_transform(X)\n",
    "# test_pre = pre_pipe_ct.transform(test_data)\n",
    "\n",
    "# undersample = RandomUnderSampler(random_state=1)\n",
    "# X_pre, y = undersample.fit_resample(X_pre,y)"
   ]
  },
  {
   "cell_type": "code",
   "execution_count": 155,
   "id": "4b5485d9",
   "metadata": {
    "execution": {
     "iopub.execute_input": "2023-04-27T04:53:17.902437Z",
     "iopub.status.busy": "2023-04-27T04:53:17.902004Z",
     "iopub.status.idle": "2023-04-27T04:53:17.906370Z",
     "shell.execute_reply": "2023-04-27T04:53:17.905231Z"
    },
    "papermill": {
     "duration": 0.055175,
     "end_time": "2023-04-27T04:53:17.908612",
     "exception": false,
     "start_time": "2023-04-27T04:53:17.853437",
     "status": "completed"
    },
    "tags": []
   },
   "outputs": [],
   "source": [
    "# X_pre.shape"
   ]
  },
  {
   "cell_type": "markdown",
   "id": "5ac323a7",
   "metadata": {
    "papermill": {
     "duration": 0.057567,
     "end_time": "2023-04-27T04:53:18.021839",
     "exception": false,
     "start_time": "2023-04-27T04:53:17.964272",
     "status": "completed"
    },
    "tags": []
   },
   "source": [
    "<h2>Testing phase</h2>"
   ]
  },
  {
   "cell_type": "code",
   "execution_count": 156,
   "id": "f0cb1c74",
   "metadata": {
    "execution": {
     "iopub.execute_input": "2023-04-27T04:53:18.119042Z",
     "iopub.status.busy": "2023-04-27T04:53:18.118648Z",
     "iopub.status.idle": "2023-04-27T04:53:18.123245Z",
     "shell.execute_reply": "2023-04-27T04:53:18.121928Z"
    },
    "papermill": {
     "duration": 0.055743,
     "end_time": "2023-04-27T04:53:18.125539",
     "exception": false,
     "start_time": "2023-04-27T04:53:18.069796",
     "status": "completed"
    },
    "tags": []
   },
   "outputs": [],
   "source": [
    "# X_pre = np.delete(X_pre,[15,21,22],axis=1)\n",
    "# test_pre = np.delete(test_pre,[15,21,22],axis=1)"
   ]
  },
  {
   "cell_type": "code",
   "execution_count": 157,
   "id": "7990fb09",
   "metadata": {
    "execution": {
     "iopub.execute_input": "2023-04-27T04:53:18.223673Z",
     "iopub.status.busy": "2023-04-27T04:53:18.223285Z",
     "iopub.status.idle": "2023-04-27T04:53:18.228536Z",
     "shell.execute_reply": "2023-04-27T04:53:18.227484Z"
    },
    "papermill": {
     "duration": 0.056914,
     "end_time": "2023-04-27T04:53:18.230760",
     "exception": false,
     "start_time": "2023-04-27T04:53:18.173846",
     "status": "completed"
    },
    "tags": []
   },
   "outputs": [],
   "source": [
    "# X_train, X_test, y_train, y_test = train_test_split(X_pre,y, test_size=0.50,random_state=1)\n",
    "\n",
    "# undersample = RandomUnderSampler(random_state=1)\n",
    "# X_train, y_train = undersample.fit_resample(X_train,y_train)\n",
    "\n",
    "# y_train.value_counts()\n",
    "\n",
    "# model = AdaBoostClassifier(random_state=1)\n",
    "# # model = BaggingClassifier(random_state=1)\n",
    "# model.fit(X_train,y_train.values.ravel())\n",
    "# y_pred = model.predict(X_test)\n",
    "# print(f1_score(y_test,y_pred))\n",
    "\n",
    "# cm = confusion_matrix(y_test,y_pred)\n",
    "# cm_d = ConfusionMatrixDisplay(cm)\n",
    "\n",
    "# cm_d.plot()\n",
    "# plt.show()\n",
    "\n",
    "# undersample = RandomUnderSampler(random_state=1)\n",
    "# X_pre, y = undersample.fit_resample(X_pre,y)\n",
    "\n",
    "# model = AdaBoostClassifier(random_state=1)\n",
    "# model.fit(X_pre,y.values.ravel())\n",
    "# y_pred = model.predict(X_pre)\n",
    "# print(f1_score(y,y_pred))\n",
    "# # print(model.score(X_pre,y))\n",
    "# cm = confusion_matrix(y,y_pred)\n",
    "# cm_d = ConfusionMatrixDisplay(cm)\n",
    "\n",
    "# cm_d.plot()\n",
    "# plt.show()"
   ]
  },
  {
   "cell_type": "code",
   "execution_count": 158,
   "id": "19a9249a",
   "metadata": {
    "execution": {
     "iopub.execute_input": "2023-04-27T04:53:18.327770Z",
     "iopub.status.busy": "2023-04-27T04:53:18.327380Z",
     "iopub.status.idle": "2023-04-27T04:53:18.331429Z",
     "shell.execute_reply": "2023-04-27T04:53:18.330460Z"
    },
    "papermill": {
     "duration": 0.055086,
     "end_time": "2023-04-27T04:53:18.333653",
     "exception": false,
     "start_time": "2023-04-27T04:53:18.278567",
     "status": "completed"
    },
    "tags": []
   },
   "outputs": [],
   "source": [
    "# model = GradientBoostingClassifier(random_state=1)\n",
    "# model.fit(X_train,y_train.values.ravel())\n",
    "# y_pred = model.predict(X_test)\n",
    "# print(f1_score(y_test,y_pred))\n",
    "\n",
    "# cm = confusion_matrix(y_test,y_pred)\n",
    "# cm_d = ConfusionMatrixDisplay(cm)\n",
    "\n",
    "# cm_d.plot()\n",
    "# plt.show()"
   ]
  },
  {
   "cell_type": "code",
   "execution_count": 159,
   "id": "80e00b58",
   "metadata": {
    "execution": {
     "iopub.execute_input": "2023-04-27T04:53:18.430019Z",
     "iopub.status.busy": "2023-04-27T04:53:18.429626Z",
     "iopub.status.idle": "2023-04-27T04:53:18.433760Z",
     "shell.execute_reply": "2023-04-27T04:53:18.432897Z"
    },
    "papermill": {
     "duration": 0.054754,
     "end_time": "2023-04-27T04:53:18.435798",
     "exception": false,
     "start_time": "2023-04-27T04:53:18.381044",
     "status": "completed"
    },
    "tags": []
   },
   "outputs": [],
   "source": [
    "# ind = X_pre[:,8] > 0\n",
    "# X_pre = X_pre[ind]\n",
    "# y = y[ind]\n",
    "\n",
    "# model = AdaBoostClassifier(random_state=1)\n",
    "# model.fit(X_pre,y.values.ravel())\n",
    "# y_pred = model.predict(X_pre)\n",
    "# print(f1_score(y,y_pred))\n",
    "\n",
    "# cm = confusion_matrix(y,y_pred)\n",
    "# cm_d = ConfusionMatrixDisplay(cm)\n",
    "\n",
    "# cm_d.plot()\n",
    "# plt.show()"
   ]
  },
  {
   "cell_type": "markdown",
   "id": "6f7c9fab",
   "metadata": {
    "papermill": {
     "duration": 0.047327,
     "end_time": "2023-04-27T04:53:18.530274",
     "exception": false,
     "start_time": "2023-04-27T04:53:18.482947",
     "status": "completed"
    },
    "tags": []
   },
   "source": [
    "<h2>Feature Selection</h2>"
   ]
  },
  {
   "cell_type": "code",
   "execution_count": 160,
   "id": "f641edca",
   "metadata": {
    "execution": {
     "iopub.execute_input": "2023-04-27T04:53:18.679978Z",
     "iopub.status.busy": "2023-04-27T04:53:18.679097Z",
     "iopub.status.idle": "2023-04-27T04:53:18.683842Z",
     "shell.execute_reply": "2023-04-27T04:53:18.683035Z"
    },
    "papermill": {
     "duration": 0.056719,
     "end_time": "2023-04-27T04:53:18.686112",
     "exception": false,
     "start_time": "2023-04-27T04:53:18.629393",
     "status": "completed"
    },
    "tags": []
   },
   "outputs": [],
   "source": [
    "# X_train, X_test, y_train, y_test = train_test_split(X_pre, y, test_size=0.2, random_state=42)\n",
    "\n",
    "# n_components = [2,3,4,5,6,7,8,9,10,11,12,13,14,15,16,17,18,19,20]\n",
    "# for n in n_components:\n",
    "#     pca = PCA(n_components=n)\n",
    "#     X_train_pca = pca.fit_transform(X_train)\n",
    "#     X_test_pca = pca.transform(X_test)\n",
    "    \n",
    "#     clf = DecisionTreeClassifier()\n",
    "#     clf.fit(X_train_pca, y_train.values.ravel())\n",
    "    \n",
    "#     y_pred = clf.predict(X_test_pca)\n",
    "#     score = f1_score(y_test, y_pred)\n",
    "    \n",
    "#     print(\"Number of components:\", n, \"Accuracy:\", score)"
   ]
  },
  {
   "cell_type": "code",
   "execution_count": 161,
   "id": "d3a4d7af",
   "metadata": {
    "execution": {
     "iopub.execute_input": "2023-04-27T04:53:18.784690Z",
     "iopub.status.busy": "2023-04-27T04:53:18.784276Z",
     "iopub.status.idle": "2023-04-27T04:53:18.789129Z",
     "shell.execute_reply": "2023-04-27T04:53:18.787937Z"
    },
    "papermill": {
     "duration": 0.056398,
     "end_time": "2023-04-27T04:53:18.791374",
     "exception": false,
     "start_time": "2023-04-27T04:53:18.734976",
     "status": "completed"
    },
    "tags": []
   },
   "outputs": [],
   "source": [
    "# X_train, X_test, y_train, y_test = train_test_split(X_pre, y, test_size=0.2, random_state=42)\n",
    "\n",
    "# n_components = [2,3,4,5,6,7,8,9,10,11,12,13,14,15,16,17,18,19,20]\n",
    "# for n in n_components:\n",
    "#     pca = PCA(n_components=n)\n",
    "#     X_train_pca = pca.fit_transform(X_train)\n",
    "#     X_test_pca = pca.transform(X_test)\n",
    "    \n",
    "#     clf = DecisionTreeClassifier()\n",
    "#     clf.fit(X_train_pca, y_train.values.ravel())\n",
    "    \n",
    "#     y_pred = clf.predict(X_train_pca)\n",
    "#     score = f1_score(y_train, y_pred)\n",
    "    \n",
    "#     print(\"Number of components:\", n, \"Accuracy:\", score)"
   ]
  },
  {
   "cell_type": "code",
   "execution_count": 162,
   "id": "3ad5dda3",
   "metadata": {
    "execution": {
     "iopub.execute_input": "2023-04-27T04:53:18.888398Z",
     "iopub.status.busy": "2023-04-27T04:53:18.887985Z",
     "iopub.status.idle": "2023-04-27T04:53:18.891868Z",
     "shell.execute_reply": "2023-04-27T04:53:18.891025Z"
    },
    "papermill": {
     "duration": 0.054665,
     "end_time": "2023-04-27T04:53:18.893843",
     "exception": false,
     "start_time": "2023-04-27T04:53:18.839178",
     "status": "completed"
    },
    "tags": []
   },
   "outputs": [],
   "source": [
    "# pca = PCA().fit(X_pre)\n",
    "\n",
    "# plt.plot(np.cumsum(pca.explained_variance_ratio_))\n",
    "# plt.xlabel('Number of components')\n",
    "# plt.ylabel('Cumulative explained variance')\n",
    "# plt.show()"
   ]
  },
  {
   "cell_type": "code",
   "execution_count": 163,
   "id": "725bc77c",
   "metadata": {
    "execution": {
     "iopub.execute_input": "2023-04-27T04:53:18.996270Z",
     "iopub.status.busy": "2023-04-27T04:53:18.995829Z",
     "iopub.status.idle": "2023-04-27T04:53:19.000240Z",
     "shell.execute_reply": "2023-04-27T04:53:18.999175Z"
    },
    "papermill": {
     "duration": 0.056403,
     "end_time": "2023-04-27T04:53:19.002486",
     "exception": false,
     "start_time": "2023-04-27T04:53:18.946083",
     "status": "completed"
    },
    "tags": []
   },
   "outputs": [],
   "source": [
    "# pca = PCA(n_components=15)\n",
    "# X_pre = pca.fit_transform(X_pre)\n",
    "# test_pre = pca.transform(test_pre)"
   ]
  },
  {
   "cell_type": "code",
   "execution_count": 164,
   "id": "de7cbfcc",
   "metadata": {
    "execution": {
     "iopub.execute_input": "2023-04-27T04:53:19.098857Z",
     "iopub.status.busy": "2023-04-27T04:53:19.098448Z",
     "iopub.status.idle": "2023-04-27T04:53:19.103179Z",
     "shell.execute_reply": "2023-04-27T04:53:19.102120Z"
    },
    "papermill": {
     "duration": 0.05537,
     "end_time": "2023-04-27T04:53:19.105303",
     "exception": false,
     "start_time": "2023-04-27T04:53:19.049933",
     "status": "completed"
    },
    "tags": []
   },
   "outputs": [],
   "source": [
    "# dt_clf = DecisionTreeClassifier(random_state=1)\n",
    "# dt_clf.fit(X_pre,y)\n",
    "\n",
    "# dt_clf.feature_importances_"
   ]
  },
  {
   "cell_type": "code",
   "execution_count": 165,
   "id": "4c7b5689",
   "metadata": {
    "execution": {
     "iopub.execute_input": "2023-04-27T04:53:19.202355Z",
     "iopub.status.busy": "2023-04-27T04:53:19.201922Z",
     "iopub.status.idle": "2023-04-27T04:53:19.206455Z",
     "shell.execute_reply": "2023-04-27T04:53:19.205423Z"
    },
    "papermill": {
     "duration": 0.055573,
     "end_time": "2023-04-27T04:53:19.208829",
     "exception": false,
     "start_time": "2023-04-27T04:53:19.153256",
     "status": "completed"
    },
    "tags": []
   },
   "outputs": [],
   "source": [
    "# model = SelectFromModel(dt_clf,prefit=True,max_features=15)\n",
    "# model.get_support()"
   ]
  },
  {
   "cell_type": "code",
   "execution_count": 166,
   "id": "2e6cb88e",
   "metadata": {
    "execution": {
     "iopub.execute_input": "2023-04-27T04:53:19.306941Z",
     "iopub.status.busy": "2023-04-27T04:53:19.306525Z",
     "iopub.status.idle": "2023-04-27T04:53:19.311083Z",
     "shell.execute_reply": "2023-04-27T04:53:19.309922Z"
    },
    "papermill": {
     "duration": 0.05667,
     "end_time": "2023-04-27T04:53:19.313475",
     "exception": false,
     "start_time": "2023-04-27T04:53:19.256805",
     "status": "completed"
    },
    "tags": []
   },
   "outputs": [],
   "source": [
    "# adab_clf = AdaBoostClassifier(random_state=1)\n",
    "# adab_clf.fit(X_pre,y.values.ravel())\n",
    "\n",
    "# adab_clf.feature_importances_"
   ]
  },
  {
   "cell_type": "code",
   "execution_count": 167,
   "id": "edc0a895",
   "metadata": {
    "execution": {
     "iopub.execute_input": "2023-04-27T04:53:19.410962Z",
     "iopub.status.busy": "2023-04-27T04:53:19.410536Z",
     "iopub.status.idle": "2023-04-27T04:53:19.415499Z",
     "shell.execute_reply": "2023-04-27T04:53:19.414301Z"
    },
    "papermill": {
     "duration": 0.057548,
     "end_time": "2023-04-27T04:53:19.418198",
     "exception": false,
     "start_time": "2023-04-27T04:53:19.360650",
     "status": "completed"
    },
    "tags": []
   },
   "outputs": [],
   "source": [
    "# model = SelectFromModel(adab_clf,prefit=True,max_features=15)\n",
    "# model.get_support()"
   ]
  },
  {
   "cell_type": "code",
   "execution_count": 168,
   "id": "2e66b337",
   "metadata": {
    "execution": {
     "iopub.execute_input": "2023-04-27T04:53:19.517590Z",
     "iopub.status.busy": "2023-04-27T04:53:19.517168Z",
     "iopub.status.idle": "2023-04-27T04:53:19.521141Z",
     "shell.execute_reply": "2023-04-27T04:53:19.520245Z"
    },
    "papermill": {
     "duration": 0.055026,
     "end_time": "2023-04-27T04:53:19.523176",
     "exception": false,
     "start_time": "2023-04-27T04:53:19.468150",
     "status": "completed"
    },
    "tags": []
   },
   "outputs": [],
   "source": [
    "# rf_clf = RandomForestClassifier(random_state=1)\n",
    "# rf_clf.fit(X_pre,y.values.ravel())\n",
    "\n",
    "# rf_clf.feature_importances_"
   ]
  },
  {
   "cell_type": "code",
   "execution_count": 169,
   "id": "04caece5",
   "metadata": {
    "execution": {
     "iopub.execute_input": "2023-04-27T04:53:19.620600Z",
     "iopub.status.busy": "2023-04-27T04:53:19.620172Z",
     "iopub.status.idle": "2023-04-27T04:53:19.625151Z",
     "shell.execute_reply": "2023-04-27T04:53:19.624039Z"
    },
    "papermill": {
     "duration": 0.057157,
     "end_time": "2023-04-27T04:53:19.627534",
     "exception": false,
     "start_time": "2023-04-27T04:53:19.570377",
     "status": "completed"
    },
    "tags": []
   },
   "outputs": [],
   "source": [
    "# model = SelectFromModel(rf_clf,prefit=True,max_features=15)\n",
    "# model.get_support()"
   ]
  },
  {
   "cell_type": "markdown",
   "id": "f9fa3909",
   "metadata": {
    "papermill": {
     "duration": 0.047139,
     "end_time": "2023-04-27T04:53:19.723636",
     "exception": false,
     "start_time": "2023-04-27T04:53:19.676497",
     "status": "completed"
    },
    "tags": []
   },
   "source": [
    "<h2>Remove / Transform features</h2>"
   ]
  },
  {
   "cell_type": "code",
   "execution_count": 170,
   "id": "7ca73d3b",
   "metadata": {
    "execution": {
     "iopub.execute_input": "2023-04-27T04:53:19.820305Z",
     "iopub.status.busy": "2023-04-27T04:53:19.819893Z",
     "iopub.status.idle": "2023-04-27T04:53:19.823627Z",
     "shell.execute_reply": "2023-04-27T04:53:19.822823Z"
    },
    "papermill": {
     "duration": 0.054635,
     "end_time": "2023-04-27T04:53:19.825630",
     "exception": false,
     "start_time": "2023-04-27T04:53:19.770995",
     "status": "completed"
    },
    "tags": []
   },
   "outputs": [],
   "source": [
    "# ind = X_train[:,8] > 0\n",
    "# X_train = X_train[ind]\n",
    "# y_train = y_train[ind]"
   ]
  },
  {
   "cell_type": "code",
   "execution_count": 171,
   "id": "e78fef6c",
   "metadata": {
    "execution": {
     "iopub.execute_input": "2023-04-27T04:53:19.922176Z",
     "iopub.status.busy": "2023-04-27T04:53:19.921681Z",
     "iopub.status.idle": "2023-04-27T04:53:19.926166Z",
     "shell.execute_reply": "2023-04-27T04:53:19.925121Z"
    },
    "papermill": {
     "duration": 0.05528,
     "end_time": "2023-04-27T04:53:19.928316",
     "exception": false,
     "start_time": "2023-04-27T04:53:19.873036",
     "status": "completed"
    },
    "tags": []
   },
   "outputs": [],
   "source": [
    "# X_pre = np.delete(X_pre,[8],axis=1)\n",
    "# test_pre = np.delete(test_pre,[8],axis=1)"
   ]
  },
  {
   "cell_type": "markdown",
   "id": "363eaaf0",
   "metadata": {
    "papermill": {
     "duration": 0.046652,
     "end_time": "2023-04-27T04:53:20.022233",
     "exception": false,
     "start_time": "2023-04-27T04:53:19.975581",
     "status": "completed"
    },
    "tags": []
   },
   "source": [
    "<h2>Models with HPT</h2>"
   ]
  },
  {
   "cell_type": "code",
   "execution_count": 172,
   "id": "b6aab5f0",
   "metadata": {
    "execution": {
     "iopub.execute_input": "2023-04-27T04:53:20.119707Z",
     "iopub.status.busy": "2023-04-27T04:53:20.119299Z",
     "iopub.status.idle": "2023-04-27T04:53:20.124434Z",
     "shell.execute_reply": "2023-04-27T04:53:20.123341Z"
    },
    "papermill": {
     "duration": 0.056404,
     "end_time": "2023-04-27T04:53:20.126818",
     "exception": false,
     "start_time": "2023-04-27T04:53:20.070414",
     "status": "completed"
    },
    "tags": []
   },
   "outputs": [],
   "source": [
    "# #RandomForestClassifier\n",
    "\n",
    "# params = {\n",
    "#     'criterion':['entropy','gini'],\n",
    "#     'min_samples_leaf':[2,4,6,8,10],\n",
    "#     'max_depth':[4,5,6,7,8],\n",
    "#     'ccp_alpha':[0.001,0.01,0.02,0.05]\n",
    "# }\n",
    "\n",
    "# model = GridSearchCV(estimator=RandomForestClassifier(random_state=1),param_grid=params, cv=10,scoring=\"f1\",verbose=3)\n",
    "\n",
    "# model.fit(X_pre,y.values.ravel())\n",
    "\n",
    "# sub = pd.DataFrame(model.predict(test_pre), columns=['Made_Purchase'])\n",
    "# sub.index.name = 'id'\n",
    "# sub.to_csv(\"submission.csv\", encoding='utf-8')\n",
    "                   \n",
    "# output = pd.read_csv(\"submission.csv\")"
   ]
  },
  {
   "cell_type": "code",
   "execution_count": 173,
   "id": "fa0afa0a",
   "metadata": {
    "execution": {
     "iopub.execute_input": "2023-04-27T04:53:20.224864Z",
     "iopub.status.busy": "2023-04-27T04:53:20.224468Z",
     "iopub.status.idle": "2023-04-27T04:53:20.229735Z",
     "shell.execute_reply": "2023-04-27T04:53:20.228532Z"
    },
    "papermill": {
     "duration": 0.057214,
     "end_time": "2023-04-27T04:53:20.232155",
     "exception": false,
     "start_time": "2023-04-27T04:53:20.174941",
     "status": "completed"
    },
    "tags": []
   },
   "outputs": [],
   "source": [
    "# #AdaBoostClassifier\n",
    "\n",
    "# params = {\n",
    "#     'n_estimators':[10,50,100,500],\n",
    "#     'learning_rate':[0.001,0.01,0.1,0.5,1.0]\n",
    "# }\n",
    "\n",
    "# model = GridSearchCV(estimator=AdaBoostClassifier(random_state=1),param_grid=params, cv=10,scoring=\"f1\",verbose=3)\n",
    "\n",
    "# model.fit(X_pre,y.values.ravel())\n",
    "\n",
    "# sub = pd.DataFrame(model.predict(test_pre), columns=['Made_Purchase'])\n",
    "# sub.index.name = 'id'\n",
    "# sub.to_csv(\"submission.csv\", encoding='utf-8')\n",
    "                   \n",
    "# output = pd.read_csv(\"submission.csv\")"
   ]
  },
  {
   "cell_type": "code",
   "execution_count": 174,
   "id": "80e57099",
   "metadata": {
    "execution": {
     "iopub.execute_input": "2023-04-27T04:53:20.330194Z",
     "iopub.status.busy": "2023-04-27T04:53:20.329748Z",
     "iopub.status.idle": "2023-04-27T04:53:20.334299Z",
     "shell.execute_reply": "2023-04-27T04:53:20.333467Z"
    },
    "papermill": {
     "duration": 0.055684,
     "end_time": "2023-04-27T04:53:20.336329",
     "exception": false,
     "start_time": "2023-04-27T04:53:20.280645",
     "status": "completed"
    },
    "tags": []
   },
   "outputs": [],
   "source": [
    "# #XGBClassifier\n",
    "\n",
    "# params = {\n",
    "#     'max_depth':[4,5,6,7,8]\n",
    "# }\n",
    "\n",
    "# model = GridSearchCV(estimator=XGBClassifier(random_state=1,reg_lambda=0.1),param_grid=params, cv=10,scoring=\"f1\",verbose=3)\n",
    "# model.fit(X_pre,y.values.ravel())\n",
    "\n",
    "# sub = pd.DataFrame(model.predict(test_pre), columns=['Made_Purchase'])\n",
    "# sub.replace(0,'False',inplace=True)\n",
    "# sub.replace(1,'True',inplace=True)\n",
    "# sub.index.name = 'id'\n",
    "# sub.to_csv(\"submission.csv\", encoding='utf-8')\n",
    "                   \n",
    "# output = pd.read_csv(\"submission.csv\")"
   ]
  },
  {
   "cell_type": "code",
   "execution_count": 175,
   "id": "735967c7",
   "metadata": {
    "execution": {
     "iopub.execute_input": "2023-04-27T04:53:20.432821Z",
     "iopub.status.busy": "2023-04-27T04:53:20.432402Z",
     "iopub.status.idle": "2023-04-27T04:53:20.437152Z",
     "shell.execute_reply": "2023-04-27T04:53:20.436306Z"
    },
    "papermill": {
     "duration": 0.055361,
     "end_time": "2023-04-27T04:53:20.439368",
     "exception": false,
     "start_time": "2023-04-27T04:53:20.384007",
     "status": "completed"
    },
    "tags": []
   },
   "outputs": [],
   "source": [
    "# #MLPClassifier\n",
    "\n",
    "# params = {\n",
    "#     'hidden_layer_sizes': [(8,8,8), (6,8,6), (10,)],\n",
    "#     'activation': ['tanh', 'relu'],\n",
    "#     'solver': ['sgd', 'adam'],\n",
    "#     'alpha': [0.0001, 0.005],\n",
    "#     'learning_rate': ['constant','adaptive']\n",
    "# }\n",
    "\n",
    "# model = GridSearchCV(estimator=MLPClassifier(random_state=1,max_iter=500),param_grid=params, cv=10,scoring=\"f1\",verbose=3)\n",
    "\n",
    "# model.fit(X_pre,y.values.ravel())\n",
    "\n",
    "# sub = pd.DataFrame(model.predict(test_pre), columns=['Made_Purchase'])\n",
    "# sub.index.name = 'id'\n",
    "# sub.to_csv(\"submission.csv\", encoding='utf-8')\n",
    "                   \n",
    "# output = pd.read_csv(\"submission.csv\")"
   ]
  },
  {
   "cell_type": "markdown",
   "id": "d1ae39cf",
   "metadata": {
    "papermill": {
     "duration": 0.047114,
     "end_time": "2023-04-27T04:53:20.533622",
     "exception": false,
     "start_time": "2023-04-27T04:53:20.486508",
     "status": "completed"
    },
    "tags": []
   },
   "source": [
    "<h2>Models without HPT</h2>"
   ]
  },
  {
   "cell_type": "code",
   "execution_count": 176,
   "id": "a082c5e8",
   "metadata": {
    "execution": {
     "iopub.execute_input": "2023-04-27T04:53:20.630933Z",
     "iopub.status.busy": "2023-04-27T04:53:20.630517Z",
     "iopub.status.idle": "2023-04-27T04:53:20.635731Z",
     "shell.execute_reply": "2023-04-27T04:53:20.634601Z"
    },
    "papermill": {
     "duration": 0.056847,
     "end_time": "2023-04-27T04:53:20.638191",
     "exception": false,
     "start_time": "2023-04-27T04:53:20.581344",
     "status": "completed"
    },
    "tags": []
   },
   "outputs": [],
   "source": [
    "# model = Perceptron(random_state=1)\n",
    "# model = SVC(kernel='linear',random_state=1)\n",
    "# model = DecisionTreeClassifier(random_state=1)\n",
    "# model = RandomForestClassifier(random_state=1)\n",
    "# model = AdaBoostClassifier(base_estimator=DecisionTreeClassifier(max_depth=8),random_state=1)\n",
    "# model = SGDClassifier(random_state=1)\n",
    "# model = KNeighborsClassifier(random_state=1)\n",
    "# model = MLPClassifier(random_state=1)\n",
    "\n",
    "# model.fit(X_pre,y.values.ravel())\n",
    "\n",
    "# sub = pd.DataFrame(model.predict(test_pre), columns=['Made_Purchase'])\n",
    "# sub.index.name = 'id'\n",
    "# sub.to_csv(\"submission.csv\", encoding='utf-8')\n",
    "                   \n",
    "# output = pd.read_csv(\"submission.csv\")"
   ]
  },
  {
   "cell_type": "code",
   "execution_count": 177,
   "id": "75134c82",
   "metadata": {
    "execution": {
     "iopub.execute_input": "2023-04-27T04:53:20.737327Z",
     "iopub.status.busy": "2023-04-27T04:53:20.736535Z",
     "iopub.status.idle": "2023-04-27T04:53:20.741169Z",
     "shell.execute_reply": "2023-04-27T04:53:20.740380Z"
    },
    "papermill": {
     "duration": 0.056689,
     "end_time": "2023-04-27T04:53:20.743389",
     "exception": false,
     "start_time": "2023-04-27T04:53:20.686700",
     "status": "completed"
    },
    "tags": []
   },
   "outputs": [],
   "source": [
    "# sub.value_counts()"
   ]
  },
  {
   "cell_type": "code",
   "execution_count": 178,
   "id": "85cdd7f4",
   "metadata": {
    "execution": {
     "iopub.execute_input": "2023-04-27T04:53:20.840218Z",
     "iopub.status.busy": "2023-04-27T04:53:20.839810Z",
     "iopub.status.idle": "2023-04-27T04:53:20.844524Z",
     "shell.execute_reply": "2023-04-27T04:53:20.843295Z"
    },
    "papermill": {
     "duration": 0.055865,
     "end_time": "2023-04-27T04:53:20.846672",
     "exception": false,
     "start_time": "2023-04-27T04:53:20.790807",
     "status": "completed"
    },
    "tags": []
   },
   "outputs": [],
   "source": [
    "# model.coef_"
   ]
  },
  {
   "cell_type": "code",
   "execution_count": 179,
   "id": "fc45945b",
   "metadata": {
    "execution": {
     "iopub.execute_input": "2023-04-27T04:53:20.943081Z",
     "iopub.status.busy": "2023-04-27T04:53:20.942664Z",
     "iopub.status.idle": "2023-04-27T04:53:20.947384Z",
     "shell.execute_reply": "2023-04-27T04:53:20.946535Z"
    },
    "papermill": {
     "duration": 0.055277,
     "end_time": "2023-04-27T04:53:20.949658",
     "exception": false,
     "start_time": "2023-04-27T04:53:20.894381",
     "status": "completed"
    },
    "tags": []
   },
   "outputs": [],
   "source": [
    "# model = XGBClassifier()\n",
    "# model.fit(X_pre,y.values.ravel())\n",
    "\n",
    "# sub = pd.DataFrame(model.predict(test_pre), columns=['Made_Purchase'])\n",
    "# sub.replace(0,'False',inplace=True)\n",
    "# sub.replace(1,'True',inplace=True)\n",
    "# sub.index.name = 'id'\n",
    "# sub.to_csv(\"submission.csv\", encoding='utf-8')\n",
    "                   \n",
    "# output = pd.read_csv(\"submission.csv\")"
   ]
  },
  {
   "cell_type": "code",
   "execution_count": 180,
   "id": "8c0e395f",
   "metadata": {
    "execution": {
     "iopub.execute_input": "2023-04-27T04:53:21.047879Z",
     "iopub.status.busy": "2023-04-27T04:53:21.047129Z",
     "iopub.status.idle": "2023-04-27T04:53:21.051653Z",
     "shell.execute_reply": "2023-04-27T04:53:21.050579Z"
    },
    "papermill": {
     "duration": 0.05556,
     "end_time": "2023-04-27T04:53:21.053776",
     "exception": false,
     "start_time": "2023-04-27T04:53:20.998216",
     "status": "completed"
    },
    "tags": []
   },
   "outputs": [],
   "source": [
    "# clf1 = DecisionTreeClassifier(random_state=1)\n",
    "# clf2 = RandomForestClassifier(random_state=1,max_depth=8)\n",
    "# clf3 = AdaBoostClassifier(random_state=1)\n",
    "\n",
    "# model = VotingClassifier([('dt',clf1),('rf',clf2),('ab',clf3)])\n",
    "# # model = VotingClassifier([('rf',clf2),('ab',clf3)])\n",
    "\n",
    "# model.fit(X_pre,y.values.ravel())\n",
    "\n",
    "# sub = pd.DataFrame(model.predict(test_pre), columns=['Made_Purchase'])\n",
    "# sub.index.name = 'id'\n",
    "# sub.to_csv(\"submission.csv\", encoding='utf-8')\n",
    "                   \n",
    "# output = pd.read_csv(\"submission.csv\")"
   ]
  },
  {
   "cell_type": "markdown",
   "id": "c3ceb11d",
   "metadata": {
    "papermill": {
     "duration": 0.047364,
     "end_time": "2023-04-27T04:53:21.148522",
     "exception": false,
     "start_time": "2023-04-27T04:53:21.101158",
     "status": "completed"
    },
    "tags": []
   },
   "source": [
    "<h2>Observe the fit Model</h2>"
   ]
  },
  {
   "cell_type": "code",
   "execution_count": 181,
   "id": "4e428700",
   "metadata": {
    "execution": {
     "iopub.execute_input": "2023-04-27T04:53:21.244932Z",
     "iopub.status.busy": "2023-04-27T04:53:21.244196Z",
     "iopub.status.idle": "2023-04-27T04:53:21.248600Z",
     "shell.execute_reply": "2023-04-27T04:53:21.247424Z"
    },
    "papermill": {
     "duration": 0.055632,
     "end_time": "2023-04-27T04:53:21.251278",
     "exception": false,
     "start_time": "2023-04-27T04:53:21.195646",
     "status": "completed"
    },
    "tags": []
   },
   "outputs": [],
   "source": [
    "# sub.value_counts()"
   ]
  },
  {
   "cell_type": "code",
   "execution_count": 182,
   "id": "8babc18f",
   "metadata": {
    "execution": {
     "iopub.execute_input": "2023-04-27T04:53:21.347956Z",
     "iopub.status.busy": "2023-04-27T04:53:21.347529Z",
     "iopub.status.idle": "2023-04-27T04:53:21.352264Z",
     "shell.execute_reply": "2023-04-27T04:53:21.351256Z"
    },
    "papermill": {
     "duration": 0.055397,
     "end_time": "2023-04-27T04:53:21.354450",
     "exception": false,
     "start_time": "2023-04-27T04:53:21.299053",
     "status": "completed"
    },
    "tags": []
   },
   "outputs": [],
   "source": [
    "# y_pred = model.predict(X_pre)\n",
    "# print(f1_score(y,y_pred))"
   ]
  },
  {
   "cell_type": "code",
   "execution_count": 183,
   "id": "38cb1a48",
   "metadata": {
    "execution": {
     "iopub.execute_input": "2023-04-27T04:53:21.451378Z",
     "iopub.status.busy": "2023-04-27T04:53:21.450943Z",
     "iopub.status.idle": "2023-04-27T04:53:21.455838Z",
     "shell.execute_reply": "2023-04-27T04:53:21.454822Z"
    },
    "papermill": {
     "duration": 0.056224,
     "end_time": "2023-04-27T04:53:21.458201",
     "exception": false,
     "start_time": "2023-04-27T04:53:21.401977",
     "status": "completed"
    },
    "tags": []
   },
   "outputs": [],
   "source": [
    "# cm = confusion_matrix(y,y_pred)\n",
    "# cm_d = ConfusionMatrixDisplay(cm)\n",
    "\n",
    "# cm_d.plot()\n",
    "# plt.show()"
   ]
  },
  {
   "cell_type": "code",
   "execution_count": 184,
   "id": "1810bb42",
   "metadata": {
    "execution": {
     "iopub.execute_input": "2023-04-27T04:53:21.554692Z",
     "iopub.status.busy": "2023-04-27T04:53:21.554272Z",
     "iopub.status.idle": "2023-04-27T04:53:21.559492Z",
     "shell.execute_reply": "2023-04-27T04:53:21.558453Z"
    },
    "papermill": {
     "duration": 0.056475,
     "end_time": "2023-04-27T04:53:21.561789",
     "exception": false,
     "start_time": "2023-04-27T04:53:21.505314",
     "status": "completed"
    },
    "tags": []
   },
   "outputs": [],
   "source": [
    "# # Predict probabilities\n",
    "# y_pred_prob = model.predict_proba(X_pre)[:, 1]\n",
    "\n",
    "# precision, recall, thresholds = precision_recall_curve(y, y_pred_prob)\n",
    "\n",
    "# f1_scores = 2 * (precision * recall) / (precision + recall)\n",
    "\n",
    "# best_threshold = thresholds[np.argmax(f1_scores)]\n",
    "# # best_threshold = 0.48\n",
    "\n",
    "# new_pred_prob = model.predict_proba(X_pre)[:, 1]\n",
    "# new_pred = (new_pred_prob >= best_threshold).astype(int)"
   ]
  },
  {
   "cell_type": "code",
   "execution_count": 185,
   "id": "d69af602",
   "metadata": {
    "execution": {
     "iopub.execute_input": "2023-04-27T04:53:21.658976Z",
     "iopub.status.busy": "2023-04-27T04:53:21.658174Z",
     "iopub.status.idle": "2023-04-27T04:53:21.662886Z",
     "shell.execute_reply": "2023-04-27T04:53:21.662107Z"
    },
    "papermill": {
     "duration": 0.055895,
     "end_time": "2023-04-27T04:53:21.664947",
     "exception": false,
     "start_time": "2023-04-27T04:53:21.609052",
     "status": "completed"
    },
    "tags": []
   },
   "outputs": [],
   "source": [
    "# print(best_threshold)"
   ]
  },
  {
   "cell_type": "code",
   "execution_count": 186,
   "id": "44c89821",
   "metadata": {
    "execution": {
     "iopub.execute_input": "2023-04-27T04:53:21.762259Z",
     "iopub.status.busy": "2023-04-27T04:53:21.761443Z",
     "iopub.status.idle": "2023-04-27T04:53:21.766106Z",
     "shell.execute_reply": "2023-04-27T04:53:21.765103Z"
    },
    "papermill": {
     "duration": 0.055641,
     "end_time": "2023-04-27T04:53:21.768406",
     "exception": false,
     "start_time": "2023-04-27T04:53:21.712765",
     "status": "completed"
    },
    "tags": []
   },
   "outputs": [],
   "source": [
    "# y_pred = model.predict(X_pre)\n",
    "# print(f1_score(y,y_pred))"
   ]
  },
  {
   "cell_type": "code",
   "execution_count": 187,
   "id": "5bf5d7ab",
   "metadata": {
    "execution": {
     "iopub.execute_input": "2023-04-27T04:53:21.866030Z",
     "iopub.status.busy": "2023-04-27T04:53:21.865638Z",
     "iopub.status.idle": "2023-04-27T04:53:21.870610Z",
     "shell.execute_reply": "2023-04-27T04:53:21.869355Z"
    },
    "papermill": {
     "duration": 0.05575,
     "end_time": "2023-04-27T04:53:21.872916",
     "exception": false,
     "start_time": "2023-04-27T04:53:21.817166",
     "status": "completed"
    },
    "tags": []
   },
   "outputs": [],
   "source": [
    "# cm = confusion_matrix(y,y_pred)\n",
    "# cm_d = ConfusionMatrixDisplay(cm)\n",
    "\n",
    "# cm_d.plot()\n",
    "# plt.show()"
   ]
  },
  {
   "cell_type": "code",
   "execution_count": 188,
   "id": "1b1a7812",
   "metadata": {
    "execution": {
     "iopub.execute_input": "2023-04-27T04:53:21.969804Z",
     "iopub.status.busy": "2023-04-27T04:53:21.969102Z",
     "iopub.status.idle": "2023-04-27T04:53:21.973196Z",
     "shell.execute_reply": "2023-04-27T04:53:21.972372Z"
    },
    "papermill": {
     "duration": 0.055068,
     "end_time": "2023-04-27T04:53:21.975546",
     "exception": false,
     "start_time": "2023-04-27T04:53:21.920478",
     "status": "completed"
    },
    "tags": []
   },
   "outputs": [],
   "source": [
    "# new_pred_prob = model.predict_proba(test_pre)[:, 1]\n",
    "# new_pred = (new_pred_prob >= best_threshold).astype(int)\n",
    "\n",
    "# sub = pd.DataFrame(new_pred, columns=['Made_Purchase'])\n",
    "# sub.index.name = 'id'\n",
    "# sub.replace(0,'False',inplace=True)\n",
    "# sub.replace(1,'True',inplace=True)\n",
    "# sub.to_csv(\"submission.csv\", encoding='utf-8')\n",
    "                   \n",
    "# output = pd.read_csv(\"submission.csv\")"
   ]
  },
  {
   "cell_type": "code",
   "execution_count": 189,
   "id": "fcd7d01a",
   "metadata": {
    "execution": {
     "iopub.execute_input": "2023-04-27T04:53:22.073099Z",
     "iopub.status.busy": "2023-04-27T04:53:22.071753Z",
     "iopub.status.idle": "2023-04-27T04:53:22.076473Z",
     "shell.execute_reply": "2023-04-27T04:53:22.075632Z"
    },
    "papermill": {
     "duration": 0.055295,
     "end_time": "2023-04-27T04:53:22.078575",
     "exception": false,
     "start_time": "2023-04-27T04:53:22.023280",
     "status": "completed"
    },
    "tags": []
   },
   "outputs": [],
   "source": [
    "# sub.value_counts()"
   ]
  },
  {
   "cell_type": "code",
   "execution_count": 190,
   "id": "9a19546a",
   "metadata": {
    "execution": {
     "iopub.execute_input": "2023-04-27T04:53:22.176521Z",
     "iopub.status.busy": "2023-04-27T04:53:22.175546Z",
     "iopub.status.idle": "2023-04-27T04:53:22.181037Z",
     "shell.execute_reply": "2023-04-27T04:53:22.179901Z"
    },
    "papermill": {
     "duration": 0.057353,
     "end_time": "2023-04-27T04:53:22.183446",
     "exception": false,
     "start_time": "2023-04-27T04:53:22.126093",
     "status": "completed"
    },
    "scrolled": true,
    "tags": []
   },
   "outputs": [],
   "source": [
    "# y = y.to_numpy()\n",
    "\n",
    "# wrong_indices = []\n",
    "# for i in range(len(y)):\n",
    "#     if y[i] != y_pred[i]:\n",
    "#         wrong_indices.append(i)\n",
    "\n",
    "# print(\"Indices of wrongly predicted datapoints: \", wrong_indices)"
   ]
  },
  {
   "cell_type": "markdown",
   "id": "de79d6f4",
   "metadata": {
    "papermill": {
     "duration": 0.047208,
     "end_time": "2023-04-27T04:53:22.278515",
     "exception": false,
     "start_time": "2023-04-27T04:53:22.231307",
     "status": "completed"
    },
    "tags": []
   },
   "source": [
    "<h2>Appendix</h2>"
   ]
  },
  {
   "cell_type": "code",
   "execution_count": 191,
   "id": "b5015852",
   "metadata": {
    "execution": {
     "iopub.execute_input": "2023-04-27T04:53:22.374761Z",
     "iopub.status.busy": "2023-04-27T04:53:22.374367Z",
     "iopub.status.idle": "2023-04-27T04:53:22.379480Z",
     "shell.execute_reply": "2023-04-27T04:53:22.378423Z"
    },
    "papermill": {
     "duration": 0.056166,
     "end_time": "2023-04-27T04:53:22.381806",
     "exception": false,
     "start_time": "2023-04-27T04:53:22.325640",
     "status": "completed"
    },
    "tags": []
   },
   "outputs": [],
   "source": [
    "# # #Handling Imbalance\n",
    "# # from imblearn.over_sampling import SMOTE\n",
    "\n",
    "# # oversample = SMOTE()\n",
    "# # X_pre, y = oversample.fit_resample(X_pre,y)\n",
    "\n",
    "# from imblearn.over_sampling import SMOTENC\n",
    "# smote_nc = SMOTENC(categorical_features=[10,11,12,13,14,15,16,17,18,19,20],random_state=1)\n",
    "# X_pre, y = smote_nc.fit_resample(X_pre,y)\n",
    "\n",
    "\n",
    "# # print(type(X_pre))\n",
    "# # print(type(y))\n",
    "# # new_train_data = np.concatenate((X_pre,y.to_numpy()),axis=1)\n",
    "# # print(new_train_data.shape)\n",
    "# # np.savetxt('train_smotenc.csv',new_train_data,delimiter=',')\n",
    "# # # new_train_data.to_csv(\"train.csv\", encoding='utf-8')                 \n",
    "# # output = pd.read_csv(\"train_smotenc.csv\")\n"
   ]
  },
  {
   "cell_type": "code",
   "execution_count": 192,
   "id": "6a27e4e0",
   "metadata": {
    "execution": {
     "iopub.execute_input": "2023-04-27T04:53:22.478108Z",
     "iopub.status.busy": "2023-04-27T04:53:22.477488Z",
     "iopub.status.idle": "2023-04-27T04:53:22.484842Z",
     "shell.execute_reply": "2023-04-27T04:53:22.482848Z"
    },
    "papermill": {
     "duration": 0.058339,
     "end_time": "2023-04-27T04:53:22.487238",
     "exception": false,
     "start_time": "2023-04-27T04:53:22.428899",
     "status": "completed"
    },
    "tags": []
   },
   "outputs": [],
   "source": [
    "# X_train, X_test, y_train, y_test = train_test_split(X_pre, y, test_size=0.2, random_state=42)\n",
    "\n",
    "# # base_clf = DecisionTreeClassifier(max_depth=1)\n",
    "# # base_clf = LogisticRegression()\n",
    "# # base_clf = Perceptron()\n",
    "# base_clf = SVC()\n",
    "# base_clf.fit(X_train, y_train)\n",
    "\n",
    "\n",
    "# y_pred_base = base_clf.predict(X_test)\n",
    "# base_acc = accuracy_score(y_test, y_pred_base)\n",
    "\n",
    "\n",
    "# ada_clf = AdaBoostClassifier(base_estimator=DecisionTreeClassifier(max_depth=1), n_estimators=50, learning_rate=1)\n",
    "\n",
    "\n",
    "# ada_clf.fit(X_train, y_train)\n",
    "\n",
    "# y_pred_ada = ada_clf.predict(X_test)\n",
    "# ada_acc = accuracy_score(y_test, y_pred_ada)\n",
    "\n",
    "# print(\"Base classifier accuracy:\", base_acc)\n",
    "# print(\"Adaboost classifier accuracy:\", ada_acc)\n",
    "\n",
    "# precision, recall, thresholds = precision_recall_curve(y, y_pred)\n",
    "\n",
    "# plt.plot(recall, precision, color='b')\n",
    "# plt.xlabel('Recall')\n",
    "# plt.ylabel('Precision')\n",
    "# plt.show()"
   ]
  },
  {
   "cell_type": "code",
   "execution_count": 193,
   "id": "38b5e304",
   "metadata": {
    "execution": {
     "iopub.execute_input": "2023-04-27T04:53:22.584342Z",
     "iopub.status.busy": "2023-04-27T04:53:22.583317Z",
     "iopub.status.idle": "2023-04-27T04:53:22.588152Z",
     "shell.execute_reply": "2023-04-27T04:53:22.587342Z"
    },
    "papermill": {
     "duration": 0.0556,
     "end_time": "2023-04-27T04:53:22.590142",
     "exception": false,
     "start_time": "2023-04-27T04:53:22.534542",
     "status": "completed"
    },
    "tags": []
   },
   "outputs": [],
   "source": [
    "# column_names = X.columns.to_list()\n",
    "# #print(column_names)\n",
    "\n",
    "# for col in column_names:\n",
    "#   print(col, X[col].unique())\n",
    "\n",
    "# target_cols = ['Marital Status','Month_SeasonalPurchase','CustomerType','Gender','Cookies Setting','Education']\n",
    "\n",
    "# def my_encoder(X, target_cols):\n",
    "#   for a in target_cols:\n",
    "#     count = 0\n",
    "#     for b in X[a].unique():\n",
    "#       if type(b) == str:\n",
    "#         X[a] = X[a].replace(b,count)\n",
    "#         count += 1\n",
    "\n",
    "# my_encoder(X, target_cols)\n",
    "\n",
    "# column_names = X.columns.to_list()\n",
    "# #print(column_names)\n",
    "\n",
    "# for col in column_names:\n",
    "#   print(col, X[col].unique())\n",
    "\n",
    "# my_encoder(test_data, target_cols)\n",
    "\n",
    "# for col in column_names:\n",
    "#   print(col, test_imputed[col].unique())"
   ]
  },
  {
   "cell_type": "code",
   "execution_count": 194,
   "id": "53d0b6c4",
   "metadata": {
    "execution": {
     "iopub.execute_input": "2023-04-27T04:53:22.687116Z",
     "iopub.status.busy": "2023-04-27T04:53:22.686382Z",
     "iopub.status.idle": "2023-04-27T04:53:22.691485Z",
     "shell.execute_reply": "2023-04-27T04:53:22.690461Z"
    },
    "papermill": {
     "duration": 0.056309,
     "end_time": "2023-04-27T04:53:22.693822",
     "exception": false,
     "start_time": "2023-04-27T04:53:22.637513",
     "status": "completed"
    },
    "tags": []
   },
   "outputs": [],
   "source": [
    "# X.columns\n",
    "\n",
    "# X.iloc[:,11].unique()\n",
    "\n",
    "# X['OS'].unique()\n",
    "\n",
    "# sub.value_counts()\n",
    "\n",
    "# X.OS\n",
    "# os.remove(\"/kaggle/working/file_name.csv\")\n",
    "# X.columns\n",
    "# type(X.columns)\n",
    "# col_list = train_data.columns.values.tolist()\n",
    "# print(col_list)\n",
    "# type(col_list)\n",
    "# train_data.isna()\n",
    "# train_data.dtypes\n",
    "# train_data.isna().sum()\n",
    "# train_data.HomePage.unique()\n",
    "\n",
    "\n",
    "# for x in col_list:\n",
    "#     #print('?' in train_data[x].unique())\n",
    "#     print(train_data[x].unique())\n",
    "\n",
    "# from sklearn.impute import SimpleImputer\n",
    "# imputer = SimpleImputer(strategy=\"most_frequent\")\n",
    "# imputed_train_data = imputer.fit_transform(train_data)\n",
    "\n",
    "# imputed_train_data[0]\n",
    "\n",
    "# test_data.isna().sum()\n",
    "\n",
    "# imputed_train_data.dtype\n",
    "\n",
    "# from sklearn.impute import SimpleImputer\n",
    "# imputer = SimpleImputer(strategy=\"most_frequent\")\n",
    "# X_i = imputer.fit_transform(X)\n",
    "\n",
    "# sub = pd.DataFrame(model.predict(T_i), columns=['Made_Purchase'])\n",
    "# sub.index.name = 'id'\n",
    "# sub.to_csv(\"submission.csv\", encoding='utf-8')\n",
    "\n",
    "# output = pd.read_csv(\"submission.csv\")\n",
    "\n",
    "# sub.value_counts()"
   ]
  },
  {
   "cell_type": "code",
   "execution_count": 195,
   "id": "c448cf31",
   "metadata": {
    "execution": {
     "iopub.execute_input": "2023-04-27T04:53:22.791766Z",
     "iopub.status.busy": "2023-04-27T04:53:22.790493Z",
     "iopub.status.idle": "2023-04-27T04:53:22.795988Z",
     "shell.execute_reply": "2023-04-27T04:53:22.795156Z"
    },
    "papermill": {
     "duration": 0.056745,
     "end_time": "2023-04-27T04:53:22.798291",
     "exception": false,
     "start_time": "2023-04-27T04:53:22.741546",
     "status": "completed"
    },
    "tags": []
   },
   "outputs": [],
   "source": [
    "# # Dummy Submission\n",
    "\n",
    "# from sklearn.dummy import DummyClassifier\n",
    "# X = train_data[\"ProductDescriptionPage_Duration\"]\n",
    "# y = train_data[\"Made_Purchase\"]\n",
    "\n",
    "# dummy_clf = DummyClassifier(strategy=\"most_frequent\")\n",
    "# dummy_clf.fit(X, y)\n",
    "# DummyClassifier(strategy='most_frequent')\n",
    "# dummy_clf.predict(X)\n",
    "\n",
    "# sub = pd.DataFrame(dummy_clf.predict(test_data[\"ProductDescriptionPage_Duration\"]), columns=['Made_Purchase'])\n",
    "# sub.index.name = 'id'\n",
    "# sub.to_csv(\"submission.csv\", encoding='utf-8')\n",
    "\n",
    "# output = pd.read_csv(\"submission.csv\")"
   ]
  }
 ],
 "metadata": {
  "kernelspec": {
   "display_name": "Python 3",
   "language": "python",
   "name": "python3"
  },
  "language_info": {
   "codemirror_mode": {
    "name": "ipython",
    "version": 3
   },
   "file_extension": ".py",
   "mimetype": "text/x-python",
   "name": "python",
   "nbconvert_exporter": "python",
   "pygments_lexer": "ipython3",
   "version": "3.7.12"
  },
  "papermill": {
   "default_parameters": {},
   "duration": 311.05433,
   "end_time": "2023-04-27T04:53:23.670097",
   "environment_variables": {},
   "exception": null,
   "input_path": "__notebook__.ipynb",
   "output_path": "__notebook__.ipynb",
   "parameters": {},
   "start_time": "2023-04-27T04:48:12.615767",
   "version": "2.3.4"
  }
 },
 "nbformat": 4,
 "nbformat_minor": 5
}
